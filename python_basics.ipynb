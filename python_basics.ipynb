{
  "nbformat": 4,
  "nbformat_minor": 0,
  "metadata": {
    "colab": {
      "name": "python_basics.ipynb",
      "provenance": [],
      "collapsed_sections": [],
      "authorship_tag": "ABX9TyMCB8tDIrpAYsgBUE0mF4C7"
    },
    "kernelspec": {
      "name": "python3",
      "display_name": "Python 3"
    },
    "language_info": {
      "name": "python"
    }
  },
  "cells": [
    {
      "cell_type": "code",
      "execution_count": null,
      "metadata": {
        "colab": {
          "base_uri": "https://localhost:8080/"
        },
        "id": "gtkUp6TaTMZt",
        "outputId": "3045da93-abad-4aa6-8962-c410bdd2c153"
      },
      "outputs": [
        {
          "output_type": "stream",
          "name": "stdout",
          "text": [
            "Python Learning\n"
          ]
        }
      ],
      "source": [
        "print(\"Python Learning\")"
      ]
    },
    {
      "cell_type": "markdown",
      "source": [
        "Python uses indentation to indicate a block of code.\n"
      ],
      "metadata": {
        "id": "V1MptXecYcmR"
      }
    },
    {
      "cell_type": "code",
      "source": [
        "#This is a comment\n",
        "print(\"# is used to comment a line\")"
      ],
      "metadata": {
        "colab": {
          "base_uri": "https://localhost:8080/"
        },
        "id": "PR6IbL8JY7qY",
        "outputId": "4c3986e5-71f0-4de6-c9ed-82c2876ed3f3"
      },
      "execution_count": null,
      "outputs": [
        {
          "output_type": "stream",
          "name": "stdout",
          "text": [
            "# is used to comment a line\n"
          ]
        }
      ]
    },
    {
      "cell_type": "code",
      "source": [
        "#This is a comment\n",
        "#written in\n",
        "#more than just one line\n",
        "print(\"To add a multiline comment you could insert a # for each line , Since Python will ignore string literals '\\n'that are not assigned to a variable,you can add a multiline string (triple quotes) in your code, and place your comment inside it\")"
      ],
      "metadata": {
        "colab": {
          "base_uri": "https://localhost:8080/"
        },
        "id": "RMIfaEz1Y_ZC",
        "outputId": "47bca806-070e-4415-e964-7a4a0756ab95"
      },
      "execution_count": null,
      "outputs": [
        {
          "output_type": "stream",
          "name": "stdout",
          "text": [
            "To add a multiline comment you could insert a # for each line , Since Python will ignore string literals '\n",
            "'that are not assigned to a variable,you can add a multiline string (triple quotes) in your code, and place your comment inside it\n"
          ]
        }
      ]
    },
    {
      "cell_type": "markdown",
      "source": [
        "Variables are containers for storing data values.\n",
        "Python has no command for declaring a variable.\n",
        "\n",
        "A variable is created the moment you first assign a value to it.\n",
        "Variables do not need to be declared with any particular type, and can even change type after they have been set."
      ],
      "metadata": {
        "id": "JCYGLax2Zj9K"
      }
    },
    {
      "cell_type": "code",
      "source": [
        "x = 4       # x is of type int\n",
        "print(x)\n",
        "x = \"String\" # x is now of type str\n",
        "print(x)"
      ],
      "metadata": {
        "colab": {
          "base_uri": "https://localhost:8080/"
        },
        "id": "CYS37kXRZXBW",
        "outputId": "484cd36c-c8b4-4911-e24d-601259a0223c"
      },
      "execution_count": null,
      "outputs": [
        {
          "output_type": "stream",
          "name": "stdout",
          "text": [
            "4\n",
            "String\n"
          ]
        }
      ]
    },
    {
      "cell_type": "code",
      "source": [
        "#If you want to specify the data type of a variable, this can be done with casting.\n",
        "x = str(3)    # x will be '3'\n",
        "y = int(3)    # y will be 3\n",
        "z = float(3)  # z will be 3.0 "
      ],
      "metadata": {
        "id": "ZtOGVOnhZ3NR"
      },
      "execution_count": null,
      "outputs": []
    },
    {
      "cell_type": "code",
      "source": [
        "print(x)\n",
        "print(y)\n",
        "print(z)"
      ],
      "metadata": {
        "colab": {
          "base_uri": "https://localhost:8080/"
        },
        "id": "Wpc1wyc2Z_sB",
        "outputId": "2538847a-5f01-48c9-ce6f-e76c92b5e723"
      },
      "execution_count": null,
      "outputs": [
        {
          "output_type": "stream",
          "name": "stdout",
          "text": [
            "3\n",
            "3\n",
            "3.0\n"
          ]
        }
      ]
    },
    {
      "cell_type": "code",
      "source": [
        "#You can get the data type of a variable with the type() function.\n",
        "x = 10\n",
        "y = \"String\"\n",
        "print(type(x))\n",
        "print(type(y))"
      ],
      "metadata": {
        "colab": {
          "base_uri": "https://localhost:8080/"
        },
        "id": "71-jdzd5aHea",
        "outputId": "08b7e1e5-4086-4b9d-ea8a-6c6f224a61ac"
      },
      "execution_count": null,
      "outputs": [
        {
          "output_type": "stream",
          "name": "stdout",
          "text": [
            "<class 'int'>\n",
            "<class 'str'>\n"
          ]
        }
      ]
    },
    {
      "cell_type": "code",
      "source": [
        "#Variable names are case-sensitive.\n",
        "a = 4\n",
        "A = \"Sally\"\n",
        "#A will not overwrite a \n",
        "print(a)\n",
        "print(A)"
      ],
      "metadata": {
        "colab": {
          "base_uri": "https://localhost:8080/"
        },
        "id": "hDxkXO7vaU70",
        "outputId": "e969b2f3-ea0e-42a1-ba24-973d3729d6fd"
      },
      "execution_count": null,
      "outputs": [
        {
          "output_type": "stream",
          "name": "stdout",
          "text": [
            "4\n",
            "Sally\n"
          ]
        }
      ]
    },
    {
      "cell_type": "code",
      "source": [
        "# A variable name must start with a letter or the underscore character\n",
        "# A variable name cannot start with a number\n",
        "# A variable name can only contain alpha-numeric characters and underscores (A-z, 0-9, and _ )\n",
        "# Variable names are case-sensitive (age, Age and AGE are three different variables)\n",
        "myvar = \"John\"\n",
        "my_var = \"John\"\n",
        "_my_var = \"John\"\n",
        "myVar = \"John\"\n",
        "MYVAR = \"John\"\n",
        "myvar2 = \"John\""
      ],
      "metadata": {
        "id": "RNdmUcJFaxCO"
      },
      "execution_count": null,
      "outputs": []
    },
    {
      "cell_type": "code",
      "source": [
        "# Python allows you to assign values to multiple variables in one line\n",
        "x, y, z = \"Orange\", \"Banana\", \"Cherry\"\n",
        "print(x)\n",
        "print(y)\n",
        "print(z)"
      ],
      "metadata": {
        "colab": {
          "base_uri": "https://localhost:8080/"
        },
        "id": "jmqB9lbLbTUh",
        "outputId": "ecf10dca-3047-454c-fa2a-564b56b108c4"
      },
      "execution_count": null,
      "outputs": [
        {
          "output_type": "stream",
          "name": "stdout",
          "text": [
            "Orange\n",
            "Banana\n",
            "Cherry\n"
          ]
        }
      ]
    },
    {
      "cell_type": "code",
      "source": [
        "# you can assign the same value to multiple variables in one line\n",
        "x = y = z = \"Orange\"\n",
        "print(x)\n",
        "print(y)\n",
        "print(z)"
      ],
      "metadata": {
        "colab": {
          "base_uri": "https://localhost:8080/"
        },
        "id": "zsGPYwCHbfuE",
        "outputId": "959e426e-2ef2-4a02-8e4f-e8d8597ae1be"
      },
      "execution_count": null,
      "outputs": [
        {
          "output_type": "stream",
          "name": "stdout",
          "text": [
            "Orange\n",
            "Orange\n",
            "Orange\n"
          ]
        }
      ]
    },
    {
      "cell_type": "code",
      "source": [
        "# If you have a collection of values in a list, tuple etc. Python allows you extract the values into variables. This is called unpacking.\n",
        "fruits = [\"apple\", \"banana\", \"cherry\"]\n",
        "x, y, z = fruits\n",
        "print(x)\n",
        "print(y)\n",
        "print(z)"
      ],
      "metadata": {
        "colab": {
          "base_uri": "https://localhost:8080/"
        },
        "id": "eqHmfS4kbuPj",
        "outputId": "6ce16c10-eded-47b6-cd53-31efb6252ad9"
      },
      "execution_count": null,
      "outputs": [
        {
          "output_type": "stream",
          "name": "stdout",
          "text": [
            "apple\n",
            "banana\n",
            "cherry\n"
          ]
        }
      ]
    },
    {
      "cell_type": "code",
      "source": [
        "# To combine both text and a variable, Python uses the + character\n",
        "x = \"awesome\"\n",
        "print(\"Python is \" + x)\n",
        "x = \"Python is \"\n",
        "y = \"awesome\"\n",
        "z =  x + y\n",
        "print(z)\n",
        "x = 5\n",
        "y = 10\n",
        "print(x + y)\n",
        "x = 5\n",
        "y = \"John\"\n",
        "print(x + y) #this generates error"
      ],
      "metadata": {
        "colab": {
          "base_uri": "https://localhost:8080/",
          "height": 254
        },
        "id": "W1MZJ9pFb1Ui",
        "outputId": "76d01825-8c5c-403f-d111-c140b108a3ad"
      },
      "execution_count": null,
      "outputs": [
        {
          "output_type": "stream",
          "name": "stdout",
          "text": [
            "Python is awesome\n",
            "Python is awesome\n",
            "15\n"
          ]
        },
        {
          "output_type": "error",
          "ename": "TypeError",
          "evalue": "ignored",
          "traceback": [
            "\u001b[0;31m---------------------------------------------------------------------------\u001b[0m",
            "\u001b[0;31mTypeError\u001b[0m                                 Traceback (most recent call last)",
            "\u001b[0;32m<ipython-input-19-347437b81e18>\u001b[0m in \u001b[0;36m<module>\u001b[0;34m()\u001b[0m\n\u001b[1;32m     11\u001b[0m \u001b[0mx\u001b[0m \u001b[0;34m=\u001b[0m \u001b[0;36m5\u001b[0m\u001b[0;34m\u001b[0m\u001b[0;34m\u001b[0m\u001b[0m\n\u001b[1;32m     12\u001b[0m \u001b[0my\u001b[0m \u001b[0;34m=\u001b[0m \u001b[0;34m\"John\"\u001b[0m\u001b[0;34m\u001b[0m\u001b[0;34m\u001b[0m\u001b[0m\n\u001b[0;32m---> 13\u001b[0;31m \u001b[0mprint\u001b[0m\u001b[0;34m(\u001b[0m\u001b[0mx\u001b[0m \u001b[0;34m+\u001b[0m \u001b[0my\u001b[0m\u001b[0;34m)\u001b[0m\u001b[0;34m\u001b[0m\u001b[0;34m\u001b[0m\u001b[0m\n\u001b[0m",
            "\u001b[0;31mTypeError\u001b[0m: unsupported operand type(s) for +: 'int' and 'str'"
          ]
        }
      ]
    },
    {
      "cell_type": "code",
      "source": [
        "# Normally, when you create a variable inside a function, that variable is local, and can only be used inside that function.\n",
        "# To create a global variable inside a function, you can use the global keyword.\n",
        "def myfunc():\n",
        "  global x\n",
        "  x = \"variable declared as global inside a function\"\n",
        "\n",
        "myfunc()\n",
        "\n",
        "print(\"Gloabl varibale inside function \" + x) "
      ],
      "metadata": {
        "colab": {
          "base_uri": "https://localhost:8080/"
        },
        "id": "J2dp-47scsXs",
        "outputId": "45123b22-74de-449e-ee3b-ffdafb1f56fc"
      },
      "execution_count": null,
      "outputs": [
        {
          "output_type": "stream",
          "name": "stdout",
          "text": [
            "Gloabl varibale inside function variable declared as global inside a function\n"
          ]
        }
      ]
    },
    {
      "cell_type": "code",
      "source": [
        "# To change the value of a global variable inside a function, refer to the variable by using the global keyword\n",
        "x = \"global\"\n",
        "\n",
        "def myfunc():\n",
        "  global x\n",
        "  x = \"global variable value changed inside function \"\n",
        "\n",
        "myfunc()\n",
        "\n",
        "print(\"Variable X is global variable but  \" + x) "
      ],
      "metadata": {
        "colab": {
          "base_uri": "https://localhost:8080/"
        },
        "id": "Q6bc5OdldUMn",
        "outputId": "35d9edd5-ce31-4e2d-91b3-93e577fe35d3"
      },
      "execution_count": null,
      "outputs": [
        {
          "output_type": "stream",
          "name": "stdout",
          "text": [
            "Variable X is global variable but  global variable value changed inside function \n"
          ]
        }
      ]
    },
    {
      "cell_type": "markdown",
      "source": [
        "**Variables can store data of different types, and different types can do different things.**\n",
        "\n",
        "Python has the following data types built-in by default, in these categories:\n",
        "Text Type: \tstr\n",
        "\n",
        "Numeric Types: \tint, float, complex\n",
        "\n",
        "Sequence Types: \tlist, tuple, range\n",
        "\n",
        "Mapping Type: \tdict\n",
        "\n",
        "Set Types: \tset, frozenset\n",
        "\n",
        "Boolean Type: \tbool\n",
        "\n",
        "Binary Types: \tbytes, bytearray, memoryview"
      ],
      "metadata": {
        "id": "kZGpg4qihRJ9"
      }
    },
    {
      "cell_type": "code",
      "source": [
        "#examples\n",
        "x = b\"Hello\"\n",
        "print(x)"
      ],
      "metadata": {
        "colab": {
          "base_uri": "https://localhost:8080/"
        },
        "id": "7T6Pd8Nbdj0D",
        "outputId": "e050723c-9166-4415-80e8-8f1766847f8b"
      },
      "execution_count": null,
      "outputs": [
        {
          "output_type": "stream",
          "name": "stdout",
          "text": [
            "b'Hello'\n"
          ]
        }
      ]
    },
    {
      "cell_type": "code",
      "source": [
        "x = frozenset({\"apple\", \"banana\", \"cherry\"})\n",
        "x"
      ],
      "metadata": {
        "colab": {
          "base_uri": "https://localhost:8080/"
        },
        "id": "ofZz5sSxhklz",
        "outputId": "7d73abee-a486-4fba-8aba-669f594bbccb"
      },
      "execution_count": null,
      "outputs": [
        {
          "output_type": "execute_result",
          "data": {
            "text/plain": [
              "frozenset({'apple', 'banana', 'cherry'})"
            ]
          },
          "metadata": {},
          "execution_count": 29
        }
      ]
    },
    {
      "cell_type": "code",
      "source": [
        "# Python does not have a random() function to make a random number, but Python has a built-in module called random that can be used to make random numbers\n",
        "import random\n",
        "\n",
        "print(random.randrange(1, 10)) "
      ],
      "metadata": {
        "colab": {
          "base_uri": "https://localhost:8080/"
        },
        "id": "xtNNb15LhtjQ",
        "outputId": "e6b42106-e3be-4d1e-8258-bc1a28fd9280"
      },
      "execution_count": null,
      "outputs": [
        {
          "output_type": "stream",
          "name": "stdout",
          "text": [
            "1\n"
          ]
        }
      ]
    },
    {
      "cell_type": "markdown",
      "source": [
        "***List***"
      ],
      "metadata": {
        "id": "8t-v4flgiLCy"
      }
    },
    {
      "cell_type": "markdown",
      "source": [
        "Lists are used to store multiple items in a single variable.\n",
        "Lists are one of 4 built-in data types in Python used to store collections of data, the other 3 are Tuple, Set, and Dictionary, all with different qualities and usage.\n",
        "\n",
        "Lists are created using square brackets."
      ],
      "metadata": {
        "id": "vUa-m_yciQ-B"
      }
    },
    {
      "cell_type": "code",
      "source": [
        "thislist = [\"apple\", \"banana\", \"cherry\"]\n",
        "print(thislist)"
      ],
      "metadata": {
        "colab": {
          "base_uri": "https://localhost:8080/"
        },
        "id": "_k08jeTeh_Yb",
        "outputId": "d44213c8-b743-44e0-a588-c745e67374b9"
      },
      "execution_count": null,
      "outputs": [
        {
          "output_type": "stream",
          "name": "stdout",
          "text": [
            "['apple', 'banana', 'cherry']\n"
          ]
        }
      ]
    },
    {
      "cell_type": "code",
      "source": [
        "# List items are ordered, changeable, and allow duplicate values.\n",
        "# List items are indexed, the first item has index [0], the second item has index [1] etc.\n",
        "\n",
        "print(\"***** Add item using append() :\")\n",
        "# If you add new items to a list, the new items will be placed at the end of the list.\n",
        "# To add an item to the end of the list, use the append() method\n",
        "thislist = [\"apple\", \"banana\", \"cherry\"]\n",
        "thislist.append(\"orange\")\n",
        "print(thislist)\n",
        "# To append elements from another list to the current list, use the extend() method.\n",
        "print(\"***** Add list to another list using extend() :\")\n",
        "thislist = [\"apple\", \"banana\", \"cherry\"]\n",
        "tropical = [\"mango\", \"pineapple\", \"papaya\"]\n",
        "thislist.extend(tropical)\n",
        "print(thislist)\n",
        "# The extend() method does not have to append lists, you can add any iterable object (tuples, sets, dictionaries etc.)\n",
        "print(\"***** Add items from any sequence to list using extend() :\")\n",
        "thislist = [\"apple\", \"banana\", \"cherry\"]\n",
        "thistuple = (\"kiwi\", \"orange\")\n",
        "thislist.extend(thistuple)\n",
        "print(thislist)\n",
        "\n",
        "\n",
        "# The list is changeable, meaning that we can change, add, and remove items in a list after it has been created.\n",
        "# To change the value of a specific item, refer to the index number\n",
        "print(\"***** Change item using index number :\")\n",
        "thislist = [\"apple\", \"banana\", \"cherry\"]\n",
        "thislist[1] = \"blackcurrant\"\n",
        "print(thislist)\n",
        "# To change the value of items within a specific range, define a list with the new values, and refer to the range of index numbers where you want to insert the new values\n",
        "print(\"***** Replace item using index range :\")\n",
        "thislist = [\"apple\", \"banana\", \"cherry\", \"orange\", \"kiwi\", \"mango\"]\n",
        "thislist[1:3] = [\"blackcurrant\", \"watermelon\"]\n",
        "print(thislist)\n",
        "# If you insert more items than you replace, the new items will be inserted where you specified, and the remaining items will move accordingly\n",
        "print(\"***** Replace item using index range and add element if more items than inserted than number of items replaced :\")\n",
        "thislist = [\"apple\", \"banana\", \"cherry\"]\n",
        "thislist[1:2] = [\"blackcurrant\", \"watermelon\"]\n",
        "# print(thislist) If you insert less items than you replace, the new items will be inserted where you specified, and the remaining items will move accordingly\n",
        "print(\"***** Replace item and shift list :\")\n",
        "thislist = [\"apple\", \"banana\", \"cherry\"]\n",
        "thislist[1:3] = [\"watermelon\"]\n",
        "print(thislist) \n",
        "# To insert a new list item, without replacing any of the existing values, we can use the insert() method.\n",
        "# The insert() method inserts an item at the specified index\n",
        "print(\"***** Change item using insert() :\")\n",
        "thislist = [\"apple\", \"banana\", \"cherry\"]\n",
        "thislist.insert(2, \"watermelon\")\n",
        "print(thislist)\n",
        "\n",
        "# The remove() method removes the specified item.\n",
        "print(\"***** Remove element using remove() - using element value :\")\n",
        "thislist = [\"apple\", \"banana\", \"cherry\"]\n",
        "thislist.remove(\"banana\")\n",
        "print(thislist)\n",
        "# The pop() method removes the specified index.\n",
        "print(\"***** Remove element using pop() - using index number to be removed :\")\n",
        "thislist = [\"apple\", \"banana\", \"cherry\"]\n",
        "thislist.pop(1)\n",
        "print(thislist)\n",
        "# If you do not specify the index, the pop() method removes the last item.\n",
        "print(\"***** Remove element using pop() - last element:\")\n",
        "thislist = [\"apple\", \"banana\", \"cherry\"]\n",
        "thislist.pop()\n",
        "print(thislist)\n",
        "# The del keyword also removes the specified index\n",
        "print(\"***** Delete element using 'del' keyword and index:\")\n",
        "thislist = [\"apple\", \"banana\", \"cherry\"]\n",
        "del thislist[0]\n",
        "print(thislist)\n",
        "# The del keyword can also delete the list completely.\n",
        "print(\"***** delete list:\")\n",
        "thislist = [\"apple\", \"banana\", \"cherry\"]\n",
        "del thislist \n",
        "# The clear() method empties the list.\n",
        "# The list still remains, but it has no content.\n",
        "print(\"Clear list items, but preserve list name\")\n",
        "thislist = [\"apple\", \"banana\", \"cherry\"]\n",
        "thislist.clear()\n",
        "print(thislist)\n",
        "\n",
        "\n",
        "\n",
        "\n",
        "# Since lists are indexed, lists can have items with the same value\n",
        "# List items are indexed and you can access them by referring to the index number\n",
        "thislist = [\"apple\", \"banana\", \"cherry\"]\n",
        "print(thislist[1])\n",
        "# Negative indexing\n",
        "print(thislist[-1])\n",
        "# You can specify a range of indexes by specifying where to start and where to end the range.\n",
        "# When specifying a range, the return value will be a new list with the specified items.\n",
        "thislist = [\"apple\", \"banana\", \"cherry\", \"orange\", \"kiwi\", \"melon\", \"mango\"]\n",
        "print(thislist[2:5])\n",
        "# By leaving out the start value, the range will start at the first item\n",
        "print(thislist[:4])\n",
        "# By leaving out the end value, the range will go on to the end of the list\n",
        "print(thislist[2:])\n",
        "# Specify negative indexes if you want to start the search from the end of the list\n",
        "print(thislist[-4:-1])\n",
        "# To determine if a specified item is present in a list use the in keyword\n",
        "if \"apple\" in thislist:\n",
        "  print(\"Yes, 'apple' is in the fruits list\") \n",
        "\n",
        "\n",
        "# To determine how many items a list has, use the len() function\n",
        "print(len(thislist))\n",
        "\n",
        "# A list can contain different data types\n",
        "list1 = [\"abc\", 34, True, 40, \"male\"]\n",
        "print(list1)\n",
        "\n",
        "# It is also possible to use the list() constructor when creating a new list.\n",
        "list2 = list((\"apple\", \"banana\", \"cherry\")) # note the double round-brackets\n",
        "print(list2)\n",
        "\n",
        "\n"
      ],
      "metadata": {
        "colab": {
          "base_uri": "https://localhost:8080/"
        },
        "id": "MM0SdJhQiY3K",
        "outputId": "fbd1b45c-6153-4a14-b22e-3fb3f1fad016"
      },
      "execution_count": null,
      "outputs": [
        {
          "output_type": "stream",
          "name": "stdout",
          "text": [
            "***** Add item using append() :\n",
            "['apple', 'banana', 'cherry', 'orange']\n",
            "***** Add list to another list using extend() :\n",
            "['apple', 'banana', 'cherry', 'mango', 'pineapple', 'papaya']\n",
            "***** Add items from any sequence to list using extend() :\n",
            "['apple', 'banana', 'cherry', 'kiwi', 'orange']\n",
            "***** Change item using index number :\n",
            "['apple', 'blackcurrant', 'cherry']\n",
            "***** Replace item using index range :\n",
            "['apple', 'blackcurrant', 'watermelon', 'orange', 'kiwi', 'mango']\n",
            "***** Replace item using index range and add element if more items than inserted than number of items replaced :\n",
            "***** Replace item and shift list :\n",
            "['apple', 'watermelon']\n",
            "***** Change item using insert() :\n",
            "['apple', 'banana', 'watermelon', 'cherry']\n",
            "***** Remove element using remove() - using element value :\n",
            "['apple', 'cherry']\n",
            "***** Remove element using pop() - using index number to be removed :\n",
            "['apple', 'cherry']\n",
            "***** Remove element using pop() - last element:\n",
            "['apple', 'banana']\n",
            "***** Delete element using 'del' keyword and index:\n",
            "['banana', 'cherry']\n",
            "***** delete list:\n",
            "Clear list items, but preserve list name\n",
            "[]\n",
            "banana\n",
            "cherry\n",
            "['cherry', 'orange', 'kiwi']\n",
            "['apple', 'banana', 'cherry', 'orange']\n",
            "['cherry', 'orange', 'kiwi', 'melon', 'mango']\n",
            "['orange', 'kiwi', 'melon']\n",
            "Yes, 'apple' is in the fruits list\n",
            "7\n",
            "['abc', 34, True, 40, 'male']\n",
            "['apple', 'banana', 'cherry']\n"
          ]
        }
      ]
    },
    {
      "cell_type": "code",
      "source": [
        "# You can loop through the list items by using a for loop\n",
        "print(\"***** You can loop through the list items by using a for loop :\")\n",
        "thislist = [\"apple\", \"banana\", \"cherry\"]\n",
        "for x in thislist:\n",
        "  print(x) \n",
        "\n",
        "# You can also loop through the list items by referring to their index number.\n",
        "# Use the range() and len() functions to create a suitable iterable.\n",
        "print(\"***** You can loop through the list items by using index numbers :\")\n",
        "thislist = [\"apple\", \"banana\", \"cherry\"]\n",
        "for i in range(len(thislist)):\n",
        "  print(thislist[i]) \n",
        "\n",
        "# You can loop through the list items by using a while loop.\n",
        "# Use the len() function to determine the length of the list, then start at 0 and loop your way through the list items by refering to their indexes.\n",
        "# Increase the index by 1 after each iteration.\n",
        "print(\"***** You can loop through the list items by using a while loop :\")\n",
        "thislist = [\"apple\", \"banana\", \"cherry\"]\n",
        "i = 0\n",
        "while i < len(thislist):\n",
        "  print(thislist[i])\n",
        "  i = i + 1\n",
        "\n",
        "# List Comprehension offers the shortest syntax for looping through lists\n",
        "print(\"***** You can loop through the list items by using list comprehension:\")\n",
        "thislist = [\"apple\", \"banana\", \"cherry\"]\n",
        "[print(x) for x in thislist]"
      ],
      "metadata": {
        "colab": {
          "base_uri": "https://localhost:8080/"
        },
        "id": "KoIYrckVkLit",
        "outputId": "c08e1fd2-a210-4cee-9bb1-659a457dcd40"
      },
      "execution_count": null,
      "outputs": [
        {
          "output_type": "stream",
          "name": "stdout",
          "text": [
            "***** You can loop through the list items by using a for loop :\n",
            "apple\n",
            "banana\n",
            "cherry\n",
            "***** You can loop through the list items by using index numbers :\n",
            "apple\n",
            "banana\n",
            "cherry\n",
            "***** You can loop through the list items by using a while loop :\n",
            "apple\n",
            "banana\n",
            "cherry\n",
            "***** You can loop through the list items by using list comprehension:\n",
            "apple\n",
            "banana\n",
            "cherry\n"
          ]
        },
        {
          "output_type": "execute_result",
          "data": {
            "text/plain": [
              "[None, None, None]"
            ]
          },
          "metadata": {},
          "execution_count": 40
        }
      ]
    },
    {
      "cell_type": "markdown",
      "source": [
        "**List Comprehension**"
      ],
      "metadata": {
        "id": "cvmECy5OazPT"
      }
    },
    {
      "cell_type": "code",
      "source": [
        "# List comprehension offers a shorter syntax when you want to create a new list based on the values of an existing list.\n",
        "print(\"*** create new list from existing list using list comprehension **** \")\n",
        "\n",
        "# Based on a list of fruits, you want a new list, containing only the fruits with the letter \"a\" in the name.\n",
        "\n",
        "# using for loop\n",
        "fruits = [\"apple\", \"banana\", \"cherry\", \"kiwi\", \"mango\"]\n",
        "newlist = []\n",
        "\n",
        "for x in fruits:\n",
        "  if \"a\" in x:\n",
        "    newlist.append(x)\n",
        "\n",
        "print(newlist)\n",
        "\n",
        "\n",
        "# using list comprehension\n",
        "# Syntax :      newlist = [expression for item in iterable if condition == True]\n",
        "fruits = [\"apple\", \"banana\", \"cherry\", \"kiwi\", \"mango\"]\n",
        "\n",
        "newlist = [x for x in fruits if \"a\" in x]\n",
        "\n",
        "# print(newlist) "
      ],
      "metadata": {
        "id": "-lGDX9-EnN3d",
        "colab": {
          "base_uri": "https://localhost:8080/"
        },
        "outputId": "4d42a8dd-093f-40df-b379-781f93a7f4ca"
      },
      "execution_count": null,
      "outputs": [
        {
          "output_type": "stream",
          "name": "stdout",
          "text": [
            "*** create new list from existing list using list comprehension **** \n",
            "['apple', 'banana', 'mango']\n"
          ]
        }
      ]
    },
    {
      "cell_type": "markdown",
      "source": [
        "The condition is like a filter that only accepts the items that evaluate to True.\n",
        "\n",
        "newlist = [x for x in fruits if x != \"apple\"] \n",
        "\n",
        "The condition is optional and can be omitted:\n",
        "\n",
        "newlist = [x for x in fruits]\n",
        "\n",
        "The iterable can be any iterable object, like a list, tuple, set etc.\n",
        "\n",
        "You can use the range() function to create an iterable--\n",
        "\n",
        "newlist = [x for x in range(10)] \n",
        "\n",
        "newlist = [x for x in range(10) if x < 5]  #with condition\n",
        "\n",
        "The expression is the current item in the iteration, but it is also the outcome, which you can manipulate before it ends up like a list item in the new list\n",
        "\n",
        "newlist = [x.upper() for x in fruits]\n",
        "\n",
        "You can set the outcome to whatever you like\n",
        "\n",
        "newlist = ['hello' for x in fruits]\n",
        "\n",
        "The expression can also contain conditions, not like a filter, but as a way to manipulate the outcome\n",
        "\n",
        "newlist = [x if x != \"banana\" else \"orange\" for x in fruits]"
      ],
      "metadata": {
        "id": "AYC3WUWNcW0t"
      }
    },
    {
      "cell_type": "code",
      "source": [
        "# Sort()\n",
        "\n",
        "# List objects have a sort() method that will sort the list alphanumerically, ascending, by default\n",
        "print(\"********* Sorting list *********\")\n",
        "thislist = [\"orange\", \"mango\", \"kiwi\", \"pineapple\", \"banana\"]\n",
        "thislist.sort()\n",
        "print(thislist)\n",
        "\n",
        "\n",
        "# Sort the list numerically\n",
        "print(\"***********Sort the list numerically*********\")\n",
        "thislist = [100, 50, 65, 82, 23]\n",
        "thislist.sort()\n",
        "print(thislist)\n",
        "\n",
        "# To sort descending, use the keyword argument reverse = True\n",
        "print(\"********** Sort in descending order**********\")\n",
        "thislist = [\"orange\", \"mango\", \"kiwi\", \"pineapple\", \"banana\"]\n",
        "thislist.sort(reverse = True)\n",
        "print(thislist)"
      ],
      "metadata": {
        "colab": {
          "base_uri": "https://localhost:8080/"
        },
        "id": "0x4f9irobW5x",
        "outputId": "73771744-8eca-4265-f3e5-0ad902d83fa0"
      },
      "execution_count": null,
      "outputs": [
        {
          "output_type": "stream",
          "name": "stdout",
          "text": [
            "********* Sorting list *********\n",
            "['banana', 'kiwi', 'mango', 'orange', 'pineapple']\n",
            "***********Sort the list numerically*********\n",
            "[23, 50, 65, 82, 100]\n",
            "********** Sort in descending order**********\n",
            "['pineapple', 'orange', 'mango', 'kiwi', 'banana']\n"
          ]
        }
      ]
    },
    {
      "cell_type": "markdown",
      "source": [
        "You can also customize your own function by using the keyword argument key = function.\n",
        "\n",
        "The function will return a number that will be used to sort the list (the lowest number first)"
      ],
      "metadata": {
        "id": "0Mfc9O2yeB-Q"
      }
    },
    {
      "cell_type": "code",
      "source": [
        "# Sort the list based on how close the number is to 50\n",
        "def myfunc(n):\n",
        "  return abs(n - 50)\n",
        "\n",
        "thislist = [100, 50, 65, 82, 23]\n",
        "print(\"Original List\")\n",
        "print(thislist)\n",
        "thislist.sort(key = myfunc)\n",
        "print(\"Sorted list  based on closeliness with ref to 50\")\n",
        "print(thislist)"
      ],
      "metadata": {
        "colab": {
          "base_uri": "https://localhost:8080/"
        },
        "id": "GDu-tRL1cYy0",
        "outputId": "25802848-d8e0-487b-a872-7bbcc2568286"
      },
      "execution_count": null,
      "outputs": [
        {
          "output_type": "stream",
          "name": "stdout",
          "text": [
            "Original List\n",
            "[100, 50, 65, 82, 23]\n",
            "Sorted list  based on closeliness with ref to 50\n",
            "[50, 65, 23, 82, 100]\n"
          ]
        }
      ]
    },
    {
      "cell_type": "code",
      "source": [
        "# If you want a case-insensitive sort function, use str.lower as a key function\n",
        "print(\"case insensitive sorting\")\n",
        "thislist = [\"banana\", \"Orange\", \"Kiwi\", \"cherry\"]\n",
        "thislist.sort(key = str.lower)\n",
        "print(thislist)"
      ],
      "metadata": {
        "colab": {
          "base_uri": "https://localhost:8080/"
        },
        "id": "ObaJwyU8eT8Z",
        "outputId": "64246f42-4027-48a4-ce11-79996363c574"
      },
      "execution_count": null,
      "outputs": [
        {
          "output_type": "stream",
          "name": "stdout",
          "text": [
            "case insensitive sorting\n",
            "['banana', 'cherry', 'Kiwi', 'Orange']\n"
          ]
        }
      ]
    },
    {
      "cell_type": "code",
      "source": [
        "# The reverse() method reverses the current order of the elements.\n",
        "thislist = [\"banana\", \"Orange\", \"Kiwi\", \"cherry\"]\n",
        "print(thislist)\n",
        "thislist.reverse()\n",
        "print(thislist)"
      ],
      "metadata": {
        "colab": {
          "base_uri": "https://localhost:8080/"
        },
        "id": "2rsZH49Qeiv4",
        "outputId": "7f7a84ce-53bc-4ab7-eccc-af0c93bf10eb"
      },
      "execution_count": null,
      "outputs": [
        {
          "output_type": "stream",
          "name": "stdout",
          "text": [
            "['banana', 'Orange', 'Kiwi', 'cherry']\n",
            "['cherry', 'Kiwi', 'Orange', 'banana']\n"
          ]
        }
      ]
    },
    {
      "cell_type": "code",
      "source": [
        "# Copy a List\n",
        "print(\"Copy a List\")\n",
        "\n",
        "print(\" Using copy() method\")\n",
        "thislist = [\"apple\", \"banana\", \"cherry\"]\n",
        "mylist = thislist.copy()\n",
        "print(mylist)\n",
        "\n",
        "print(\" Using list() method\")\n",
        "thislist = [\"apple\", \"banana\", \"cherry\"]\n",
        "mylist = list(thislist)\n",
        "print(mylist)\n",
        "\n"
      ],
      "metadata": {
        "colab": {
          "base_uri": "https://localhost:8080/"
        },
        "id": "x1BJz1NrerVO",
        "outputId": "0c66e4bc-d202-445e-9366-0a7acd4759b7"
      },
      "execution_count": null,
      "outputs": [
        {
          "output_type": "stream",
          "name": "stdout",
          "text": [
            "Copy a List\n",
            " Using copy() method\n",
            "['apple', 'banana', 'cherry']\n",
            " Using list() method\n",
            "['apple', 'banana', 'cherry']\n"
          ]
        }
      ]
    },
    {
      "cell_type": "code",
      "source": [
        "# Join or concatenate two or more list using + operator, extend() method or append() method\n",
        "\n",
        "print(\"****** Join or concatenate two or more list using + operator ******\")\n",
        "list1 = [\"a\", \"b\", \"c\"]\n",
        "list2 = [1, 2, 3]\n",
        "\n",
        "list3 = list1 + list2\n",
        "print(list3) \n",
        "\n",
        "\n",
        "print(\" ****** Join or concatenate two or more list using append() ******\")\n",
        "list1 = [\"a\", \"b\" , \"c\"]\n",
        "list2 = [1, 2, 3, 4, 5]\n",
        "\n",
        "for x in list2:\n",
        "  list1.append(x)\n",
        "\n",
        "print(list1) \n",
        "\n",
        "\n",
        "print(\"****** Join or concatenate two or more list using extend() ******\")\n",
        "list1 = [\"a\", \"b\" , \"c\"]\n",
        "list2 = [7, 8, 9, 1, 2, 3]\n",
        "\n",
        "list1.extend(list2)\n",
        "print(list1) "
      ],
      "metadata": {
        "colab": {
          "base_uri": "https://localhost:8080/"
        },
        "id": "BiYtOaWCfN42",
        "outputId": "cc010b82-8c50-4756-b8ba-71e262e7d726"
      },
      "execution_count": null,
      "outputs": [
        {
          "output_type": "stream",
          "name": "stdout",
          "text": [
            "****** Join or concatenate two or more list using + operator ******\n",
            "['a', 'b', 'c', 1, 2, 3]\n",
            " ****** Join or concatenate two or more list using append() ******\n",
            "['a', 'b', 'c', 1, 2, 3, 4, 5]\n",
            "****** Join or concatenate two or more list using extend() ******\n",
            "['a', 'b', 'c', 7, 8, 9, 1, 2, 3]\n"
          ]
        }
      ]
    },
    {
      "cell_type": "markdown",
      "source": [
        "List count() Method"
      ],
      "metadata": {
        "id": "A69CVqnwguak"
      }
    },
    {
      "cell_type": "code",
      "source": [
        "# Return the number of times the value \"cherry\" appears in the fruits list\n",
        "fruits = ['apple', 'banana', 'cherry']\n",
        "x = fruits.count(\"cherry\")\n",
        "x"
      ],
      "metadata": {
        "colab": {
          "base_uri": "https://localhost:8080/"
        },
        "id": "vD_gR5McgOwp",
        "outputId": "12d3bfa1-be42-4e1b-e7ab-bf1212ec1221"
      },
      "execution_count": null,
      "outputs": [
        {
          "output_type": "execute_result",
          "data": {
            "text/plain": [
              "1"
            ]
          },
          "metadata": {},
          "execution_count": 11
        }
      ]
    },
    {
      "cell_type": "code",
      "source": [
        "# Return the number of times the value 9 appears int the list\n",
        "points = [1, 4, 2, 9, 7, 8, 9, 3, 1]\n",
        "x = points.count(9)\n",
        "x"
      ],
      "metadata": {
        "colab": {
          "base_uri": "https://localhost:8080/"
        },
        "id": "QeLUkHSpgylc",
        "outputId": "049ff717-d2c2-43d3-8af6-d7c63ccbe858"
      },
      "execution_count": null,
      "outputs": [
        {
          "output_type": "execute_result",
          "data": {
            "text/plain": [
              "2"
            ]
          },
          "metadata": {},
          "execution_count": 12
        }
      ]
    },
    {
      "cell_type": "markdown",
      "source": [
        "List index() Method"
      ],
      "metadata": {
        "id": "bDWJwSWUg_gf"
      }
    },
    {
      "cell_type": "code",
      "source": [
        "# What is the position of the value \"cherry\"\n",
        "fruits = ['apple', 'banana', 'cherry']\n",
        "x = fruits.index(\"cherry\")\n",
        "print(x)\n",
        "\n",
        "\n",
        "fruits = [4, 55, 64, 32, 16, 32]\n",
        "x = fruits.index(32)\n",
        "print(x)"
      ],
      "metadata": {
        "colab": {
          "base_uri": "https://localhost:8080/"
        },
        "id": "dF3RlZU_g8h_",
        "outputId": "11986217-3684-444a-bb7f-0a6e58462c0d"
      },
      "execution_count": null,
      "outputs": [
        {
          "output_type": "stream",
          "name": "stdout",
          "text": [
            "2\n",
            "3\n"
          ]
        }
      ]
    },
    {
      "cell_type": "markdown",
      "source": [
        "**Tuple**"
      ],
      "metadata": {
        "id": "2IG_2tl0g-s9"
      }
    },
    {
      "cell_type": "code",
      "source": [
        "mytuple = (\"apple\", \"banana\", \"cherry\")\n",
        "mytuple"
      ],
      "metadata": {
        "colab": {
          "base_uri": "https://localhost:8080/"
        },
        "id": "6NKBj_j5heVf",
        "outputId": "56c4f295-f571-439f-b4bf-61fb66428a93"
      },
      "execution_count": null,
      "outputs": [
        {
          "output_type": "execute_result",
          "data": {
            "text/plain": [
              "('apple', 'banana', 'cherry')"
            ]
          },
          "metadata": {},
          "execution_count": 17
        }
      ]
    },
    {
      "cell_type": "markdown",
      "source": [
        "Tuple items are ordered, unchangeable, and allow duplicate values.Tuples are written with round brackets.\n",
        "Tuple items are indexed, the first item has index [0], the second item has index [1] etc.\n",
        "Tuples are unchangeable, meaning that we cannot change, add or remove items after the tuple has been created.\n"
      ],
      "metadata": {
        "id": "-l01EuIdhr7M"
      }
    },
    {
      "cell_type": "code",
      "source": [
        "# To create a tuple with only one item, you have to add a comma after the item, otherwise Python will not recognize it as a tuple.\n",
        "thistuple = (\"apple\",)\n",
        "print(type(thistuple))\n",
        "\n",
        "#NOT a tuple\n",
        "thistuple = (\"apple\")\n",
        "print(type(thistuple)) "
      ],
      "metadata": {
        "colab": {
          "base_uri": "https://localhost:8080/"
        },
        "id": "LbVrOyf6hiwk",
        "outputId": "8d87c405-c90b-4cd5-dd83-56b7c31749f3"
      },
      "execution_count": null,
      "outputs": [
        {
          "output_type": "stream",
          "name": "stdout",
          "text": [
            "<class 'tuple'>\n",
            "<class 'str'>\n"
          ]
        }
      ]
    },
    {
      "cell_type": "code",
      "source": [
        "# Tuple items can be of any data type\n",
        "# String, int and boolean data types\n",
        "# A tuple can contain different data types\n",
        "tuple1 = (\"apple\", \"banana\", \"cherry\")\n",
        "tuple2 = (1, 5, 7, 9, 3)\n",
        "tuple3 = (True, False, False)\n",
        "tuple1 = (\"abc\", 34, True, 40, \"male\")\n"
      ],
      "metadata": {
        "id": "a6-57XMDiQ8I"
      },
      "execution_count": null,
      "outputs": []
    },
    {
      "cell_type": "code",
      "source": [
        "# It is also possible to use the tuple() constructor to make a tuple.\n",
        "thistuple = tuple((\"apple\", \"banana\", \"cherry\")) # note the double round-brackets\n",
        "print(thistuple)"
      ],
      "metadata": {
        "colab": {
          "base_uri": "https://localhost:8080/"
        },
        "id": "uTOFhkl2EYCG",
        "outputId": "c83a7054-2ee4-4af0-fdad-4fa6a839153a"
      },
      "execution_count": null,
      "outputs": [
        {
          "output_type": "stream",
          "name": "stdout",
          "text": [
            "('apple', 'banana', 'cherry')\n"
          ]
        }
      ]
    },
    {
      "cell_type": "markdown",
      "source": [
        "*Access Tuple Items*"
      ],
      "metadata": {
        "id": "B4DYLEtIEo-V"
      }
    },
    {
      "cell_type": "code",
      "source": [
        "# You can access tuple items by referring to the index number, inside square brackets\n",
        "# Negative indexing means start from the end.\n",
        "# -1 refers to the last item, -2 refers to the second last item etc.\n",
        "thistuple = (\"apple\", \"banana\", \"cherry\")\n",
        "print(thistuple[1])\n",
        "print(thistuple[-1])\n",
        "# You can specify a range of indexes by specifying where to start and where to end the range.\n",
        "# When specifying a range, the return value will be a new tuple with the specified items.\n",
        "thistuple = (\"apple\", \"banana\", \"cherry\", \"orange\", \"kiwi\", \"melon\", \"mango\")\n",
        "print(thistuple[2:5])\n",
        "# To determine if a specified item is present in a tuple use the in keyword\n",
        "thistuple = (\"apple\", \"banana\", \"cherry\")\n",
        "if \"apple\" in thistuple:\n",
        "  print(\"Yes, 'apple' is in the fruits tuple\") "
      ],
      "metadata": {
        "colab": {
          "base_uri": "https://localhost:8080/"
        },
        "id": "eDbmTjSAEgAF",
        "outputId": "a1bcc679-5b9b-43c3-a3f5-48bfb324cd71"
      },
      "execution_count": null,
      "outputs": [
        {
          "output_type": "stream",
          "name": "stdout",
          "text": [
            "banana\n",
            "cherry\n",
            "('cherry', 'orange', 'kiwi')\n",
            "Yes, 'apple' is in the fruits tuple\n"
          ]
        }
      ]
    },
    {
      "cell_type": "markdown",
      "source": [
        "Tuples are unchangeable, meaning that you cannot change, add, or remove items once the tuple is created.\n",
        "But there are some workarounds. \n",
        "Tuples are unchangeable, or immutable as it also is called."
      ],
      "metadata": {
        "id": "YzbC6uo8FSBo"
      }
    },
    {
      "cell_type": "code",
      "source": [
        "x = (\"apple\", \"banana\", \"cherry\")\n",
        "y = list(x)\n",
        "y[1] = \"kiwi\"\n",
        "x = tuple(y)\n",
        "\n",
        "print(x) "
      ],
      "metadata": {
        "colab": {
          "base_uri": "https://localhost:8080/"
        },
        "id": "LU9-TgrwFIal",
        "outputId": "5190f7a4-8528-4fbd-ca40-211d731b8098"
      },
      "execution_count": null,
      "outputs": [
        {
          "output_type": "stream",
          "name": "stdout",
          "text": [
            "('apple', 'kiwi', 'cherry')\n"
          ]
        }
      ]
    },
    {
      "cell_type": "code",
      "source": [
        "# Since tuples are immutable, they do not have a build-in append() method, but there are other ways to add items to a tuple.\n",
        "# 1. Convert into a list\n",
        "\n",
        "# Convert the tuple into a list, add \"orange\", and convert it back into a tuple\n",
        "thistuple = (\"apple\", \"banana\", \"cherry\")\n",
        "y = list(thistuple)\n",
        "y.append(\"orange\")\n",
        "thistuple = tuple(y)"
      ],
      "metadata": {
        "id": "MVcVTAmhFnjn"
      },
      "execution_count": null,
      "outputs": []
    },
    {
      "cell_type": "code",
      "source": [
        "# 2. Add tuple to a tuple\n",
        "# Create a new tuple with the value \"orange\", and add that tuple\n",
        "thistuple = (\"apple\", \"banana\", \"cherry\")\n",
        "y = (\"orange\",)\n",
        "thistuple += y\n",
        "\n",
        "print(thistuple)"
      ],
      "metadata": {
        "colab": {
          "base_uri": "https://localhost:8080/"
        },
        "id": "KRYdHdDkRkdM",
        "outputId": "315e7d38-beb7-42c0-db07-0ba8ac98c2b0"
      },
      "execution_count": null,
      "outputs": [
        {
          "output_type": "stream",
          "name": "stdout",
          "text": [
            "('apple', 'banana', 'cherry', 'orange')\n"
          ]
        }
      ]
    },
    {
      "cell_type": "code",
      "source": [
        "# You cannot remove items in a tuple.\n",
        "# Tuples are unchangeable, so you cannot remove items from it, but you can use the same workaround as we used for changing and adding tuple items\n",
        "# Convert the tuple into a list, remove \"apple\", and convert it back into a tuple\n",
        "thistuple = (\"apple\", \"banana\", \"cherry\")\n",
        "y = list(thistuple)\n",
        "y.remove(\"apple\")\n",
        "thistuple = tuple(y)\n",
        "print(thistuple)"
      ],
      "metadata": {
        "colab": {
          "base_uri": "https://localhost:8080/"
        },
        "id": "I4dghgO9SCs8",
        "outputId": "06010c4e-cf89-4af2-fdb1-db4c95de6218"
      },
      "execution_count": null,
      "outputs": [
        {
          "output_type": "stream",
          "name": "stdout",
          "text": [
            "('banana', 'cherry')\n"
          ]
        }
      ]
    },
    {
      "cell_type": "markdown",
      "source": [
        "*Unpacking*"
      ],
      "metadata": {
        "id": "kFrWi3PeS27K"
      }
    },
    {
      "cell_type": "code",
      "source": [
        "# When we create a tuple, we normally assign values to it. This is called \"packing\" a tuple\n",
        "# Packing a tuple\n",
        "fruits = (\"apple\", \"banana\", \"cherry\")\n",
        "# we are also allowed to extract the values back into variables. This is called \"unpacking\"\n",
        "fruits = (\"apple\", \"banana\", \"cherry\")\n",
        "\n",
        "(green, yellow, red) = fruits\n",
        "\n",
        "print(green)\n",
        "print(yellow)\n",
        "print(red)\n",
        "\n",
        "# The number of variables must match the number of values in the tuple, if not, you must use an asterisk to collect the remaining values as a list."
      ],
      "metadata": {
        "colab": {
          "base_uri": "https://localhost:8080/"
        },
        "id": "uOOtj2nYSo7_",
        "outputId": "5eb3a8f7-9cb2-47d4-8926-91f6cb116cf2"
      },
      "execution_count": null,
      "outputs": [
        {
          "output_type": "stream",
          "name": "stdout",
          "text": [
            "apple\n",
            "banana\n",
            "cherry\n"
          ]
        }
      ]
    },
    {
      "cell_type": "code",
      "source": [
        "# Assign the rest of the values as a list called \"red\"-- using Asterisk\n",
        "fruits = (\"apple\", \"banana\", \"cherry\", \"strawberry\", \"raspberry\")\n",
        "\n",
        "(green, yellow, *red) = fruits\n",
        "\n",
        "print(green)\n",
        "print(yellow)\n",
        "print(red)"
      ],
      "metadata": {
        "colab": {
          "base_uri": "https://localhost:8080/"
        },
        "id": "wIrm6uV-TC3i",
        "outputId": "286951bc-7990-4a72-eb38-432461e7cfa3"
      },
      "execution_count": null,
      "outputs": [
        {
          "output_type": "stream",
          "name": "stdout",
          "text": [
            "apple\n",
            "banana\n",
            "['cherry', 'strawberry', 'raspberry']\n"
          ]
        }
      ]
    },
    {
      "cell_type": "code",
      "source": [
        "fruits = (\"apple\", \"mango\", \"papaya\", \"pineapple\", \"cherry\")\n",
        "(green, *tropic, red) = fruits\n",
        "\n",
        "print(green)\n",
        "print(tropic)\n",
        "print(red)"
      ],
      "metadata": {
        "colab": {
          "base_uri": "https://localhost:8080/"
        },
        "id": "GcTPNQ3YTPYD",
        "outputId": "4f9a6f64-1525-4dfe-dd69-6a6eb57b81ae"
      },
      "execution_count": null,
      "outputs": [
        {
          "output_type": "stream",
          "name": "stdout",
          "text": [
            "apple\n",
            "['mango', 'papaya', 'pineapple']\n",
            "cherry\n"
          ]
        }
      ]
    },
    {
      "cell_type": "markdown",
      "source": [
        "Loop through tuple"
      ],
      "metadata": {
        "id": "HAXuSOUTTmT-"
      }
    },
    {
      "cell_type": "code",
      "source": [
        "# Iterate through the items and print the values\n",
        "thistuple = (\"apple\", \"banana\", \"cherry\")\n",
        "for x in thistuple:\n",
        "  print(x) "
      ],
      "metadata": {
        "colab": {
          "base_uri": "https://localhost:8080/"
        },
        "id": "EEnYbmVLTYW4",
        "outputId": "86113a73-e8f4-4a47-f18b-06fec63eab09"
      },
      "execution_count": null,
      "outputs": [
        {
          "output_type": "stream",
          "name": "stdout",
          "text": [
            "apple\n",
            "banana\n",
            "cherry\n"
          ]
        }
      ]
    },
    {
      "cell_type": "code",
      "source": [
        "# Print all items by referring to their index number\n",
        "thistuple = (\"apple\", \"banana\", \"cherry\")\n",
        "for i in range(len(thistuple)):\n",
        "  print(thistuple[i]) "
      ],
      "metadata": {
        "colab": {
          "base_uri": "https://localhost:8080/"
        },
        "id": "2ZSbRbF-To92",
        "outputId": "d941d2cc-71b9-4f76-8061-fd7652444a97"
      },
      "execution_count": null,
      "outputs": [
        {
          "output_type": "stream",
          "name": "stdout",
          "text": [
            "apple\n",
            "banana\n",
            "cherry\n"
          ]
        }
      ]
    },
    {
      "cell_type": "code",
      "source": [
        "# Print all items, using a while loop to go through all the index numbers\n",
        "thistuple = (\"apple\", \"banana\", \"cherry\")\n",
        "i = 0\n",
        "while i < len(thistuple):\n",
        "  print(thistuple[i])\n",
        "  i = i + 1 "
      ],
      "metadata": {
        "colab": {
          "base_uri": "https://localhost:8080/"
        },
        "id": "sOXcqVDsTt8W",
        "outputId": "4ba7e728-1577-4bbc-e368-080905bdf02c"
      },
      "execution_count": null,
      "outputs": [
        {
          "output_type": "stream",
          "name": "stdout",
          "text": [
            "apple\n",
            "banana\n",
            "cherry\n"
          ]
        }
      ]
    },
    {
      "cell_type": "code",
      "source": [
        "# Join two tuples\n",
        "tuple1 = (\"a\", \"b\" , \"c\")\n",
        "tuple2 = (1, 2, 3)\n",
        "\n",
        "tuple3 = tuple1 + tuple2\n",
        "print(tuple3) "
      ],
      "metadata": {
        "colab": {
          "base_uri": "https://localhost:8080/"
        },
        "id": "ZE8q0GAjTzhm",
        "outputId": "211c683c-4bed-4e16-f7cd-0d699db62e82"
      },
      "execution_count": null,
      "outputs": [
        {
          "output_type": "stream",
          "name": "stdout",
          "text": [
            "('a', 'b', 'c', 1, 2, 3)\n"
          ]
        }
      ]
    },
    {
      "cell_type": "code",
      "source": [
        "# Multiply the fruits tuple by 2\n",
        "fruits = (\"apple\", \"banana\", \"cherry\",4)\n",
        "mytuple = fruits * 2\n",
        "\n",
        "print(mytuple) "
      ],
      "metadata": {
        "colab": {
          "base_uri": "https://localhost:8080/"
        },
        "id": "dNQ42bWiT5ia",
        "outputId": "6436bead-cb23-407d-a63f-da478abda9f2"
      },
      "execution_count": null,
      "outputs": [
        {
          "output_type": "stream",
          "name": "stdout",
          "text": [
            "('apple', 'banana', 'cherry', 4, 'apple', 'banana', 'cherry', 4)\n"
          ]
        }
      ]
    },
    {
      "cell_type": "code",
      "source": [
        "# Return the number of times the value 5 appears in the tuple\n",
        "thistuple = (1, 3, 7, 8, 7, 5, 4, 6, 8, 5)\n",
        "\n",
        "x = thistuple.count(5)\n",
        "\n",
        "print(x) "
      ],
      "metadata": {
        "colab": {
          "base_uri": "https://localhost:8080/"
        },
        "id": "g9l5NZjIT9cu",
        "outputId": "9e319675-9f22-4bac-9f03-0e8ff892db88"
      },
      "execution_count": null,
      "outputs": [
        {
          "output_type": "stream",
          "name": "stdout",
          "text": [
            "2\n"
          ]
        }
      ]
    },
    {
      "cell_type": "code",
      "source": [
        "# Search for the first occurrence of the value 8, and return its position\n",
        "thistuple = (1, 3, 7, 8, 7, 5, 4, 6, 8, 5)\n",
        "\n",
        "x = thistuple.index(8)\n",
        "\n",
        "print(x) "
      ],
      "metadata": {
        "colab": {
          "base_uri": "https://localhost:8080/"
        },
        "id": "B9Rj7K6_UIgJ",
        "outputId": "91505a7d-82ee-4819-de2d-2fe5c67c752b"
      },
      "execution_count": null,
      "outputs": [
        {
          "output_type": "stream",
          "name": "stdout",
          "text": [
            "3\n"
          ]
        }
      ]
    },
    {
      "cell_type": "markdown",
      "source": [
        "**Set**"
      ],
      "metadata": {
        "id": "ma7jFoKPU1m4"
      }
    },
    {
      "cell_type": "code",
      "source": [
        "# Sets are used to store multiple items in a single variable.\n",
        "# A set is a collection which is unordered, unchangeable*, and unindexed.\n",
        "# Set items are unchangeable, but you can remove items and add new items.\n",
        "\n",
        "# Create a Set\n",
        "thisset = {\"apple\", \"banana\", \"cherry\"}\n",
        "print(thisset) "
      ],
      "metadata": {
        "colab": {
          "base_uri": "https://localhost:8080/"
        },
        "id": "JNhHC7mXUQBo",
        "outputId": "3cbe04bc-335a-4643-d100-c0072787934e"
      },
      "execution_count": null,
      "outputs": [
        {
          "output_type": "stream",
          "name": "stdout",
          "text": [
            "{'banana', 'apple', 'cherry'}\n"
          ]
        }
      ]
    },
    {
      "cell_type": "code",
      "source": [
        "# Duplicate values will be ignored\n",
        "thisset = {\"apple\", \"banana\", \"cherry\", \"apple\"}\n",
        "print(thisset)"
      ],
      "metadata": {
        "colab": {
          "base_uri": "https://localhost:8080/"
        },
        "id": "f5wk-QcNVCVr",
        "outputId": "0e804974-425e-49b8-bc68-3c956127aca0"
      },
      "execution_count": null,
      "outputs": [
        {
          "output_type": "stream",
          "name": "stdout",
          "text": [
            "{'banana', 'apple', 'cherry'}\n"
          ]
        }
      ]
    },
    {
      "cell_type": "code",
      "source": [
        "# Get the number of items in a set\n",
        "thisset = {\"apple\", \"banana\", \"cherry\"}\n",
        "print(len(thisset)) "
      ],
      "metadata": {
        "colab": {
          "base_uri": "https://localhost:8080/"
        },
        "id": "GUMqkT1jVNsc",
        "outputId": "8c0af99f-7b9f-4284-874d-3fc7fce50a45"
      },
      "execution_count": null,
      "outputs": [
        {
          "output_type": "stream",
          "name": "stdout",
          "text": [
            "3\n"
          ]
        }
      ]
    },
    {
      "cell_type": "code",
      "source": [
        "# String, int and boolean data types\n",
        "set1 = {\"apple\", \"banana\", \"cherry\"}\n",
        "set2 = {1, 5, 7, 9, 3}\n",
        "set3 = {True, False, False} "
      ],
      "metadata": {
        "id": "z64stvEIVSOb"
      },
      "execution_count": null,
      "outputs": []
    },
    {
      "cell_type": "code",
      "source": [
        "# A set with strings, integers and boolan values:\n",
        "set1 = {\"abc\", 34, True, 40, \"male\"} "
      ],
      "metadata": {
        "id": "cw1_iM-sVZbd"
      },
      "execution_count": null,
      "outputs": []
    },
    {
      "cell_type": "code",
      "source": [
        "# Using the set() constructor to make a set\n",
        "thisset = set((\"apple\", \"banana\", \"cherry\")) # note the double round-brackets\n",
        "print(thisset) "
      ],
      "metadata": {
        "colab": {
          "base_uri": "https://localhost:8080/"
        },
        "id": "sBm48FvuVeOM",
        "outputId": "8fc888a6-96ea-46e1-939c-6fc0b9eb0836"
      },
      "execution_count": null,
      "outputs": [
        {
          "output_type": "stream",
          "name": "stdout",
          "text": [
            "{'banana', 'apple', 'cherry'}\n"
          ]
        }
      ]
    },
    {
      "cell_type": "code",
      "source": [
        "# Access Items\n",
        "# You cannot access items in a set by referring to an index or a key.\n",
        "# But you can loop through the set items using a for loop, or ask if a specified value is present in a set, by using the in keyword.\n",
        "\n",
        "# Loop through the set, and print the values\n",
        "thisset = {\"apple\", \"banana\", \"cherry\"}\n",
        "\n",
        "for x in thisset:\n",
        "  print(x) "
      ],
      "metadata": {
        "colab": {
          "base_uri": "https://localhost:8080/"
        },
        "id": "kkJG4EeNViaf",
        "outputId": "fb431c6b-1a54-43e5-e5b0-c61cae2ed386"
      },
      "execution_count": null,
      "outputs": [
        {
          "output_type": "stream",
          "name": "stdout",
          "text": [
            "banana\n",
            "apple\n",
            "cherry\n"
          ]
        }
      ]
    },
    {
      "cell_type": "code",
      "source": [
        "# Check if \"banana\" is present in the set\n",
        "thisset = {\"apple\", \"banana\", \"cherry\"}\n",
        "\n",
        "print(\"banana\" in thisset) "
      ],
      "metadata": {
        "colab": {
          "base_uri": "https://localhost:8080/"
        },
        "id": "235fbIpgWGKu",
        "outputId": "d42255c2-879b-4051-feb0-a60ea49c6eb5"
      },
      "execution_count": null,
      "outputs": [
        {
          "output_type": "stream",
          "name": "stdout",
          "text": [
            "True\n"
          ]
        }
      ]
    },
    {
      "cell_type": "code",
      "source": [
        "# Once a set is created, you cannot change its items, but you can add new items.\n",
        "# To add one item to a set use the add() method.\n",
        "thisset = {\"apple\", \"banana\", \"cherry\"}\n",
        "thisset.add(\"orange\")\n",
        "print(thisset) "
      ],
      "metadata": {
        "id": "3LhS8dL-WK_Q",
        "colab": {
          "base_uri": "https://localhost:8080/"
        },
        "outputId": "46478cc8-ffad-4c41-f45b-732dbdba4837"
      },
      "execution_count": 1,
      "outputs": [
        {
          "output_type": "stream",
          "name": "stdout",
          "text": [
            "{'banana', 'orange', 'cherry', 'apple'}\n"
          ]
        }
      ]
    },
    {
      "cell_type": "code",
      "source": [
        "# To add items from another set into the current set, use the update() method.\n",
        "thisset = {\"apple\", \"banana\", \"cherry\"}\n",
        "tropical = {\"pineapple\", \"mango\", \"papaya\"}\n",
        "\n",
        "thisset.update(tropical)\n",
        "print(thisset) "
      ],
      "metadata": {
        "colab": {
          "base_uri": "https://localhost:8080/"
        },
        "id": "675n-ZZPgTn_",
        "outputId": "a28c9216-ded1-4812-b4b1-a2fbb80d6f48"
      },
      "execution_count": 2,
      "outputs": [
        {
          "output_type": "stream",
          "name": "stdout",
          "text": [
            "{'mango', 'cherry', 'banana', 'papaya', 'apple', 'pineapple'}\n"
          ]
        }
      ]
    },
    {
      "cell_type": "code",
      "source": [
        "# The object in the update() method does not have to be a set, it can be any iterable object (tuples, lists, dictionaries etc.).\n",
        "thisset = {\"apple\", \"banana\", \"cherry\"}\n",
        "mylist = [\"kiwi\", \"orange\"]\n",
        "\n",
        "thisset.update(mylist)\n",
        "print(thisset)"
      ],
      "metadata": {
        "colab": {
          "base_uri": "https://localhost:8080/"
        },
        "id": "SQUtD38zgb6y",
        "outputId": "dc6d677f-372f-452b-c518-f203c371a6d5"
      },
      "execution_count": 3,
      "outputs": [
        {
          "output_type": "stream",
          "name": "stdout",
          "text": [
            "{'kiwi', 'cherry', 'banana', 'apple', 'orange'}\n"
          ]
        }
      ]
    },
    {
      "cell_type": "markdown",
      "source": [
        "Remove Item"
      ],
      "metadata": {
        "id": "8f5bz5t1hAKb"
      }
    },
    {
      "cell_type": "code",
      "source": [
        "# To remove an item in a set, use the remove(), or the discard() method.\n",
        "# If the item to remove does not exist, remove() will raise an error.\n",
        "# If the item to remove does not exist, discard() will NOT raise an error.\n",
        "thisset = {\"apple\", \"banana\", \"cherry\"}\n",
        "thisset.remove(\"banana\")\n",
        "print(thisset) "
      ],
      "metadata": {
        "colab": {
          "base_uri": "https://localhost:8080/"
        },
        "id": "dn9fbpixgjo_",
        "outputId": "874aed9c-b185-46c0-81de-93f6867ae043"
      },
      "execution_count": 4,
      "outputs": [
        {
          "output_type": "stream",
          "name": "stdout",
          "text": [
            "{'cherry', 'apple'}\n"
          ]
        }
      ]
    },
    {
      "cell_type": "code",
      "source": [
        "thisset = {\"apple\", \"banana\", \"cherry\"}\n",
        "thisset.discard(\"banana\")\n",
        "print(thisset) "
      ],
      "metadata": {
        "colab": {
          "base_uri": "https://localhost:8080/"
        },
        "id": "57XND7NShpS7",
        "outputId": "0c8cb705-115d-4829-b6a6-08071e7ac2b5"
      },
      "execution_count": 5,
      "outputs": [
        {
          "output_type": "stream",
          "name": "stdout",
          "text": [
            "{'cherry', 'apple'}\n"
          ]
        }
      ]
    },
    {
      "cell_type": "code",
      "source": [
        "thisset.discard(\"banana\")\n",
        "print(thisset) "
      ],
      "metadata": {
        "colab": {
          "base_uri": "https://localhost:8080/"
        },
        "id": "OHoR21DWhrzn",
        "outputId": "63b5be03-3f53-41fb-eb18-4fed177b2cbd"
      },
      "execution_count": 6,
      "outputs": [
        {
          "output_type": "stream",
          "name": "stdout",
          "text": [
            "{'cherry', 'apple'}\n"
          ]
        }
      ]
    },
    {
      "cell_type": "code",
      "source": [
        "# You can also use the pop() method to remove an item, but this method will remove the last item. Remember that sets are unordered, so you will not know what item that gets removed.\n",
        "# The return value of the pop() method is the removed item.\n",
        "# Remove the last item by using the pop() method\n",
        "\n",
        "thisset = {\"apple\", \"banana\", \"cherry\"}\n",
        "x = thisset.pop()\n",
        "print(\"removed element\",x)\n",
        "print(thisset) "
      ],
      "metadata": {
        "colab": {
          "base_uri": "https://localhost:8080/"
        },
        "id": "-rP_zUZBhup6",
        "outputId": "642db0d1-ce91-4068-dac0-6a0e09e1bf0b"
      },
      "execution_count": 9,
      "outputs": [
        {
          "output_type": "stream",
          "name": "stdout",
          "text": [
            "removed element banana\n",
            "{'cherry', 'apple'}\n"
          ]
        }
      ]
    },
    {
      "cell_type": "code",
      "source": [
        "# The clear() method empties the set\n",
        "thisset = {\"apple\", \"banana\", \"cherry\"}\n",
        "thisset.clear()\n",
        "print(thisset, \"#set elements are removed and set is empty\") "
      ],
      "metadata": {
        "colab": {
          "base_uri": "https://localhost:8080/"
        },
        "id": "sfwxC0Orh7BL",
        "outputId": "3938f026-9902-4e63-abb3-b8d11f98ee4f"
      },
      "execution_count": 10,
      "outputs": [
        {
          "output_type": "stream",
          "name": "stdout",
          "text": [
            "set() #set elements are removed and set is empty\n"
          ]
        }
      ]
    },
    {
      "cell_type": "code",
      "source": [
        "# The del keyword will delete the set completely\n",
        "thisset = {\"apple\", \"banana\", \"cherry\"}\n",
        "del thisset\n",
        "# print(thisset) #this will raise an error"
      ],
      "metadata": {
        "id": "bGVqGQt_h-AN"
      },
      "execution_count": 12,
      "outputs": []
    },
    {
      "cell_type": "code",
      "source": [
        "# Loop through the set, and print the values\n",
        "thisset = {\"apple\", \"banana\", \"cherry\"}\n",
        "\n",
        "for x in thisset:\n",
        "  print(x) "
      ],
      "metadata": {
        "colab": {
          "base_uri": "https://localhost:8080/"
        },
        "id": "rkyY8xXkiSAt",
        "outputId": "4b1bd184-98ee-4d18-9490-ab1126932531"
      },
      "execution_count": 13,
      "outputs": [
        {
          "output_type": "stream",
          "name": "stdout",
          "text": [
            "banana\n",
            "cherry\n",
            "apple\n"
          ]
        }
      ]
    },
    {
      "cell_type": "code",
      "source": [
        "# There are several ways to join two or more sets in Python.\n",
        "# You can use the union() method that returns a new set containing all items from both sets, or the update() method that inserts all the items from one set into another\n",
        "set1 = {\"a\", \"b\" , \"c\"}\n",
        "set2 = {1, 2, 3}\n",
        "\n",
        "set3 = set1.union(set2)\n",
        "print(set3) "
      ],
      "metadata": {
        "colab": {
          "base_uri": "https://localhost:8080/"
        },
        "id": "qgUp2llBicbU",
        "outputId": "e72be751-947f-41e0-aeff-e88c7927ca45"
      },
      "execution_count": 14,
      "outputs": [
        {
          "output_type": "stream",
          "name": "stdout",
          "text": [
            "{1, 2, 3, 'b', 'a', 'c'}\n"
          ]
        }
      ]
    },
    {
      "cell_type": "code",
      "source": [
        "set1 = {\"a\", \"b\" , \"c\"}\n",
        "set2 = {1, 2, 3}\n",
        "\n",
        "set1.update(set2)\n",
        "print(set1) "
      ],
      "metadata": {
        "colab": {
          "base_uri": "https://localhost:8080/"
        },
        "id": "XRqY8YxcilZv",
        "outputId": "96415ff8-f538-42b4-e9cb-0fbf6c0309cd"
      },
      "execution_count": 15,
      "outputs": [
        {
          "output_type": "stream",
          "name": "stdout",
          "text": [
            "{1, 2, 3, 'b', 'a', 'c'}\n"
          ]
        }
      ]
    },
    {
      "cell_type": "markdown",
      "source": [
        "Both union() and update() will exclude any duplicate items\n"
      ],
      "metadata": {
        "id": "1N1wKZ6litgR"
      }
    },
    {
      "cell_type": "code",
      "source": [
        "# The intersection_update() method will keep only the items that are present in both sets\n",
        "x = {\"apple\", \"banana\", \"cherry\"}\n",
        "y = {\"google\", \"microsoft\", \"apple\"}\n",
        "x.intersection_update(y)\n",
        "print(x) "
      ],
      "metadata": {
        "colab": {
          "base_uri": "https://localhost:8080/"
        },
        "id": "yerYELihinZP",
        "outputId": "6af7c332-d112-4fb2-cce2-52775f4ba40a"
      },
      "execution_count": 16,
      "outputs": [
        {
          "output_type": "stream",
          "name": "stdout",
          "text": [
            "{'apple'}\n"
          ]
        }
      ]
    },
    {
      "cell_type": "code",
      "source": [
        "# intersection Return a set that contains the items that exist in both set x, and set y\n",
        "x = {\"apple\", \"banana\", \"cherry\"}\n",
        "y = {\"google\", \"microsoft\", \"apple\"}\n",
        "z = x.intersection(y)\n",
        "print(z) "
      ],
      "metadata": {
        "colab": {
          "base_uri": "https://localhost:8080/"
        },
        "id": "YCgzQmTxis6n",
        "outputId": "1869301c-3a23-4de5-fed2-19f9896d57e6"
      },
      "execution_count": 17,
      "outputs": [
        {
          "output_type": "stream",
          "name": "stdout",
          "text": [
            "{'apple'}\n"
          ]
        }
      ]
    },
    {
      "cell_type": "code",
      "source": [
        "# The symmetric_difference_update() method will keep only the elements that are NOT present in both sets.\n",
        "x = {\"apple\", \"banana\", \"cherry\"}\n",
        "y = {\"google\", \"microsoft\", \"apple\"}\n",
        "x.symmetric_difference_update(y)\n",
        "print(x) "
      ],
      "metadata": {
        "colab": {
          "base_uri": "https://localhost:8080/"
        },
        "id": "nWzeak-LjF1-",
        "outputId": "cc1e0438-256f-4a49-8570-ead85a3f956c"
      },
      "execution_count": 18,
      "outputs": [
        {
          "output_type": "stream",
          "name": "stdout",
          "text": [
            "{'google', 'banana', 'cherry', 'microsoft'}\n"
          ]
        }
      ]
    },
    {
      "cell_type": "code",
      "source": [
        "# The symmetric_difference() method will return a new set, that contains only the elements that are NOT present in both sets.\n",
        "x = {\"apple\", \"banana\", \"cherry\"}\n",
        "y = {\"google\", \"microsoft\", \"apple\"}\n",
        "z = x.symmetric_difference(y)\n",
        "print(z)"
      ],
      "metadata": {
        "colab": {
          "base_uri": "https://localhost:8080/"
        },
        "id": "rcaQnva-jZCA",
        "outputId": "87aabc0a-d721-4121-ae00-3a368946d46b"
      },
      "execution_count": 19,
      "outputs": [
        {
          "output_type": "stream",
          "name": "stdout",
          "text": [
            "{'google', 'banana', 'cherry', 'microsoft'}\n"
          ]
        }
      ]
    },
    {
      "cell_type": "code",
      "source": [
        "#issuperset\n",
        "# Return True if all items set y are present in set x\n",
        "x = {\"f\", \"e\", \"d\", \"c\", \"b\", \"a\"}\n",
        "y = {\"a\", \"b\", \"c\"}\n",
        "z = x.issuperset(y)\n",
        "print(z) "
      ],
      "metadata": {
        "colab": {
          "base_uri": "https://localhost:8080/"
        },
        "id": "HVJNa1DAjgZh",
        "outputId": "5af2b612-402c-4757-be69-cd5737e424b6"
      },
      "execution_count": 20,
      "outputs": [
        {
          "output_type": "stream",
          "name": "stdout",
          "text": [
            "True\n"
          ]
        }
      ]
    },
    {
      "cell_type": "code",
      "source": [
        "# What if not all items are present in the specified set?\n",
        "# Return False if not all items in set y are present in set x\n",
        "x = {\"f\", \"e\", \"d\", \"c\", \"b\"}\n",
        "y = {\"a\", \"b\", \"c\"}\n",
        "z = x.issuperset(y)\n",
        "print(z) "
      ],
      "metadata": {
        "colab": {
          "base_uri": "https://localhost:8080/"
        },
        "id": "bMjY6PWskHoT",
        "outputId": "fbce02d5-446a-4311-f567-61a88ac1cc27"
      },
      "execution_count": 21,
      "outputs": [
        {
          "output_type": "stream",
          "name": "stdout",
          "text": [
            "False\n"
          ]
        }
      ]
    },
    {
      "cell_type": "code",
      "source": [
        "# issubset() Method\n",
        "# Return True if all items in set x are present in set y\n",
        "y = {\"f\", \"e\", \"d\", \"c\", \"b\", \"a\"}\n",
        "z = x.issubset(y)\n",
        "print(z) "
      ],
      "metadata": {
        "colab": {
          "base_uri": "https://localhost:8080/"
        },
        "id": "w47B-As8kRK2",
        "outputId": "259dab26-1fc0-4104-a98f-aca373855b75"
      },
      "execution_count": 23,
      "outputs": [
        {
          "output_type": "stream",
          "name": "stdout",
          "text": [
            "True\n"
          ]
        }
      ]
    },
    {
      "cell_type": "code",
      "source": [
        "# Return False if not all items in set x are present in set y:\n",
        "x = {\"a\", \"b\", \"c\"}\n",
        "y = {\"f\", \"e\", \"d\", \"c\", \"b\"}\n",
        "z = x.issubset(y)\n",
        "print(z) "
      ],
      "metadata": {
        "colab": {
          "base_uri": "https://localhost:8080/"
        },
        "id": "j0PRsCqwkYC3",
        "outputId": "c58b41e5-d282-4529-e594-7dfca5cce83f"
      },
      "execution_count": 24,
      "outputs": [
        {
          "output_type": "stream",
          "name": "stdout",
          "text": [
            "False\n"
          ]
        }
      ]
    },
    {
      "cell_type": "code",
      "source": [
        "# isdisjoint() Method\n",
        "# Return True if no items in set x is present in set y\n",
        "x = {\"apple\", \"banana\", \"cherry\"}\n",
        "y = {\"google\", \"microsoft\", \"facebook\"}\n",
        "z = x.isdisjoint(y)\n",
        "print(z) "
      ],
      "metadata": {
        "colab": {
          "base_uri": "https://localhost:8080/"
        },
        "id": "C9xEK8f-kdlW",
        "outputId": "8a63886c-aaca-487b-a27e-a2c269faaced"
      },
      "execution_count": 25,
      "outputs": [
        {
          "output_type": "stream",
          "name": "stdout",
          "text": [
            "True\n"
          ]
        }
      ]
    },
    {
      "cell_type": "code",
      "source": [
        "# Return False if one ore more items are present in both sets:\n",
        "x = {\"apple\", \"banana\", \"cherry\"}\n",
        "y = {\"google\", \"microsoft\", \"apple\"}\n",
        "z = x.isdisjoint(y)\n",
        "print(z) "
      ],
      "metadata": {
        "colab": {
          "base_uri": "https://localhost:8080/"
        },
        "id": "s_ViKg63kk7m",
        "outputId": "5e153de4-f7cd-4f7f-f719-6582fabb1528"
      },
      "execution_count": 26,
      "outputs": [
        {
          "output_type": "stream",
          "name": "stdout",
          "text": [
            "False\n"
          ]
        }
      ]
    },
    {
      "cell_type": "markdown",
      "source": [
        "## ***Dictionaries***"
      ],
      "metadata": {
        "id": "KVvvlyWJk0uz"
      }
    },
    {
      "cell_type": "code",
      "source": [
        "# Dictionaries are used to store data values in key:value pairs.\n",
        "# A dictionary is a collection which is ordered*, changeable and do not allow duplicates.\n",
        "# Dictionaries are written with curly brackets, and have keys and values\n",
        "thisdict =\t{\n",
        "  \"brand\": \"Ford\",\n",
        "  \"model\": \"Mustang\",\n",
        "  \"year\": 1964\n",
        "}\n",
        "print(thisdict)"
      ],
      "metadata": {
        "colab": {
          "base_uri": "https://localhost:8080/"
        },
        "id": "ahNVN4Z4koKz",
        "outputId": "f68bf005-516a-46a4-f99a-2469e21fcfe6"
      },
      "execution_count": 27,
      "outputs": [
        {
          "output_type": "stream",
          "name": "stdout",
          "text": [
            "{'brand': 'Ford', 'model': 'Mustang', 'year': 1964}\n"
          ]
        }
      ]
    },
    {
      "cell_type": "code",
      "source": [
        "# Dictionary items are presented in key:value pairs, and can be referred to by using the key name.\n",
        "thisdict =\t{\n",
        "  \"brand\": \"Ford\",\n",
        "  \"model\": \"Mustang\",\n",
        "  \"year\": 1964\n",
        "}\n",
        "print(thisdict[\"brand\"])\n",
        "# There is also a method called get() that will give you the same result\n",
        "x = thisdict.get(\"brand\")\n",
        "print(x)"
      ],
      "metadata": {
        "colab": {
          "base_uri": "https://localhost:8080/"
        },
        "id": "Y6ZdVLfZlFzK",
        "outputId": "e0a24ab4-df60-4375-d2f8-4673719cfdb9"
      },
      "execution_count": 33,
      "outputs": [
        {
          "output_type": "stream",
          "name": "stdout",
          "text": [
            "Ford\n",
            "Ford\n"
          ]
        }
      ]
    },
    {
      "cell_type": "code",
      "source": [
        "# As of Python version 3.7, dictionaries are ordered. In Python 3.6 and earlier, dictionaries are unordered.\n",
        "# Dictionaries cannot have two items with the same key\n",
        "# Duplicate values will overwrite existing values\n",
        "thisdict =\t{\n",
        "  \"brand\": \"Ford\",\n",
        "  \"model\": \"Mustang\",\n",
        "  \"year\": 1964,\n",
        "  \"year\": 2020\n",
        "}\n",
        "print(thisdict) "
      ],
      "metadata": {
        "colab": {
          "base_uri": "https://localhost:8080/"
        },
        "id": "VcJTCkyZlglv",
        "outputId": "16f732fb-a560-43b2-a1a8-2c64a4a4a6e6"
      },
      "execution_count": 30,
      "outputs": [
        {
          "output_type": "stream",
          "name": "stdout",
          "text": [
            "{'brand': 'Ford', 'model': 'Mustang', 'year': 2020}\n"
          ]
        }
      ]
    },
    {
      "cell_type": "code",
      "source": [
        "# Print the number of items in the dictionary\n",
        "print(len(thisdict))"
      ],
      "metadata": {
        "colab": {
          "base_uri": "https://localhost:8080/"
        },
        "id": "wVUw2fOslvC-",
        "outputId": "10704cb8-ac04-4875-c9b5-b4e531893bc8"
      },
      "execution_count": 31,
      "outputs": [
        {
          "output_type": "stream",
          "name": "stdout",
          "text": [
            "3\n"
          ]
        }
      ]
    },
    {
      "cell_type": "code",
      "source": [
        "# The values in dictionary items can be of any data type\n",
        "thisdict =\t{\n",
        "  \"brand\": \"Ford\",\n",
        "  \"electric\": False,\n",
        "  \"year\": 1964,\n",
        "  \"colors\": [\"red\", \"white\", \"blue\"]\n",
        "} \n",
        "print(thisdict[\"colors\"])\n",
        "print(type(thisdict)) "
      ],
      "metadata": {
        "colab": {
          "base_uri": "https://localhost:8080/"
        },
        "id": "JNyvMo8wl3Gc",
        "outputId": "76c05863-e133-47d5-97f9-d47425b30125"
      },
      "execution_count": 32,
      "outputs": [
        {
          "output_type": "stream",
          "name": "stdout",
          "text": [
            "['red', 'white', 'blue']\n",
            "<class 'dict'>\n"
          ]
        }
      ]
    },
    {
      "cell_type": "code",
      "source": [
        "# The keys() method will return a list of all the keys in the dictionary.\n",
        "x = thisdict.keys() \n",
        "print(x)\n",
        "\n",
        "# The list of the keys is a view of the dictionary, meaning that any changes done to the dictionary will be reflected in the keys list.\n",
        "# Add a new item to the original dictionary, and see that the keys list gets updated as well\n",
        "car = {\n",
        "\"brand\": \"Ford\",\n",
        "\"model\": \"Mustang\",\n",
        "\"year\": 1964\n",
        "}\n",
        "\n",
        "x = car.keys()\n",
        "print(x) #before the change\n",
        "car[\"color\"] = \"white\"\n",
        "print(x) #after the change "
      ],
      "metadata": {
        "colab": {
          "base_uri": "https://localhost:8080/"
        },
        "id": "PjqggGq5mTsZ",
        "outputId": "4a772e78-ffb8-49b6-9173-2c9de06f1da2"
      },
      "execution_count": 34,
      "outputs": [
        {
          "output_type": "stream",
          "name": "stdout",
          "text": [
            "dict_keys(['brand', 'model', 'year'])\n",
            "dict_keys(['brand', 'model', 'year'])\n",
            "dict_keys(['brand', 'model', 'year', 'color'])\n"
          ]
        }
      ]
    },
    {
      "cell_type": "code",
      "source": [
        "# The values() method will return a list of all the values in the dictionary\n",
        "x = thisdict.values() \n",
        "print(x)\n"
      ],
      "metadata": {
        "colab": {
          "base_uri": "https://localhost:8080/"
        },
        "id": "zs7NkjeOnWt2",
        "outputId": "004abe4c-5be5-408d-dde2-4aebb4d6273e"
      },
      "execution_count": 35,
      "outputs": [
        {
          "output_type": "stream",
          "name": "stdout",
          "text": [
            "dict_values(['Ford', 'Mustang', 1964])\n"
          ]
        }
      ]
    },
    {
      "cell_type": "code",
      "source": [
        "# any changes done to the dictionary will be reflected in the values list\n",
        "# Make a change in the original dictionary, and see that the values list gets updated as well\n",
        "car = {\n",
        "\"brand\": \"Ford\",\n",
        "\"model\": \"Mustang\",\n",
        "\"year\": 1964\n",
        "}\n",
        "\n",
        "x = car.values()\n",
        "print(x) #before the change\n",
        "car[\"year\"] = 2020\n",
        "print(x) #after the change "
      ],
      "metadata": {
        "colab": {
          "base_uri": "https://localhost:8080/"
        },
        "id": "BXUzktD3nr8A",
        "outputId": "01951d82-f13b-4d9c-d70e-5eb83eb9b84d"
      },
      "execution_count": 36,
      "outputs": [
        {
          "output_type": "stream",
          "name": "stdout",
          "text": [
            "dict_values(['Ford', 'Mustang', 1964])\n",
            "dict_values(['Ford', 'Mustang', 2020])\n"
          ]
        }
      ]
    },
    {
      "cell_type": "code",
      "source": [
        "# The items() method will return each item in a dictionary, as tuples in a list\n",
        "x = thisdict.items()\n",
        "print(x)"
      ],
      "metadata": {
        "colab": {
          "base_uri": "https://localhost:8080/"
        },
        "id": "qFswIiPVn4xs",
        "outputId": "21f86f26-93c4-4ba4-a6e5-9d9cb2ecd1c9"
      },
      "execution_count": 37,
      "outputs": [
        {
          "output_type": "stream",
          "name": "stdout",
          "text": [
            "dict_items([('brand', 'Ford'), ('model', 'Mustang'), ('year', 1964)])\n"
          ]
        }
      ]
    },
    {
      "cell_type": "code",
      "source": [
        "# To determine if a specified key is present in a dictionary use the in keyword\n",
        "# Check if \"model\" is present in the dictionary\n",
        "thisdict =\t{\n",
        "  \"brand\": \"Ford\",\n",
        "  \"model\": \"Mustang\",\n",
        "  \"year\": 1964\n",
        "}\n",
        "if \"model\" in thisdict:\n",
        "  print(\"Yes, 'model' is one of the keys in the thisdict dictionary\")"
      ],
      "metadata": {
        "colab": {
          "base_uri": "https://localhost:8080/"
        },
        "id": "RTbkEwiMoG9t",
        "outputId": "f1525527-ec77-4093-f780-39a987c89844"
      },
      "execution_count": 39,
      "outputs": [
        {
          "output_type": "stream",
          "name": "stdout",
          "text": [
            "Yes, 'model' is one of the keys in the thisdict dictionary\n"
          ]
        }
      ]
    },
    {
      "cell_type": "code",
      "source": [
        "# The update() method will update the dictionary with the items from the given argument.\n",
        "# The argument must be a dictionary, or an iterable object with key:value pairs.\n",
        "# Update the \"year\" of the car by using the update() method\n",
        "thisdict =\t{\n",
        "  \"brand\": \"Ford\",\n",
        "  \"model\": \"Mustang\",\n",
        "  \"year\": 1964\n",
        "}\n",
        "thisdict.update({\"year\": 2020})\n",
        "print(thisdict)"
      ],
      "metadata": {
        "colab": {
          "base_uri": "https://localhost:8080/"
        },
        "id": "PIEnrQJrot7t",
        "outputId": "eefb66b0-5b7b-459c-d3c1-52bfab7e7987"
      },
      "execution_count": 40,
      "outputs": [
        {
          "output_type": "stream",
          "name": "stdout",
          "text": [
            "{'brand': 'Ford', 'model': 'Mustang', 'year': 2020}\n"
          ]
        }
      ]
    },
    {
      "cell_type": "code",
      "source": [
        "# Adding an item to the dictionary is done by using a new index key and assigning a value to it\n",
        "# The update() method will update the dictionary with the items from a given argument. If the item does not exist, the item will be added.\n",
        "# The argument must be a dictionary, or an iterable object with key:value pairs.\n",
        "thisdict =\t{\n",
        "  \"brand\": \"Ford\",\n",
        "  \"model\": \"Mustang\",\n",
        "  \"year\": 1964\n",
        "}\n",
        "thisdict[\"color\"] = \"red\"\n",
        "print(thisdict)"
      ],
      "metadata": {
        "colab": {
          "base_uri": "https://localhost:8080/"
        },
        "id": "U1KAfuhtpEfa",
        "outputId": "558bd9c9-10c8-4a67-f911-4fc302452ea3"
      },
      "execution_count": 41,
      "outputs": [
        {
          "output_type": "stream",
          "name": "stdout",
          "text": [
            "{'brand': 'Ford', 'model': 'Mustang', 'year': 1964, 'color': 'red'}\n"
          ]
        }
      ]
    },
    {
      "cell_type": "code",
      "source": [
        "# The clear() method empties the dictionary\n",
        "thisdict =\t{\n",
        "  \"brand\": \"Ford\",\n",
        "  \"model\": \"Mustang\",\n",
        "  \"year\": 1964\n",
        "}\n",
        "thisdict.clear()\n",
        "print(thisdict) "
      ],
      "metadata": {
        "colab": {
          "base_uri": "https://localhost:8080/"
        },
        "id": "bhNKgnHApLSK",
        "outputId": "f2a73d35-095e-4c4c-d2bb-863b10077317"
      },
      "execution_count": 42,
      "outputs": [
        {
          "output_type": "stream",
          "name": "stdout",
          "text": [
            "{}\n"
          ]
        }
      ]
    },
    {
      "cell_type": "code",
      "source": [
        "# There are several methods to remove items from a dictionary\n",
        "# The pop() method removes the item with the specified key name\n",
        "thisdict =\t{\n",
        "  \"brand\": \"Ford\",\n",
        "  \"model\": \"Mustang\",\n",
        "  \"year\": 1964\n",
        "}\n",
        "thisdict.pop(\"model\")\n",
        "print(thisdict) "
      ],
      "metadata": {
        "colab": {
          "base_uri": "https://localhost:8080/"
        },
        "id": "04JnOaX2q7Nd",
        "outputId": "58b13630-602e-430e-ee02-568147ccd9cc"
      },
      "execution_count": 43,
      "outputs": [
        {
          "output_type": "stream",
          "name": "stdout",
          "text": [
            "{'brand': 'Ford', 'year': 1964}\n"
          ]
        }
      ]
    },
    {
      "cell_type": "code",
      "source": [
        "# The popitem() method removes the last inserted item (in versions before 3.7, a random item is removed instead)\n",
        "thisdict =\t{\n",
        "  \"brand\": \"Ford\",\n",
        "  \"model\": \"Mustang\",\n",
        "  \"year\": 1964\n",
        "}\n",
        "thisdict.popitem()\n",
        "print(thisdict) "
      ],
      "metadata": {
        "colab": {
          "base_uri": "https://localhost:8080/"
        },
        "id": "3B7AmoYSrD9Y",
        "outputId": "0aac85ea-e06d-4a4c-e1f9-6d95b5351df7"
      },
      "execution_count": 44,
      "outputs": [
        {
          "output_type": "stream",
          "name": "stdout",
          "text": [
            "{'brand': 'Ford', 'model': 'Mustang'}\n"
          ]
        }
      ]
    },
    {
      "cell_type": "code",
      "source": [
        "# The del keyword removes the item with the specified key name\n",
        "thisdict =\t{\n",
        "  \"brand\": \"Ford\",\n",
        "  \"model\": \"Mustang\",\n",
        "  \"year\": 1964\n",
        "}\n",
        "del thisdict[\"model\"]\n",
        "print(thisdict) "
      ],
      "metadata": {
        "colab": {
          "base_uri": "https://localhost:8080/"
        },
        "id": "B5S81xAVrIJ7",
        "outputId": "3afc15a6-4ef7-41cf-f21d-4c811d0067a8"
      },
      "execution_count": 45,
      "outputs": [
        {
          "output_type": "stream",
          "name": "stdout",
          "text": [
            "{'brand': 'Ford', 'year': 1964}\n"
          ]
        }
      ]
    },
    {
      "cell_type": "code",
      "source": [
        "# The del keyword can also delete the dictionary completely\n",
        "thisdict =\t{\n",
        "  \"brand\": \"Ford\",\n",
        "  \"model\": \"Mustang\",\n",
        "  \"year\": 1964\n",
        "}\n",
        "del thisdict\n",
        "# print(thisdict) #this will cause an error because \"thisdict\" no longer exists. "
      ],
      "metadata": {
        "id": "nFeCbeturMoa"
      },
      "execution_count": 46,
      "outputs": []
    },
    {
      "cell_type": "code",
      "source": [
        "# You can loop through a dictionary by using a for loop.\n",
        "# When looping through a dictionary, the return value are the keys of the dictionary, but there are methods to return the values as well.\n",
        "# Print all key names in the dictionary, one by one\n",
        "thisdict =\t{\n",
        "  \"brand\": \"Ford\",\n",
        "  \"model\": \"Mustang\",\n",
        "  \"year\": 1964\n",
        "}\n",
        "for x in thisdict:\n",
        "  print(x) "
      ],
      "metadata": {
        "colab": {
          "base_uri": "https://localhost:8080/"
        },
        "id": "jjGrKvIQrRU-",
        "outputId": "cb5b3b8c-377c-40b0-ff4b-b7280b48f12e"
      },
      "execution_count": 48,
      "outputs": [
        {
          "output_type": "stream",
          "name": "stdout",
          "text": [
            "brand\n",
            "model\n",
            "year\n"
          ]
        }
      ]
    },
    {
      "cell_type": "code",
      "source": [
        "# Print all values in the dictionary, one by one\n",
        "for x in thisdict:\n",
        "  print(thisdict[x]) "
      ],
      "metadata": {
        "colab": {
          "base_uri": "https://localhost:8080/"
        },
        "id": "6jpamz2hrib8",
        "outputId": "cbc1fc6f-cdc4-4be8-e4d0-95947ac8795d"
      },
      "execution_count": 49,
      "outputs": [
        {
          "output_type": "stream",
          "name": "stdout",
          "text": [
            "Ford\n",
            "Mustang\n",
            "1964\n"
          ]
        }
      ]
    },
    {
      "cell_type": "code",
      "source": [
        "# You can also use the values() method to return values of a dictionary\n",
        "for x in thisdict.values():\n",
        "  print(x) "
      ],
      "metadata": {
        "colab": {
          "base_uri": "https://localhost:8080/"
        },
        "id": "m4RdmC6vroGe",
        "outputId": "06ea0c8e-59c9-45fe-cc63-35657f349c2b"
      },
      "execution_count": 50,
      "outputs": [
        {
          "output_type": "stream",
          "name": "stdout",
          "text": [
            "Ford\n",
            "Mustang\n",
            "1964\n"
          ]
        }
      ]
    },
    {
      "cell_type": "code",
      "source": [
        "# You can use the keys() method to return the keys of a dictionary\n",
        "for x in thisdict.keys():\n",
        "  print(x) "
      ],
      "metadata": {
        "colab": {
          "base_uri": "https://localhost:8080/"
        },
        "id": "wlBjkWl6rrKL",
        "outputId": "b19eaa52-d97a-47de-f47a-293eb8458fc8"
      },
      "execution_count": 51,
      "outputs": [
        {
          "output_type": "stream",
          "name": "stdout",
          "text": [
            "brand\n",
            "model\n",
            "year\n"
          ]
        }
      ]
    },
    {
      "cell_type": "code",
      "source": [
        "# Loop through both keys and values, by using the items() method\n",
        "for x, y in thisdict.items():\n",
        "  print(x,\":\", y) "
      ],
      "metadata": {
        "colab": {
          "base_uri": "https://localhost:8080/"
        },
        "id": "ydjBMPEgruBw",
        "outputId": "5328c53f-b65c-4147-8a26-cefdd70fc69d"
      },
      "execution_count": 53,
      "outputs": [
        {
          "output_type": "stream",
          "name": "stdout",
          "text": [
            "brand : Ford\n",
            "model : Mustang\n",
            "year : 1964\n"
          ]
        }
      ]
    },
    {
      "cell_type": "code",
      "source": [
        "# ou cannot copy a dictionary simply by typing dict2 = dict1, because: dict2 will only be a reference to dict1, and changes made in dict1 will automatically also be made in dict2.\n",
        "# There are ways to make a copy, one way is to use the built-in Dictionary method copy().\n",
        "# Make a copy of a dictionary with the copy() method\n",
        "thisdict =\t{\n",
        "  \"brand\": \"Ford\",\n",
        "  \"model\": \"Mustang\",\n",
        "  \"year\": 1964\n",
        "}\n",
        "mydict = thisdict.copy()\n",
        "print(mydict)"
      ],
      "metadata": {
        "colab": {
          "base_uri": "https://localhost:8080/"
        },
        "id": "U9GIMGTXrwgO",
        "outputId": "cb1e0f94-3f81-41c2-8f95-4de1fc117b0f"
      },
      "execution_count": 54,
      "outputs": [
        {
          "output_type": "stream",
          "name": "stdout",
          "text": [
            "{'brand': 'Ford', 'model': 'Mustang', 'year': 1964}\n"
          ]
        }
      ]
    },
    {
      "cell_type": "code",
      "source": [
        "# Another way to make a copy is to use the built-in function dict().\n",
        "# Make a copy of a dictionary with the dict() function\n",
        "thisdict =\t{\n",
        "  \"brand\": \"Ford\",\n",
        "  \"model\": \"Mustang\",\n",
        "  \"year\": 1964\n",
        "}\n",
        "mydict = dict(thisdict)\n",
        "print(mydict) "
      ],
      "metadata": {
        "colab": {
          "base_uri": "https://localhost:8080/"
        },
        "id": "GUAgHsTHsJpg",
        "outputId": "95ccbda8-1b91-4e95-c369-24b98f46667e"
      },
      "execution_count": 55,
      "outputs": [
        {
          "output_type": "stream",
          "name": "stdout",
          "text": [
            "{'brand': 'Ford', 'model': 'Mustang', 'year': 1964}\n"
          ]
        }
      ]
    },
    {
      "cell_type": "code",
      "source": [
        "# A dictionary can contain dictionaries, this is called nested dictionaries.\n",
        "# Create a dictionary that contain three dictionaries\n",
        "myfamily = {\n",
        "  \"child1\" : {\n",
        "    \"name\" : \"Emil\",\n",
        "    \"year\" : 2004\n",
        "  },\n",
        "  \"child2\" : {\n",
        "    \"name\" : \"Tobias\",\n",
        "    \"year\" : 2007\n",
        "  },\n",
        "  \"child3\" : {\n",
        "    \"name\" : \"Linus\",\n",
        "    \"year\" : 2011\n",
        "  }\n",
        "} \n",
        "print(myfamily)"
      ],
      "metadata": {
        "colab": {
          "base_uri": "https://localhost:8080/"
        },
        "id": "ZyizAF9bsSvA",
        "outputId": "e2000606-0ed9-4f2e-f785-787890cb4269"
      },
      "execution_count": 57,
      "outputs": [
        {
          "output_type": "stream",
          "name": "stdout",
          "text": [
            "{'child1': {'name': 'Emil', 'year': 2004}, 'child2': {'name': 'Tobias', 'year': 2007}, 'child3': {'name': 'Linus', 'year': 2011}}\n"
          ]
        }
      ]
    },
    {
      "cell_type": "code",
      "source": [
        "# You can add three dictionaries into a new dictionary.Create three dictionaries, then create one dictionary that will contain the other three dictionaries\n",
        "child1 = {\n",
        "  \"name\" : \"Emil\",\n",
        "  \"year\" : 2004\n",
        "}\n",
        "child2 = {\n",
        "  \"name\" : \"Tobias\",\n",
        "  \"year\" : 2007\n",
        "}\n",
        "child3 = {\n",
        "  \"name\" : \"Linus\",\n",
        "  \"year\" : 2011\n",
        "}\n",
        "\n",
        "myfamily = {\n",
        "  \"child1\" : child1,\n",
        "  \"child2\" : child2,\n",
        "  \"child3\" : child3\n",
        "}  \n",
        "print(myfamily)\n"
      ],
      "metadata": {
        "colab": {
          "base_uri": "https://localhost:8080/"
        },
        "id": "xSiSiKUeshIC",
        "outputId": "c6e7d8df-a5dc-4298-94f9-843b02c8e1b1"
      },
      "execution_count": 58,
      "outputs": [
        {
          "output_type": "stream",
          "name": "stdout",
          "text": [
            "{'child1': {'name': 'Emil', 'year': 2004}, 'child2': {'name': 'Tobias', 'year': 2007}, 'child3': {'name': 'Linus', 'year': 2011}}\n"
          ]
        }
      ]
    },
    {
      "cell_type": "code",
      "source": [
        "# setdefault() Method\n",
        "# Get the value of the \"model\" item\n",
        "# The setdefault() method returns the value of the item with the specified key.\n",
        "# If the key does not exist, insert the key, with the specified value, see example below\n",
        "car = {\n",
        "  \"brand\": \"Ford\",\n",
        "  \"model\": \"Mustang\",\n",
        "  \"year\": 1964\n",
        "}\n",
        "\n",
        "x = car.setdefault(\"model\", \"Bronco\")\n",
        "\n",
        "print(x) "
      ],
      "metadata": {
        "colab": {
          "base_uri": "https://localhost:8080/"
        },
        "id": "5NGt7uKts6Gx",
        "outputId": "dcb11b1c-b90a-41b3-9313-13641fd55d7a"
      },
      "execution_count": 60,
      "outputs": [
        {
          "output_type": "stream",
          "name": "stdout",
          "text": [
            "Mustang\n"
          ]
        }
      ]
    },
    {
      "cell_type": "code",
      "source": [
        "car = {\n",
        "  \"brand\": \"Ford\",\n",
        "  \"model\": \"Mustang\",\n",
        "  \"year\": 1964\n",
        "}\n",
        "x = car.setdefault(\"color\", \"white\")\n",
        "print(x) "
      ],
      "metadata": {
        "colab": {
          "base_uri": "https://localhost:8080/"
        },
        "id": "yjvJg5SjtItz",
        "outputId": "1bbcb7b7-dca8-4842-96de-4b360b7a1f2d"
      },
      "execution_count": 61,
      "outputs": [
        {
          "output_type": "stream",
          "name": "stdout",
          "text": [
            "white\n"
          ]
        }
      ]
    },
    {
      "cell_type": "code",
      "source": [
        "# fromkeys() Method\n",
        "# Create a dictionary with 3 keys, all with the value 0\n",
        "x = ('key1', 'key2', 'key3')\n",
        "y = 0\n",
        "thisdict = dict.fromkeys(x, y)\n",
        "print(thisdict)"
      ],
      "metadata": {
        "colab": {
          "base_uri": "https://localhost:8080/"
        },
        "id": "o9RbuyG8tT8W",
        "outputId": "be40b0d3-5762-4335-9f3f-3868c3d51df6"
      },
      "execution_count": 62,
      "outputs": [
        {
          "output_type": "stream",
          "name": "stdout",
          "text": [
            "{'key1': 0, 'key2': 0, 'key3': 0}\n"
          ]
        }
      ]
    },
    {
      "cell_type": "code",
      "source": [
        "x = ('key1', 'key2', 'key3')\n",
        "thisdict = dict.fromkeys(x)\n",
        "print(thisdict)"
      ],
      "metadata": {
        "colab": {
          "base_uri": "https://localhost:8080/"
        },
        "id": "voH2oQJdti9X",
        "outputId": "da1ef3e0-8373-4e2b-d8e3-c3a9545027de"
      },
      "execution_count": 63,
      "outputs": [
        {
          "output_type": "stream",
          "name": "stdout",
          "text": [
            "{'key1': None, 'key2': None, 'key3': None}\n"
          ]
        }
      ]
    },
    {
      "cell_type": "code",
      "source": [
        ""
      ],
      "metadata": {
        "id": "4u5wtQpvtr3S"
      },
      "execution_count": null,
      "outputs": []
    }
  ]
}