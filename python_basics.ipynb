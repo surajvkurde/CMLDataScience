{
  "nbformat": 4,
  "nbformat_minor": 0,
  "metadata": {
    "colab": {
      "name": "python_basics.ipynb",
      "provenance": [],
      "authorship_tag": "ABX9TyMTqf4tm8VsLMl9Sk068AhY"
    },
    "kernelspec": {
      "name": "python3",
      "display_name": "Python 3"
    },
    "language_info": {
      "name": "python"
    }
  },
  "cells": [
    {
      "cell_type": "code",
      "execution_count": null,
      "metadata": {
        "colab": {
          "base_uri": "https://localhost:8080/"
        },
        "id": "gtkUp6TaTMZt",
        "outputId": "3045da93-abad-4aa6-8962-c410bdd2c153"
      },
      "outputs": [
        {
          "output_type": "stream",
          "name": "stdout",
          "text": [
            "Python Learning\n"
          ]
        }
      ],
      "source": [
        "print(\"Python Learning\")"
      ]
    },
    {
      "cell_type": "markdown",
      "source": [
        "Python uses indentation to indicate a block of code.\n"
      ],
      "metadata": {
        "id": "V1MptXecYcmR"
      }
    },
    {
      "cell_type": "code",
      "source": [
        "#This is a comment\n",
        "print(\"# is used to comment a line\")"
      ],
      "metadata": {
        "colab": {
          "base_uri": "https://localhost:8080/"
        },
        "id": "PR6IbL8JY7qY",
        "outputId": "4c3986e5-71f0-4de6-c9ed-82c2876ed3f3"
      },
      "execution_count": null,
      "outputs": [
        {
          "output_type": "stream",
          "name": "stdout",
          "text": [
            "# is used to comment a line\n"
          ]
        }
      ]
    },
    {
      "cell_type": "code",
      "source": [
        "#This is a comment\n",
        "#written in\n",
        "#more than just one line\n",
        "print(\"To add a multiline comment you could insert a # for each line , Since Python will ignore string literals '\\n'that are not assigned to a variable,you can add a multiline string (triple quotes) in your code, and place your comment inside it\")"
      ],
      "metadata": {
        "colab": {
          "base_uri": "https://localhost:8080/"
        },
        "id": "RMIfaEz1Y_ZC",
        "outputId": "47bca806-070e-4415-e964-7a4a0756ab95"
      },
      "execution_count": null,
      "outputs": [
        {
          "output_type": "stream",
          "name": "stdout",
          "text": [
            "To add a multiline comment you could insert a # for each line , Since Python will ignore string literals '\n",
            "'that are not assigned to a variable,you can add a multiline string (triple quotes) in your code, and place your comment inside it\n"
          ]
        }
      ]
    },
    {
      "cell_type": "markdown",
      "source": [
        "Variables are containers for storing data values.\n",
        "Python has no command for declaring a variable.\n",
        "\n",
        "A variable is created the moment you first assign a value to it.\n",
        "Variables do not need to be declared with any particular type, and can even change type after they have been set."
      ],
      "metadata": {
        "id": "JCYGLax2Zj9K"
      }
    },
    {
      "cell_type": "code",
      "source": [
        "x = 4       # x is of type int\n",
        "print(x)\n",
        "x = \"String\" # x is now of type str\n",
        "print(x)"
      ],
      "metadata": {
        "colab": {
          "base_uri": "https://localhost:8080/"
        },
        "id": "CYS37kXRZXBW",
        "outputId": "484cd36c-c8b4-4911-e24d-601259a0223c"
      },
      "execution_count": null,
      "outputs": [
        {
          "output_type": "stream",
          "name": "stdout",
          "text": [
            "4\n",
            "String\n"
          ]
        }
      ]
    },
    {
      "cell_type": "code",
      "source": [
        "#If you want to specify the data type of a variable, this can be done with casting.\n",
        "x = str(3)    # x will be '3'\n",
        "y = int(3)    # y will be 3\n",
        "z = float(3)  # z will be 3.0 "
      ],
      "metadata": {
        "id": "ZtOGVOnhZ3NR"
      },
      "execution_count": null,
      "outputs": []
    },
    {
      "cell_type": "code",
      "source": [
        "print(x)\n",
        "print(y)\n",
        "print(z)"
      ],
      "metadata": {
        "colab": {
          "base_uri": "https://localhost:8080/"
        },
        "id": "Wpc1wyc2Z_sB",
        "outputId": "2538847a-5f01-48c9-ce6f-e76c92b5e723"
      },
      "execution_count": null,
      "outputs": [
        {
          "output_type": "stream",
          "name": "stdout",
          "text": [
            "3\n",
            "3\n",
            "3.0\n"
          ]
        }
      ]
    },
    {
      "cell_type": "code",
      "source": [
        "#You can get the data type of a variable with the type() function.\n",
        "x = 10\n",
        "y = \"String\"\n",
        "print(type(x))\n",
        "print(type(y))"
      ],
      "metadata": {
        "colab": {
          "base_uri": "https://localhost:8080/"
        },
        "id": "71-jdzd5aHea",
        "outputId": "08b7e1e5-4086-4b9d-ea8a-6c6f224a61ac"
      },
      "execution_count": null,
      "outputs": [
        {
          "output_type": "stream",
          "name": "stdout",
          "text": [
            "<class 'int'>\n",
            "<class 'str'>\n"
          ]
        }
      ]
    },
    {
      "cell_type": "code",
      "source": [
        "#Variable names are case-sensitive.\n",
        "a = 4\n",
        "A = \"Sally\"\n",
        "#A will not overwrite a \n",
        "print(a)\n",
        "print(A)"
      ],
      "metadata": {
        "colab": {
          "base_uri": "https://localhost:8080/"
        },
        "id": "hDxkXO7vaU70",
        "outputId": "e969b2f3-ea0e-42a1-ba24-973d3729d6fd"
      },
      "execution_count": null,
      "outputs": [
        {
          "output_type": "stream",
          "name": "stdout",
          "text": [
            "4\n",
            "Sally\n"
          ]
        }
      ]
    },
    {
      "cell_type": "code",
      "source": [
        "# A variable name must start with a letter or the underscore character\n",
        "# A variable name cannot start with a number\n",
        "# A variable name can only contain alpha-numeric characters and underscores (A-z, 0-9, and _ )\n",
        "# Variable names are case-sensitive (age, Age and AGE are three different variables)\n",
        "myvar = \"John\"\n",
        "my_var = \"John\"\n",
        "_my_var = \"John\"\n",
        "myVar = \"John\"\n",
        "MYVAR = \"John\"\n",
        "myvar2 = \"John\""
      ],
      "metadata": {
        "id": "RNdmUcJFaxCO"
      },
      "execution_count": null,
      "outputs": []
    },
    {
      "cell_type": "code",
      "source": [
        "# Python allows you to assign values to multiple variables in one line\n",
        "x, y, z = \"Orange\", \"Banana\", \"Cherry\"\n",
        "print(x)\n",
        "print(y)\n",
        "print(z)"
      ],
      "metadata": {
        "colab": {
          "base_uri": "https://localhost:8080/"
        },
        "id": "jmqB9lbLbTUh",
        "outputId": "ecf10dca-3047-454c-fa2a-564b56b108c4"
      },
      "execution_count": null,
      "outputs": [
        {
          "output_type": "stream",
          "name": "stdout",
          "text": [
            "Orange\n",
            "Banana\n",
            "Cherry\n"
          ]
        }
      ]
    },
    {
      "cell_type": "code",
      "source": [
        "# you can assign the same value to multiple variables in one line\n",
        "x = y = z = \"Orange\"\n",
        "print(x)\n",
        "print(y)\n",
        "print(z)"
      ],
      "metadata": {
        "colab": {
          "base_uri": "https://localhost:8080/"
        },
        "id": "zsGPYwCHbfuE",
        "outputId": "959e426e-2ef2-4a02-8e4f-e8d8597ae1be"
      },
      "execution_count": null,
      "outputs": [
        {
          "output_type": "stream",
          "name": "stdout",
          "text": [
            "Orange\n",
            "Orange\n",
            "Orange\n"
          ]
        }
      ]
    },
    {
      "cell_type": "code",
      "source": [
        "# If you have a collection of values in a list, tuple etc. Python allows you extract the values into variables. This is called unpacking.\n",
        "fruits = [\"apple\", \"banana\", \"cherry\"]\n",
        "x, y, z = fruits\n",
        "print(x)\n",
        "print(y)\n",
        "print(z)"
      ],
      "metadata": {
        "colab": {
          "base_uri": "https://localhost:8080/"
        },
        "id": "eqHmfS4kbuPj",
        "outputId": "6ce16c10-eded-47b6-cd53-31efb6252ad9"
      },
      "execution_count": null,
      "outputs": [
        {
          "output_type": "stream",
          "name": "stdout",
          "text": [
            "apple\n",
            "banana\n",
            "cherry\n"
          ]
        }
      ]
    },
    {
      "cell_type": "code",
      "source": [
        "# To combine both text and a variable, Python uses the + character\n",
        "x = \"awesome\"\n",
        "print(\"Python is \" + x)\n",
        "x = \"Python is \"\n",
        "y = \"awesome\"\n",
        "z =  x + y\n",
        "print(z)\n",
        "x = 5\n",
        "y = 10\n",
        "print(x + y)\n",
        "x = 5\n",
        "y = \"John\"\n",
        "print(x + y) #this generates error"
      ],
      "metadata": {
        "colab": {
          "base_uri": "https://localhost:8080/",
          "height": 254
        },
        "id": "W1MZJ9pFb1Ui",
        "outputId": "76d01825-8c5c-403f-d111-c140b108a3ad"
      },
      "execution_count": null,
      "outputs": [
        {
          "output_type": "stream",
          "name": "stdout",
          "text": [
            "Python is awesome\n",
            "Python is awesome\n",
            "15\n"
          ]
        },
        {
          "output_type": "error",
          "ename": "TypeError",
          "evalue": "ignored",
          "traceback": [
            "\u001b[0;31m---------------------------------------------------------------------------\u001b[0m",
            "\u001b[0;31mTypeError\u001b[0m                                 Traceback (most recent call last)",
            "\u001b[0;32m<ipython-input-19-347437b81e18>\u001b[0m in \u001b[0;36m<module>\u001b[0;34m()\u001b[0m\n\u001b[1;32m     11\u001b[0m \u001b[0mx\u001b[0m \u001b[0;34m=\u001b[0m \u001b[0;36m5\u001b[0m\u001b[0;34m\u001b[0m\u001b[0;34m\u001b[0m\u001b[0m\n\u001b[1;32m     12\u001b[0m \u001b[0my\u001b[0m \u001b[0;34m=\u001b[0m \u001b[0;34m\"John\"\u001b[0m\u001b[0;34m\u001b[0m\u001b[0;34m\u001b[0m\u001b[0m\n\u001b[0;32m---> 13\u001b[0;31m \u001b[0mprint\u001b[0m\u001b[0;34m(\u001b[0m\u001b[0mx\u001b[0m \u001b[0;34m+\u001b[0m \u001b[0my\u001b[0m\u001b[0;34m)\u001b[0m\u001b[0;34m\u001b[0m\u001b[0;34m\u001b[0m\u001b[0m\n\u001b[0m",
            "\u001b[0;31mTypeError\u001b[0m: unsupported operand type(s) for +: 'int' and 'str'"
          ]
        }
      ]
    },
    {
      "cell_type": "code",
      "source": [
        "# Normally, when you create a variable inside a function, that variable is local, and can only be used inside that function.\n",
        "# To create a global variable inside a function, you can use the global keyword.\n",
        "def myfunc():\n",
        "  global x\n",
        "  x = \"variable declared as global inside a function\"\n",
        "\n",
        "myfunc()\n",
        "\n",
        "print(\"Gloabl varibale inside function \" + x) "
      ],
      "metadata": {
        "colab": {
          "base_uri": "https://localhost:8080/"
        },
        "id": "J2dp-47scsXs",
        "outputId": "45123b22-74de-449e-ee3b-ffdafb1f56fc"
      },
      "execution_count": null,
      "outputs": [
        {
          "output_type": "stream",
          "name": "stdout",
          "text": [
            "Gloabl varibale inside function variable declared as global inside a function\n"
          ]
        }
      ]
    },
    {
      "cell_type": "code",
      "source": [
        "# To change the value of a global variable inside a function, refer to the variable by using the global keyword\n",
        "x = \"global\"\n",
        "\n",
        "def myfunc():\n",
        "  global x\n",
        "  x = \"global variable value changed inside function \"\n",
        "\n",
        "myfunc()\n",
        "\n",
        "print(\"Variable X is global variable but  \" + x) "
      ],
      "metadata": {
        "colab": {
          "base_uri": "https://localhost:8080/"
        },
        "id": "Q6bc5OdldUMn",
        "outputId": "35d9edd5-ce31-4e2d-91b3-93e577fe35d3"
      },
      "execution_count": null,
      "outputs": [
        {
          "output_type": "stream",
          "name": "stdout",
          "text": [
            "Variable X is global variable but  global variable value changed inside function \n"
          ]
        }
      ]
    },
    {
      "cell_type": "markdown",
      "source": [
        "**Variables can store data of different types, and different types can do different things.**\n",
        "\n",
        "Python has the following data types built-in by default, in these categories:\n",
        "Text Type: \tstr\n",
        "\n",
        "Numeric Types: \tint, float, complex\n",
        "\n",
        "Sequence Types: \tlist, tuple, range\n",
        "\n",
        "Mapping Type: \tdict\n",
        "\n",
        "Set Types: \tset, frozenset\n",
        "\n",
        "Boolean Type: \tbool\n",
        "\n",
        "Binary Types: \tbytes, bytearray, memoryview"
      ],
      "metadata": {
        "id": "kZGpg4qihRJ9"
      }
    },
    {
      "cell_type": "code",
      "source": [
        "#examples\n",
        "x = b\"Hello\"\n",
        "print(x)"
      ],
      "metadata": {
        "colab": {
          "base_uri": "https://localhost:8080/"
        },
        "id": "7T6Pd8Nbdj0D",
        "outputId": "e050723c-9166-4415-80e8-8f1766847f8b"
      },
      "execution_count": null,
      "outputs": [
        {
          "output_type": "stream",
          "name": "stdout",
          "text": [
            "b'Hello'\n"
          ]
        }
      ]
    },
    {
      "cell_type": "code",
      "source": [
        "x = frozenset({\"apple\", \"banana\", \"cherry\"})\n",
        "x"
      ],
      "metadata": {
        "colab": {
          "base_uri": "https://localhost:8080/"
        },
        "id": "ofZz5sSxhklz",
        "outputId": "7d73abee-a486-4fba-8aba-669f594bbccb"
      },
      "execution_count": null,
      "outputs": [
        {
          "output_type": "execute_result",
          "data": {
            "text/plain": [
              "frozenset({'apple', 'banana', 'cherry'})"
            ]
          },
          "metadata": {},
          "execution_count": 29
        }
      ]
    },
    {
      "cell_type": "code",
      "source": [
        "# Python does not have a random() function to make a random number, but Python has a built-in module called random that can be used to make random numbers\n",
        "import random\n",
        "\n",
        "print(random.randrange(1, 10)) "
      ],
      "metadata": {
        "colab": {
          "base_uri": "https://localhost:8080/"
        },
        "id": "xtNNb15LhtjQ",
        "outputId": "e6b42106-e3be-4d1e-8258-bc1a28fd9280"
      },
      "execution_count": null,
      "outputs": [
        {
          "output_type": "stream",
          "name": "stdout",
          "text": [
            "1\n"
          ]
        }
      ]
    },
    {
      "cell_type": "markdown",
      "source": [
        "***List***"
      ],
      "metadata": {
        "id": "8t-v4flgiLCy"
      }
    },
    {
      "cell_type": "markdown",
      "source": [
        "Lists are used to store multiple items in a single variable.\n",
        "Lists are one of 4 built-in data types in Python used to store collections of data, the other 3 are Tuple, Set, and Dictionary, all with different qualities and usage.\n",
        "\n",
        "Lists are created using square brackets."
      ],
      "metadata": {
        "id": "vUa-m_yciQ-B"
      }
    },
    {
      "cell_type": "code",
      "source": [
        "thislist = [\"apple\", \"banana\", \"cherry\"]\n",
        "print(thislist)"
      ],
      "metadata": {
        "colab": {
          "base_uri": "https://localhost:8080/"
        },
        "id": "_k08jeTeh_Yb",
        "outputId": "d44213c8-b743-44e0-a588-c745e67374b9"
      },
      "execution_count": null,
      "outputs": [
        {
          "output_type": "stream",
          "name": "stdout",
          "text": [
            "['apple', 'banana', 'cherry']\n"
          ]
        }
      ]
    },
    {
      "cell_type": "code",
      "source": [
        "# List items are ordered, changeable, and allow duplicate values.\n",
        "# List items are indexed, the first item has index [0], the second item has index [1] etc.\n",
        "\n",
        "print(\"***** Add item using append() :\")\n",
        "# If you add new items to a list, the new items will be placed at the end of the list.\n",
        "# To add an item to the end of the list, use the append() method\n",
        "thislist = [\"apple\", \"banana\", \"cherry\"]\n",
        "thislist.append(\"orange\")\n",
        "print(thislist)\n",
        "# To append elements from another list to the current list, use the extend() method.\n",
        "print(\"***** Add list to another list using extend() :\")\n",
        "thislist = [\"apple\", \"banana\", \"cherry\"]\n",
        "tropical = [\"mango\", \"pineapple\", \"papaya\"]\n",
        "thislist.extend(tropical)\n",
        "print(thislist)\n",
        "# The extend() method does not have to append lists, you can add any iterable object (tuples, sets, dictionaries etc.)\n",
        "print(\"***** Add items from any sequence to list using extend() :\")\n",
        "thislist = [\"apple\", \"banana\", \"cherry\"]\n",
        "thistuple = (\"kiwi\", \"orange\")\n",
        "thislist.extend(thistuple)\n",
        "print(thislist)\n",
        "\n",
        "\n",
        "# The list is changeable, meaning that we can change, add, and remove items in a list after it has been created.\n",
        "# To change the value of a specific item, refer to the index number\n",
        "print(\"***** Change item using index number :\")\n",
        "thislist = [\"apple\", \"banana\", \"cherry\"]\n",
        "thislist[1] = \"blackcurrant\"\n",
        "print(thislist)\n",
        "# To change the value of items within a specific range, define a list with the new values, and refer to the range of index numbers where you want to insert the new values\n",
        "print(\"***** Replace item using index range :\")\n",
        "thislist = [\"apple\", \"banana\", \"cherry\", \"orange\", \"kiwi\", \"mango\"]\n",
        "thislist[1:3] = [\"blackcurrant\", \"watermelon\"]\n",
        "print(thislist)\n",
        "# If you insert more items than you replace, the new items will be inserted where you specified, and the remaining items will move accordingly\n",
        "print(\"***** Replace item using index range and add element if more items than inserted than number of items replaced :\")\n",
        "thislist = [\"apple\", \"banana\", \"cherry\"]\n",
        "thislist[1:2] = [\"blackcurrant\", \"watermelon\"]\n",
        "# print(thislist) If you insert less items than you replace, the new items will be inserted where you specified, and the remaining items will move accordingly\n",
        "print(\"***** Replace item and shift list :\")\n",
        "thislist = [\"apple\", \"banana\", \"cherry\"]\n",
        "thislist[1:3] = [\"watermelon\"]\n",
        "print(thislist) \n",
        "# To insert a new list item, without replacing any of the existing values, we can use the insert() method.\n",
        "# The insert() method inserts an item at the specified index\n",
        "print(\"***** Change item using insert() :\")\n",
        "thislist = [\"apple\", \"banana\", \"cherry\"]\n",
        "thislist.insert(2, \"watermelon\")\n",
        "print(thislist)\n",
        "\n",
        "# The remove() method removes the specified item.\n",
        "print(\"***** Remove element using remove() - using element value :\")\n",
        "thislist = [\"apple\", \"banana\", \"cherry\"]\n",
        "thislist.remove(\"banana\")\n",
        "print(thislist)\n",
        "# The pop() method removes the specified index.\n",
        "print(\"***** Remove element using pop() - using index number to be removed :\")\n",
        "thislist = [\"apple\", \"banana\", \"cherry\"]\n",
        "thislist.pop(1)\n",
        "print(thislist)\n",
        "# If you do not specify the index, the pop() method removes the last item.\n",
        "print(\"***** Remove element using pop() - last element:\")\n",
        "thislist = [\"apple\", \"banana\", \"cherry\"]\n",
        "thislist.pop()\n",
        "print(thislist)\n",
        "# The del keyword also removes the specified index\n",
        "print(\"***** Delete element using 'del' keyword and index:\")\n",
        "thislist = [\"apple\", \"banana\", \"cherry\"]\n",
        "del thislist[0]\n",
        "print(thislist)\n",
        "# The del keyword can also delete the list completely.\n",
        "print(\"***** delete list:\")\n",
        "thislist = [\"apple\", \"banana\", \"cherry\"]\n",
        "del thislist \n",
        "# The clear() method empties the list.\n",
        "# The list still remains, but it has no content.\n",
        "print(\"Clear list items, but preserve list name\")\n",
        "thislist = [\"apple\", \"banana\", \"cherry\"]\n",
        "thislist.clear()\n",
        "print(thislist)\n",
        "\n",
        "\n",
        "\n",
        "\n",
        "# Since lists are indexed, lists can have items with the same value\n",
        "# List items are indexed and you can access them by referring to the index number\n",
        "thislist = [\"apple\", \"banana\", \"cherry\"]\n",
        "print(thislist[1])\n",
        "# Negative indexing\n",
        "print(thislist[-1])\n",
        "# You can specify a range of indexes by specifying where to start and where to end the range.\n",
        "# When specifying a range, the return value will be a new list with the specified items.\n",
        "thislist = [\"apple\", \"banana\", \"cherry\", \"orange\", \"kiwi\", \"melon\", \"mango\"]\n",
        "print(thislist[2:5])\n",
        "# By leaving out the start value, the range will start at the first item\n",
        "print(thislist[:4])\n",
        "# By leaving out the end value, the range will go on to the end of the list\n",
        "print(thislist[2:])\n",
        "# Specify negative indexes if you want to start the search from the end of the list\n",
        "print(thislist[-4:-1])\n",
        "# To determine if a specified item is present in a list use the in keyword\n",
        "if \"apple\" in thislist:\n",
        "  print(\"Yes, 'apple' is in the fruits list\") \n",
        "\n",
        "\n",
        "# To determine how many items a list has, use the len() function\n",
        "print(len(thislist))\n",
        "\n",
        "# A list can contain different data types\n",
        "list1 = [\"abc\", 34, True, 40, \"male\"]\n",
        "print(list1)\n",
        "\n",
        "# It is also possible to use the list() constructor when creating a new list.\n",
        "list2 = list((\"apple\", \"banana\", \"cherry\")) # note the double round-brackets\n",
        "print(list2)\n",
        "\n",
        "\n"
      ],
      "metadata": {
        "colab": {
          "base_uri": "https://localhost:8080/"
        },
        "id": "MM0SdJhQiY3K",
        "outputId": "fbd1b45c-6153-4a14-b22e-3fb3f1fad016"
      },
      "execution_count": null,
      "outputs": [
        {
          "output_type": "stream",
          "name": "stdout",
          "text": [
            "***** Add item using append() :\n",
            "['apple', 'banana', 'cherry', 'orange']\n",
            "***** Add list to another list using extend() :\n",
            "['apple', 'banana', 'cherry', 'mango', 'pineapple', 'papaya']\n",
            "***** Add items from any sequence to list using extend() :\n",
            "['apple', 'banana', 'cherry', 'kiwi', 'orange']\n",
            "***** Change item using index number :\n",
            "['apple', 'blackcurrant', 'cherry']\n",
            "***** Replace item using index range :\n",
            "['apple', 'blackcurrant', 'watermelon', 'orange', 'kiwi', 'mango']\n",
            "***** Replace item using index range and add element if more items than inserted than number of items replaced :\n",
            "***** Replace item and shift list :\n",
            "['apple', 'watermelon']\n",
            "***** Change item using insert() :\n",
            "['apple', 'banana', 'watermelon', 'cherry']\n",
            "***** Remove element using remove() - using element value :\n",
            "['apple', 'cherry']\n",
            "***** Remove element using pop() - using index number to be removed :\n",
            "['apple', 'cherry']\n",
            "***** Remove element using pop() - last element:\n",
            "['apple', 'banana']\n",
            "***** Delete element using 'del' keyword and index:\n",
            "['banana', 'cherry']\n",
            "***** delete list:\n",
            "Clear list items, but preserve list name\n",
            "[]\n",
            "banana\n",
            "cherry\n",
            "['cherry', 'orange', 'kiwi']\n",
            "['apple', 'banana', 'cherry', 'orange']\n",
            "['cherry', 'orange', 'kiwi', 'melon', 'mango']\n",
            "['orange', 'kiwi', 'melon']\n",
            "Yes, 'apple' is in the fruits list\n",
            "7\n",
            "['abc', 34, True, 40, 'male']\n",
            "['apple', 'banana', 'cherry']\n"
          ]
        }
      ]
    },
    {
      "cell_type": "code",
      "source": [
        "# You can loop through the list items by using a for loop\n",
        "print(\"***** You can loop through the list items by using a for loop :\")\n",
        "thislist = [\"apple\", \"banana\", \"cherry\"]\n",
        "for x in thislist:\n",
        "  print(x) \n",
        "\n",
        "# You can also loop through the list items by referring to their index number.\n",
        "# Use the range() and len() functions to create a suitable iterable.\n",
        "print(\"***** You can loop through the list items by using index numbers :\")\n",
        "thislist = [\"apple\", \"banana\", \"cherry\"]\n",
        "for i in range(len(thislist)):\n",
        "  print(thislist[i]) \n",
        "\n",
        "# You can loop through the list items by using a while loop.\n",
        "# Use the len() function to determine the length of the list, then start at 0 and loop your way through the list items by refering to their indexes.\n",
        "# Increase the index by 1 after each iteration.\n",
        "print(\"***** You can loop through the list items by using a while loop :\")\n",
        "thislist = [\"apple\", \"banana\", \"cherry\"]\n",
        "i = 0\n",
        "while i < len(thislist):\n",
        "  print(thislist[i])\n",
        "  i = i + 1\n",
        "\n",
        "# List Comprehension offers the shortest syntax for looping through lists\n",
        "print(\"***** You can loop through the list items by using list comprehension:\")\n",
        "thislist = [\"apple\", \"banana\", \"cherry\"]\n",
        "[print(x) for x in thislist]"
      ],
      "metadata": {
        "colab": {
          "base_uri": "https://localhost:8080/"
        },
        "id": "KoIYrckVkLit",
        "outputId": "c08e1fd2-a210-4cee-9bb1-659a457dcd40"
      },
      "execution_count": null,
      "outputs": [
        {
          "output_type": "stream",
          "name": "stdout",
          "text": [
            "***** You can loop through the list items by using a for loop :\n",
            "apple\n",
            "banana\n",
            "cherry\n",
            "***** You can loop through the list items by using index numbers :\n",
            "apple\n",
            "banana\n",
            "cherry\n",
            "***** You can loop through the list items by using a while loop :\n",
            "apple\n",
            "banana\n",
            "cherry\n",
            "***** You can loop through the list items by using list comprehension:\n",
            "apple\n",
            "banana\n",
            "cherry\n"
          ]
        },
        {
          "output_type": "execute_result",
          "data": {
            "text/plain": [
              "[None, None, None]"
            ]
          },
          "metadata": {},
          "execution_count": 40
        }
      ]
    },
    {
      "cell_type": "markdown",
      "source": [
        "**List Comprehension**"
      ],
      "metadata": {
        "id": "cvmECy5OazPT"
      }
    },
    {
      "cell_type": "code",
      "source": [
        "# List comprehension offers a shorter syntax when you want to create a new list based on the values of an existing list.\n",
        "print(\"*** create new list from existing list using list comprehension **** \")\n",
        "\n",
        "# Based on a list of fruits, you want a new list, containing only the fruits with the letter \"a\" in the name.\n",
        "\n",
        "# using for loop\n",
        "fruits = [\"apple\", \"banana\", \"cherry\", \"kiwi\", \"mango\"]\n",
        "newlist = []\n",
        "\n",
        "for x in fruits:\n",
        "  if \"a\" in x:\n",
        "    newlist.append(x)\n",
        "\n",
        "print(newlist)\n",
        "\n",
        "\n",
        "# using list comprehension\n",
        "# Syntax :      newlist = [expression for item in iterable if condition == True]\n",
        "fruits = [\"apple\", \"banana\", \"cherry\", \"kiwi\", \"mango\"]\n",
        "\n",
        "newlist = [x for x in fruits if \"a\" in x]\n",
        "\n",
        "# print(newlist) "
      ],
      "metadata": {
        "id": "-lGDX9-EnN3d",
        "colab": {
          "base_uri": "https://localhost:8080/"
        },
        "outputId": "4d42a8dd-093f-40df-b379-781f93a7f4ca"
      },
      "execution_count": null,
      "outputs": [
        {
          "output_type": "stream",
          "name": "stdout",
          "text": [
            "*** create new list from existing list using list comprehension **** \n",
            "['apple', 'banana', 'mango']\n"
          ]
        }
      ]
    },
    {
      "cell_type": "markdown",
      "source": [
        "The condition is like a filter that only accepts the items that evaluate to True.\n",
        "\n",
        "newlist = [x for x in fruits if x != \"apple\"] \n",
        "\n",
        "The condition is optional and can be omitted:\n",
        "\n",
        "newlist = [x for x in fruits]\n",
        "\n",
        "The iterable can be any iterable object, like a list, tuple, set etc.\n",
        "\n",
        "You can use the range() function to create an iterable--\n",
        "\n",
        "newlist = [x for x in range(10)] \n",
        "\n",
        "newlist = [x for x in range(10) if x < 5]  #with condition\n",
        "\n",
        "The expression is the current item in the iteration, but it is also the outcome, which you can manipulate before it ends up like a list item in the new list\n",
        "\n",
        "newlist = [x.upper() for x in fruits]\n",
        "\n",
        "You can set the outcome to whatever you like\n",
        "\n",
        "newlist = ['hello' for x in fruits]\n",
        "\n",
        "The expression can also contain conditions, not like a filter, but as a way to manipulate the outcome\n",
        "\n",
        "newlist = [x if x != \"banana\" else \"orange\" for x in fruits]"
      ],
      "metadata": {
        "id": "AYC3WUWNcW0t"
      }
    },
    {
      "cell_type": "code",
      "source": [
        "# Sort()\n",
        "\n",
        "# List objects have a sort() method that will sort the list alphanumerically, ascending, by default\n",
        "print(\"********* Sorting list *********\")\n",
        "thislist = [\"orange\", \"mango\", \"kiwi\", \"pineapple\", \"banana\"]\n",
        "thislist.sort()\n",
        "print(thislist)\n",
        "\n",
        "\n",
        "# Sort the list numerically\n",
        "print(\"***********Sort the list numerically*********\")\n",
        "thislist = [100, 50, 65, 82, 23]\n",
        "thislist.sort()\n",
        "print(thislist)\n",
        "\n",
        "# To sort descending, use the keyword argument reverse = True\n",
        "print(\"********** Sort in descending order**********\")\n",
        "thislist = [\"orange\", \"mango\", \"kiwi\", \"pineapple\", \"banana\"]\n",
        "thislist.sort(reverse = True)\n",
        "print(thislist)"
      ],
      "metadata": {
        "colab": {
          "base_uri": "https://localhost:8080/"
        },
        "id": "0x4f9irobW5x",
        "outputId": "73771744-8eca-4265-f3e5-0ad902d83fa0"
      },
      "execution_count": null,
      "outputs": [
        {
          "output_type": "stream",
          "name": "stdout",
          "text": [
            "********* Sorting list *********\n",
            "['banana', 'kiwi', 'mango', 'orange', 'pineapple']\n",
            "***********Sort the list numerically*********\n",
            "[23, 50, 65, 82, 100]\n",
            "********** Sort in descending order**********\n",
            "['pineapple', 'orange', 'mango', 'kiwi', 'banana']\n"
          ]
        }
      ]
    },
    {
      "cell_type": "markdown",
      "source": [
        "You can also customize your own function by using the keyword argument key = function.\n",
        "\n",
        "The function will return a number that will be used to sort the list (the lowest number first)"
      ],
      "metadata": {
        "id": "0Mfc9O2yeB-Q"
      }
    },
    {
      "cell_type": "code",
      "source": [
        "# Sort the list based on how close the number is to 50\n",
        "def myfunc(n):\n",
        "  return abs(n - 50)\n",
        "\n",
        "thislist = [100, 50, 65, 82, 23]\n",
        "print(\"Original List\")\n",
        "print(thislist)\n",
        "thislist.sort(key = myfunc)\n",
        "print(\"Sorted list  based on closeliness with ref to 50\")\n",
        "print(thislist)"
      ],
      "metadata": {
        "colab": {
          "base_uri": "https://localhost:8080/"
        },
        "id": "GDu-tRL1cYy0",
        "outputId": "25802848-d8e0-487b-a872-7bbcc2568286"
      },
      "execution_count": null,
      "outputs": [
        {
          "output_type": "stream",
          "name": "stdout",
          "text": [
            "Original List\n",
            "[100, 50, 65, 82, 23]\n",
            "Sorted list  based on closeliness with ref to 50\n",
            "[50, 65, 23, 82, 100]\n"
          ]
        }
      ]
    },
    {
      "cell_type": "code",
      "source": [
        "# If you want a case-insensitive sort function, use str.lower as a key function\n",
        "print(\"case insensitive sorting\")\n",
        "thislist = [\"banana\", \"Orange\", \"Kiwi\", \"cherry\"]\n",
        "thislist.sort(key = str.lower)\n",
        "print(thislist)"
      ],
      "metadata": {
        "colab": {
          "base_uri": "https://localhost:8080/"
        },
        "id": "ObaJwyU8eT8Z",
        "outputId": "64246f42-4027-48a4-ce11-79996363c574"
      },
      "execution_count": null,
      "outputs": [
        {
          "output_type": "stream",
          "name": "stdout",
          "text": [
            "case insensitive sorting\n",
            "['banana', 'cherry', 'Kiwi', 'Orange']\n"
          ]
        }
      ]
    },
    {
      "cell_type": "code",
      "source": [
        "# The reverse() method reverses the current order of the elements.\n",
        "thislist = [\"banana\", \"Orange\", \"Kiwi\", \"cherry\"]\n",
        "print(thislist)\n",
        "thislist.reverse()\n",
        "print(thislist)"
      ],
      "metadata": {
        "colab": {
          "base_uri": "https://localhost:8080/"
        },
        "id": "2rsZH49Qeiv4",
        "outputId": "7f7a84ce-53bc-4ab7-eccc-af0c93bf10eb"
      },
      "execution_count": null,
      "outputs": [
        {
          "output_type": "stream",
          "name": "stdout",
          "text": [
            "['banana', 'Orange', 'Kiwi', 'cherry']\n",
            "['cherry', 'Kiwi', 'Orange', 'banana']\n"
          ]
        }
      ]
    },
    {
      "cell_type": "code",
      "source": [
        "# Copy a List\n",
        "print(\"Copy a List\")\n",
        "\n",
        "print(\" Using copy() method\")\n",
        "thislist = [\"apple\", \"banana\", \"cherry\"]\n",
        "mylist = thislist.copy()\n",
        "print(mylist)\n",
        "\n",
        "print(\" Using list() method\")\n",
        "thislist = [\"apple\", \"banana\", \"cherry\"]\n",
        "mylist = list(thislist)\n",
        "print(mylist)\n",
        "\n"
      ],
      "metadata": {
        "colab": {
          "base_uri": "https://localhost:8080/"
        },
        "id": "x1BJz1NrerVO",
        "outputId": "0c66e4bc-d202-445e-9366-0a7acd4759b7"
      },
      "execution_count": null,
      "outputs": [
        {
          "output_type": "stream",
          "name": "stdout",
          "text": [
            "Copy a List\n",
            " Using copy() method\n",
            "['apple', 'banana', 'cherry']\n",
            " Using list() method\n",
            "['apple', 'banana', 'cherry']\n"
          ]
        }
      ]
    },
    {
      "cell_type": "code",
      "source": [
        "# Join or concatenate two or more list using + operator, extend() method or append() method\n",
        "\n",
        "print(\"****** Join or concatenate two or more list using + operator ******\")\n",
        "list1 = [\"a\", \"b\", \"c\"]\n",
        "list2 = [1, 2, 3]\n",
        "\n",
        "list3 = list1 + list2\n",
        "print(list3) \n",
        "\n",
        "\n",
        "print(\" ****** Join or concatenate two or more list using append() ******\")\n",
        "list1 = [\"a\", \"b\" , \"c\"]\n",
        "list2 = [1, 2, 3, 4, 5]\n",
        "\n",
        "for x in list2:\n",
        "  list1.append(x)\n",
        "\n",
        "print(list1) \n",
        "\n",
        "\n",
        "print(\"****** Join or concatenate two or more list using extend() ******\")\n",
        "list1 = [\"a\", \"b\" , \"c\"]\n",
        "list2 = [7, 8, 9, 1, 2, 3]\n",
        "\n",
        "list1.extend(list2)\n",
        "print(list1) "
      ],
      "metadata": {
        "colab": {
          "base_uri": "https://localhost:8080/"
        },
        "id": "BiYtOaWCfN42",
        "outputId": "cc010b82-8c50-4756-b8ba-71e262e7d726"
      },
      "execution_count": null,
      "outputs": [
        {
          "output_type": "stream",
          "name": "stdout",
          "text": [
            "****** Join or concatenate two or more list using + operator ******\n",
            "['a', 'b', 'c', 1, 2, 3]\n",
            " ****** Join or concatenate two or more list using append() ******\n",
            "['a', 'b', 'c', 1, 2, 3, 4, 5]\n",
            "****** Join or concatenate two or more list using extend() ******\n",
            "['a', 'b', 'c', 7, 8, 9, 1, 2, 3]\n"
          ]
        }
      ]
    },
    {
      "cell_type": "markdown",
      "source": [
        "List count() Method"
      ],
      "metadata": {
        "id": "A69CVqnwguak"
      }
    },
    {
      "cell_type": "code",
      "source": [
        "# Return the number of times the value \"cherry\" appears in the fruits list\n",
        "fruits = ['apple', 'banana', 'cherry']\n",
        "x = fruits.count(\"cherry\")\n",
        "x"
      ],
      "metadata": {
        "colab": {
          "base_uri": "https://localhost:8080/"
        },
        "id": "vD_gR5McgOwp",
        "outputId": "12d3bfa1-be42-4e1b-e7ab-bf1212ec1221"
      },
      "execution_count": null,
      "outputs": [
        {
          "output_type": "execute_result",
          "data": {
            "text/plain": [
              "1"
            ]
          },
          "metadata": {},
          "execution_count": 11
        }
      ]
    },
    {
      "cell_type": "code",
      "source": [
        "# Return the number of times the value 9 appears int the list\n",
        "points = [1, 4, 2, 9, 7, 8, 9, 3, 1]\n",
        "x = points.count(9)\n",
        "x"
      ],
      "metadata": {
        "colab": {
          "base_uri": "https://localhost:8080/"
        },
        "id": "QeLUkHSpgylc",
        "outputId": "049ff717-d2c2-43d3-8af6-d7c63ccbe858"
      },
      "execution_count": null,
      "outputs": [
        {
          "output_type": "execute_result",
          "data": {
            "text/plain": [
              "2"
            ]
          },
          "metadata": {},
          "execution_count": 12
        }
      ]
    },
    {
      "cell_type": "markdown",
      "source": [
        "List index() Method"
      ],
      "metadata": {
        "id": "bDWJwSWUg_gf"
      }
    },
    {
      "cell_type": "code",
      "source": [
        "# What is the position of the value \"cherry\"\n",
        "fruits = ['apple', 'banana', 'cherry']\n",
        "x = fruits.index(\"cherry\")\n",
        "print(x)\n",
        "\n",
        "\n",
        "fruits = [4, 55, 64, 32, 16, 32]\n",
        "x = fruits.index(32)\n",
        "print(x)"
      ],
      "metadata": {
        "colab": {
          "base_uri": "https://localhost:8080/"
        },
        "id": "dF3RlZU_g8h_",
        "outputId": "11986217-3684-444a-bb7f-0a6e58462c0d"
      },
      "execution_count": null,
      "outputs": [
        {
          "output_type": "stream",
          "name": "stdout",
          "text": [
            "2\n",
            "3\n"
          ]
        }
      ]
    },
    {
      "cell_type": "markdown",
      "source": [
        "**Tuple**"
      ],
      "metadata": {
        "id": "2IG_2tl0g-s9"
      }
    },
    {
      "cell_type": "code",
      "source": [
        "mytuple = (\"apple\", \"banana\", \"cherry\")\n",
        "mytuple"
      ],
      "metadata": {
        "colab": {
          "base_uri": "https://localhost:8080/"
        },
        "id": "6NKBj_j5heVf",
        "outputId": "56c4f295-f571-439f-b4bf-61fb66428a93"
      },
      "execution_count": null,
      "outputs": [
        {
          "output_type": "execute_result",
          "data": {
            "text/plain": [
              "('apple', 'banana', 'cherry')"
            ]
          },
          "metadata": {},
          "execution_count": 17
        }
      ]
    },
    {
      "cell_type": "markdown",
      "source": [
        "Tuple items are ordered, unchangeable, and allow duplicate values.Tuples are written with round brackets.\n",
        "Tuple items are indexed, the first item has index [0], the second item has index [1] etc.\n",
        "Tuples are unchangeable, meaning that we cannot change, add or remove items after the tuple has been created.\n"
      ],
      "metadata": {
        "id": "-l01EuIdhr7M"
      }
    },
    {
      "cell_type": "code",
      "source": [
        "# To create a tuple with only one item, you have to add a comma after the item, otherwise Python will not recognize it as a tuple.\n",
        "thistuple = (\"apple\",)\n",
        "print(type(thistuple))\n",
        "\n",
        "#NOT a tuple\n",
        "thistuple = (\"apple\")\n",
        "print(type(thistuple)) "
      ],
      "metadata": {
        "colab": {
          "base_uri": "https://localhost:8080/"
        },
        "id": "LbVrOyf6hiwk",
        "outputId": "8d87c405-c90b-4cd5-dd83-56b7c31749f3"
      },
      "execution_count": null,
      "outputs": [
        {
          "output_type": "stream",
          "name": "stdout",
          "text": [
            "<class 'tuple'>\n",
            "<class 'str'>\n"
          ]
        }
      ]
    },
    {
      "cell_type": "code",
      "source": [
        "# Tuple items can be of any data type\n",
        "# String, int and boolean data types\n",
        "# A tuple can contain different data types\n",
        "tuple1 = (\"apple\", \"banana\", \"cherry\")\n",
        "tuple2 = (1, 5, 7, 9, 3)\n",
        "tuple3 = (True, False, False)\n",
        "tuple1 = (\"abc\", 34, True, 40, \"male\")\n"
      ],
      "metadata": {
        "id": "a6-57XMDiQ8I"
      },
      "execution_count": null,
      "outputs": []
    },
    {
      "cell_type": "code",
      "source": [
        "# It is also possible to use the tuple() constructor to make a tuple.\n",
        "thistuple = tuple((\"apple\", \"banana\", \"cherry\")) # note the double round-brackets\n",
        "print(thistuple)"
      ],
      "metadata": {
        "colab": {
          "base_uri": "https://localhost:8080/"
        },
        "id": "uTOFhkl2EYCG",
        "outputId": "c83a7054-2ee4-4af0-fdad-4fa6a839153a"
      },
      "execution_count": null,
      "outputs": [
        {
          "output_type": "stream",
          "name": "stdout",
          "text": [
            "('apple', 'banana', 'cherry')\n"
          ]
        }
      ]
    },
    {
      "cell_type": "markdown",
      "source": [
        "*Access Tuple Items*"
      ],
      "metadata": {
        "id": "B4DYLEtIEo-V"
      }
    },
    {
      "cell_type": "code",
      "source": [
        "# You can access tuple items by referring to the index number, inside square brackets\n",
        "# Negative indexing means start from the end.\n",
        "# -1 refers to the last item, -2 refers to the second last item etc.\n",
        "thistuple = (\"apple\", \"banana\", \"cherry\")\n",
        "print(thistuple[1])\n",
        "print(thistuple[-1])\n",
        "# You can specify a range of indexes by specifying where to start and where to end the range.\n",
        "# When specifying a range, the return value will be a new tuple with the specified items.\n",
        "thistuple = (\"apple\", \"banana\", \"cherry\", \"orange\", \"kiwi\", \"melon\", \"mango\")\n",
        "print(thistuple[2:5])\n",
        "# To determine if a specified item is present in a tuple use the in keyword\n",
        "thistuple = (\"apple\", \"banana\", \"cherry\")\n",
        "if \"apple\" in thistuple:\n",
        "  print(\"Yes, 'apple' is in the fruits tuple\") "
      ],
      "metadata": {
        "colab": {
          "base_uri": "https://localhost:8080/"
        },
        "id": "eDbmTjSAEgAF",
        "outputId": "a1bcc679-5b9b-43c3-a3f5-48bfb324cd71"
      },
      "execution_count": null,
      "outputs": [
        {
          "output_type": "stream",
          "name": "stdout",
          "text": [
            "banana\n",
            "cherry\n",
            "('cherry', 'orange', 'kiwi')\n",
            "Yes, 'apple' is in the fruits tuple\n"
          ]
        }
      ]
    },
    {
      "cell_type": "markdown",
      "source": [
        "Tuples are unchangeable, meaning that you cannot change, add, or remove items once the tuple is created.\n",
        "But there are some workarounds. \n",
        "Tuples are unchangeable, or immutable as it also is called."
      ],
      "metadata": {
        "id": "YzbC6uo8FSBo"
      }
    },
    {
      "cell_type": "code",
      "source": [
        "x = (\"apple\", \"banana\", \"cherry\")\n",
        "y = list(x)\n",
        "y[1] = \"kiwi\"\n",
        "x = tuple(y)\n",
        "\n",
        "print(x) "
      ],
      "metadata": {
        "colab": {
          "base_uri": "https://localhost:8080/"
        },
        "id": "LU9-TgrwFIal",
        "outputId": "5190f7a4-8528-4fbd-ca40-211d731b8098"
      },
      "execution_count": null,
      "outputs": [
        {
          "output_type": "stream",
          "name": "stdout",
          "text": [
            "('apple', 'kiwi', 'cherry')\n"
          ]
        }
      ]
    },
    {
      "cell_type": "code",
      "source": [
        "# Since tuples are immutable, they do not have a build-in append() method, but there are other ways to add items to a tuple.\n"
      ],
      "metadata": {
        "id": "MVcVTAmhFnjn"
      },
      "execution_count": null,
      "outputs": []
    }
  ]
}