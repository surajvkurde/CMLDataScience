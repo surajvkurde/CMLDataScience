{
  "nbformat": 4,
  "nbformat_minor": 0,
  "metadata": {
    "kernelspec": {
      "display_name": "Python 3",
      "language": "python",
      "name": "python3"
    },
    "language_info": {
      "codemirror_mode": {
        "name": "ipython",
        "version": 3
      },
      "file_extension": ".py",
      "mimetype": "text/x-python",
      "name": "python",
      "nbconvert_exporter": "python",
      "pygments_lexer": "ipython3",
      "version": "3.8.8"
    },
    "colab": {
      "name": "sets_questions.ipynb",
      "provenance": []
    }
  },
  "cells": [
    {
      "cell_type": "markdown",
      "metadata": {
        "id": "DtswEW6_rIKK"
      },
      "source": [
        "1. Write a Python program to create a set"
      ]
    },
    {
      "cell_type": "code",
      "metadata": {
        "id": "Imq-bCFJrIKn"
      },
      "source": [
        "set1={}"
      ],
      "execution_count": 1,
      "outputs": []
    },
    {
      "cell_type": "markdown",
      "metadata": {
        "id": "xByjcY0XrIKp"
      },
      "source": [
        "2.Write a Python program to add member(s) in a set."
      ]
    },
    {
      "cell_type": "code",
      "metadata": {
        "id": "4FngKAWirIKu"
      },
      "source": [
        "set1={1,4,2,4,6,8,0,9}"
      ],
      "execution_count": 2,
      "outputs": []
    },
    {
      "cell_type": "markdown",
      "metadata": {
        "id": "STB_H-TfrIK0"
      },
      "source": [
        "3.Write a Python program to add string , int, list and float member(s) in a set."
      ]
    },
    {
      "cell_type": "code",
      "metadata": {
        "colab": {
          "base_uri": "https://localhost:8080/"
        },
        "id": "IuBMhAV0rIK2",
        "outputId": "6f4b9df4-a840-4681-bb75-e9abe901279e"
      },
      "source": [
        "set1.add(\"a\")\n",
        "set1.add(\"str\")\n",
        "set1.add(2.36)\n",
        "lisst=[1,2,3]\n",
        "set1.add(25)\n",
        "set1.update(lisst)\n",
        "set1"
      ],
      "execution_count": 26,
      "outputs": [
        {
          "output_type": "execute_result",
          "data": {
            "text/plain": [
              "{0, 1, 12, 13, 15, 16, 2, 2.36, 25, 3, 4, 5, 6, 8, 9, 'a', 'str'}"
            ]
          },
          "metadata": {
            "tags": []
          },
          "execution_count": 26
        }
      ]
    },
    {
      "cell_type": "markdown",
      "metadata": {
        "id": "mN6HEYIMrIK4"
      },
      "source": [
        "4.Write a program to add multiple element in set."
      ]
    },
    {
      "cell_type": "code",
      "metadata": {
        "colab": {
          "base_uri": "https://localhost:8080/"
        },
        "id": "MFrhufS0rIK5",
        "outputId": "0c92dea3-fbd6-4639-b0f9-b156ccc786f5"
      },
      "source": [
        "set2={50,60,70,80,90,100}\n",
        "set1.update(set2)\n",
        "set1"
      ],
      "execution_count": 27,
      "outputs": [
        {
          "output_type": "execute_result",
          "data": {
            "text/plain": [
              "{0,\n",
              " 1,\n",
              " 100,\n",
              " 12,\n",
              " 13,\n",
              " 15,\n",
              " 16,\n",
              " 2,\n",
              " 2.36,\n",
              " 25,\n",
              " 3,\n",
              " 4,\n",
              " 5,\n",
              " 50,\n",
              " 6,\n",
              " 60,\n",
              " 70,\n",
              " 8,\n",
              " 80,\n",
              " 9,\n",
              " 90,\n",
              " 'a',\n",
              " 'str'}"
            ]
          },
          "metadata": {
            "tags": []
          },
          "execution_count": 27
        }
      ]
    },
    {
      "cell_type": "markdown",
      "metadata": {
        "id": "qmozbaCtrIK7"
      },
      "source": [
        "5. What is the output :\n",
        "my_set = {1, 3, 4, 5, 6}\n",
        "\n",
        "Explain the difference between discard and remove method in set"
      ]
    },
    {
      "cell_type": "code",
      "metadata": {
        "colab": {
          "base_uri": "https://localhost:8080/",
          "height": 219
        },
        "id": "XIxWnCMXrILG",
        "outputId": "75f7ebff-aa0f-4573-c658-95472f16735c"
      },
      "source": [
        "my_set={1,3,4,5,6}\n",
        "my_set\n",
        "#no error or exception if element is not present in set\n",
        "my_set.discard(8)\n",
        "my_set\n",
        "#generates error if element not found\n",
        "my_set.remove(8)\n",
        "my_set\n"
      ],
      "execution_count": 21,
      "outputs": [
        {
          "output_type": "error",
          "ename": "KeyError",
          "evalue": "ignored",
          "traceback": [
            "\u001b[0;31m---------------------------------------------------------------------------\u001b[0m",
            "\u001b[0;31mKeyError\u001b[0m                                  Traceback (most recent call last)",
            "\u001b[0;32m<ipython-input-21-7ff408790bea>\u001b[0m in \u001b[0;36m<module>\u001b[0;34m()\u001b[0m\n\u001b[1;32m      5\u001b[0m \u001b[0mmy_set\u001b[0m\u001b[0;34m\u001b[0m\u001b[0;34m\u001b[0m\u001b[0m\n\u001b[1;32m      6\u001b[0m \u001b[0;31m#generates error if element not found\u001b[0m\u001b[0;34m\u001b[0m\u001b[0;34m\u001b[0m\u001b[0;34m\u001b[0m\u001b[0m\n\u001b[0;32m----> 7\u001b[0;31m \u001b[0mmy_set\u001b[0m\u001b[0;34m.\u001b[0m\u001b[0mremove\u001b[0m\u001b[0;34m(\u001b[0m\u001b[0;36m8\u001b[0m\u001b[0;34m)\u001b[0m\u001b[0;34m\u001b[0m\u001b[0;34m\u001b[0m\u001b[0m\n\u001b[0m\u001b[1;32m      8\u001b[0m \u001b[0mmy_set\u001b[0m\u001b[0;34m\u001b[0m\u001b[0;34m\u001b[0m\u001b[0m\n",
            "\u001b[0;31mKeyError\u001b[0m: 8"
          ]
        }
      ]
    },
    {
      "cell_type": "markdown",
      "metadata": {
        "id": "ZkekEpcKrILI"
      },
      "source": [
        "6. can we include duplicate values in sets?"
      ]
    },
    {
      "cell_type": "code",
      "metadata": {
        "colab": {
          "base_uri": "https://localhost:8080/"
        },
        "id": "gd_PjdyQrILK",
        "outputId": "81f8ed6e-1eab-4ed2-bcb0-1dce0f7ee204"
      },
      "source": [
        "#duplicate values rae not allowed in sets, if add duplicate value, set will have only one instance of that value\n",
        "setd={0,1,1,2,1,3,5,6,3}\n",
        "setd"
      ],
      "execution_count": 22,
      "outputs": [
        {
          "output_type": "execute_result",
          "data": {
            "text/plain": [
              "{0, 1, 2, 3, 5, 6}"
            ]
          },
          "metadata": {
            "tags": []
          },
          "execution_count": 22
        }
      ]
    },
    {
      "cell_type": "markdown",
      "metadata": {
        "id": "jhDji6fnrILL"
      },
      "source": [
        "7. create 2 sets and find out the union and intersection"
      ]
    },
    {
      "cell_type": "code",
      "metadata": {
        "colab": {
          "base_uri": "https://localhost:8080/"
        },
        "id": "2odzCs1KrILM",
        "outputId": "9705c52b-77fc-4fd3-825a-afa021b56aca"
      },
      "source": [
        "seta={1,2,3,4,5}\n",
        "setb={4,5,6,7,8,9}\n",
        "#union\n",
        "seta.union(setb)\n"
      ],
      "execution_count": 24,
      "outputs": [
        {
          "output_type": "execute_result",
          "data": {
            "text/plain": [
              "{1, 2, 3, 4, 5, 6, 7, 8, 9}"
            ]
          },
          "metadata": {
            "tags": []
          },
          "execution_count": 24
        }
      ]
    },
    {
      "cell_type": "code",
      "metadata": {
        "colab": {
          "base_uri": "https://localhost:8080/"
        },
        "id": "45YuzXy0yckh",
        "outputId": "500cb5da-b640-49b3-81f9-65dbb4fd3847"
      },
      "source": [
        "#intersection\n",
        "seta.intersection(setb)"
      ],
      "execution_count": 25,
      "outputs": [
        {
          "output_type": "execute_result",
          "data": {
            "text/plain": [
              "{4, 5}"
            ]
          },
          "metadata": {
            "tags": []
          },
          "execution_count": 25
        }
      ]
    },
    {
      "cell_type": "code",
      "metadata": {
        "id": "0TEX2zd-yfPK"
      },
      "source": [
        ""
      ],
      "execution_count": null,
      "outputs": []
    }
  ]
}