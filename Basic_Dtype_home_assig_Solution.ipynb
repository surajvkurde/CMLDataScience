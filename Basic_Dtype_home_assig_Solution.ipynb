{
  "nbformat": 4,
  "nbformat_minor": 0,
  "metadata": {
    "colab": {
      "name": "Basic_Dtype_home_assig.ipynb",
      "provenance": [],
      "collapsed_sections": []
    },
    "kernelspec": {
      "name": "python3",
      "display_name": "Python 3"
    },
    "language_info": {
      "name": "python"
    }
  },
  "cells": [
    {
      "cell_type": "code",
      "metadata": {
        "id": "zj0qj9Z3vGYT",
        "colab": {
          "base_uri": "https://localhost:8080/"
        },
        "outputId": "65b60a43-b9cd-4291-ab6d-970c713ea558"
      },
      "source": [
        "# print the type of x,y,z\n",
        "\n",
        "x = 1  \n",
        "y = 2.8  \n",
        "z = 1j\n",
        "\n",
        "print(type(x))\n",
        "print(type(y))\n",
        "print(type(z))"
      ],
      "execution_count": 1,
      "outputs": [
        {
          "output_type": "stream",
          "text": [
            "<class 'int'>\n",
            "<class 'float'>\n",
            "<class 'complex'>\n"
          ],
          "name": "stdout"
        }
      ]
    },
    {
      "cell_type": "code",
      "metadata": {
        "colab": {
          "base_uri": "https://localhost:8080/"
        },
        "id": "AljHnQDuvT4s",
        "outputId": "a6ef42bf-47e0-4a49-8263-df47999d08d2"
      },
      "source": [
        "# Convert flot into int \n",
        "\n",
        "X=1.4\n",
        "x=int(X)\n",
        "print(x)"
      ],
      "execution_count": 2,
      "outputs": [
        {
          "output_type": "stream",
          "text": [
            "1\n"
          ],
          "name": "stdout"
        }
      ]
    },
    {
      "cell_type": "code",
      "metadata": {
        "id": "pXCgmrggvfKE"
      },
      "source": [
        "#Convert from one type to another:\n",
        "\n",
        "x = 5   # int\n",
        "y = 3.8  # float\n",
        "z = 5j   # complex\n",
        "\n",
        "#convert from int to float:\n",
        "x=float(5)\n",
        "\n",
        "#convert from float to int:\n",
        "y=int(3.8)\n",
        "\n",
        "#convert from int to complex:\n",
        "z=complex(5j)"
      ],
      "execution_count": 5,
      "outputs": []
    },
    {
      "cell_type": "code",
      "metadata": {
        "id": "Rm34yvYbweTT",
        "colab": {
          "base_uri": "https://localhost:8080/"
        },
        "outputId": "47ca6e4d-d759-4d76-b3e0-c54a5d1ca88c"
      },
      "source": [
        "# Print 15 random numbers\n",
        "\n",
        "import random\n",
        "\n",
        "list=[]\n",
        "for i in range(0,15):\n",
        "  print(random.randrange(1, 15) )"
      ],
      "execution_count": 12,
      "outputs": [
        {
          "output_type": "stream",
          "text": [
            "13\n",
            "3\n",
            "12\n",
            "13\n",
            "9\n",
            "7\n",
            "2\n",
            "10\n",
            "2\n",
            "14\n",
            "2\n",
            "10\n",
            "10\n",
            "12\n",
            "2\n"
          ],
          "name": "stdout"
        }
      ]
    },
    {
      "cell_type": "code",
      "metadata": {
        "id": "eXkc7b3yxYpN",
        "colab": {
          "base_uri": "https://localhost:8080/"
        },
        "outputId": "4ae70507-1ab2-4913-9f98-433144f38120"
      },
      "source": [
        "# Convert int ,float to string \n",
        "\n",
        "x = str(\"t5\") \n",
        "y = str(4)    \n",
        "z = str(6.0)\n",
        "print(x +\" \"+y+\" \"+z)\n",
        "print(type(z))\n",
        "\n",
        "\n"
      ],
      "execution_count": 25,
      "outputs": [
        {
          "output_type": "stream",
          "text": [
            "t5 4 6.0\n",
            "<class 'str'>\n"
          ],
          "name": "stdout"
        }
      ]
    },
    {
      "cell_type": "code",
      "metadata": {
        "id": "RDquS0nfxB81",
        "colab": {
          "base_uri": "https://localhost:8080/"
        },
        "outputId": "ff9d3485-3197-4213-808a-6ce52c8b32f1"
      },
      "source": [
        "# Assign a string to variable \n",
        "\n",
        "a=\"String to variable\"\n",
        "print(a)"
      ],
      "execution_count": 26,
      "outputs": [
        {
          "output_type": "stream",
          "text": [
            "String to variable\n"
          ],
          "name": "stdout"
        }
      ]
    },
    {
      "cell_type": "code",
      "metadata": {
        "colab": {
          "base_uri": "https://localhost:8080/"
        },
        "id": "RH-g9oUdypcy",
        "outputId": "d22e5ad5-827a-4151-c65d-b9664f9ab398"
      },
      "source": [
        "# Concatenate two string \n",
        "a=\"Hello raj?\"\n",
        "b=\"Hi Manish.\"\n",
        "c=\"How are you.\"\n",
        "d=\"I am fine.\"\n",
        "\n",
        "print(a+\" \"+b+\" \"+c+\" \"+d)"
      ],
      "execution_count": 28,
      "outputs": [
        {
          "output_type": "stream",
          "text": [
            "Hello raj? Hi Manish. How are you. I am fine.\n"
          ],
          "name": "stdout"
        }
      ]
    },
    {
      "cell_type": "code",
      "metadata": {
        "colab": {
          "base_uri": "https://localhost:8080/"
        },
        "id": "Z4z8NPqxzXsS",
        "outputId": "9e366ea1-c0aa-48ea-d129-e4741b405381"
      },
      "source": [
        "# Print the output='lo, Wor'\n",
        "a = \"Hello, World!\"\n",
        "print(a[3:10])"
      ],
      "execution_count": 30,
      "outputs": [
        {
          "output_type": "stream",
          "text": [
            "lo, Wor\n"
          ],
          "name": "stdout"
        }
      ]
    },
    {
      "cell_type": "code",
      "metadata": {
        "id": "maTfRVHrzA-2",
        "colab": {
          "base_uri": "https://localhost:8080/"
        },
        "outputId": "41722131-2a6c-4302-b3f9-ad4f49b70d29"
      },
      "source": [
        "# Check the required string/word is in the sentence of not\n",
        "\n",
        "Sentence=\"Hello Indian , I like you culture.\"\n",
        "\n",
        "print('like' in Sentence)"
      ],
      "execution_count": 32,
      "outputs": [
        {
          "output_type": "stream",
          "text": [
            "True\n"
          ],
          "name": "stdout"
        }
      ]
    },
    {
      "cell_type": "code",
      "metadata": {
        "id": "eyFT8KlO0cMk",
        "colab": {
          "base_uri": "https://localhost:8080/"
        },
        "outputId": "91a37eec-f9e9-4590-db21-4a76e802258b"
      },
      "source": [
        "# Print the output='I Love'\n",
        "Sentence=\"I Love India!\"\n",
        "print(Sentence[0:6])"
      ],
      "execution_count": 33,
      "outputs": [
        {
          "output_type": "stream",
          "text": [
            "I Love\n"
          ],
          "name": "stdout"
        }
      ]
    },
    {
      "cell_type": "code",
      "metadata": {
        "id": "VP50WkkomLu8",
        "colab": {
          "base_uri": "https://localhost:8080/"
        },
        "outputId": "5e518453-7181-49ee-9eb7-7563cce9b13c"
      },
      "source": [
        "#print the output: \n",
        "#I want to pay 49.95 dollars for 3 pieces of item 567\n",
        "\n",
        "quantity = 3\n",
        "itemno = 567\n",
        "price = 49.95\n",
        "myorder = \"I want to pay {2} dollars for {0} pieces of item {1}.\"\n",
        "print(myorder.format(quantity,itemno,price)) "
      ],
      "execution_count": 36,
      "outputs": [
        {
          "output_type": "stream",
          "text": [
            "I want to pay 49.95 dollars for 3 pieces of item 567.\n"
          ],
          "name": "stdout"
        }
      ]
    },
    {
      "cell_type": "code",
      "metadata": {
        "id": "fcLAtZJUn8dP",
        "colab": {
          "base_uri": "https://localhost:8080/"
        },
        "outputId": "66fc301e-d8e9-4c8c-aec0-93ad02f5c82a"
      },
      "source": [
        "# remove the error\n",
        "Sent = '''We will vist \"America\" after two days.'''\n",
        "print(Sent)"
      ],
      "execution_count": 38,
      "outputs": [
        {
          "output_type": "stream",
          "text": [
            "We will vist \"America\" after two days.\n"
          ],
          "name": "stdout"
        }
      ]
    },
    {
      "cell_type": "code",
      "metadata": {
        "colab": {
          "base_uri": "https://localhost:8080/"
        },
        "id": "NASyDsBbofMs",
        "outputId": "1298bca7-8e2f-419d-e88d-615c1279eb1e"
      },
      "source": [
        "# Print the sentence after comma in next line \n",
        "Sent=\" Hii Mona , \\nWhen will we go for holidays ?  \"\n",
        "print(Sent)"
      ],
      "execution_count": 39,
      "outputs": [
        {
          "output_type": "stream",
          "text": [
            " Hii Mona , \n",
            "When will we go for holidays ?  \n"
          ],
          "name": "stdout"
        }
      ]
    },
    {
      "cell_type": "code",
      "metadata": {
        "id": "QGOrGORspHnt"
      },
      "source": [
        "# Remove the duplicate from the list \n",
        "List=[\"Ram\",'Sam','Nick','Sam']"
      ],
      "execution_count": null,
      "outputs": []
    },
    {
      "cell_type": "code",
      "metadata": {
        "id": "eZfO5og7qk56",
        "colab": {
          "base_uri": "https://localhost:8080/"
        },
        "outputId": "157621e0-d8ce-428c-af86-15b0844d6a9a"
      },
      "source": [
        "# Print last for element of list by negative Indexing \n",
        "\n",
        "Fruit_list = [\"apple\", \"banana\", \"cherry\", \"orange\", \"kiwi\", \"melon\", \"mango\"]\n",
        "print(Fruit_list[-4:])"
      ],
      "execution_count": 40,
      "outputs": [
        {
          "output_type": "stream",
          "text": [
            "['orange', 'kiwi', 'melon', 'mango']\n"
          ],
          "name": "stdout"
        }
      ]
    },
    {
      "cell_type": "code",
      "metadata": {
        "id": "mPJFzwewrEij",
        "colab": {
          "base_uri": "https://localhost:8080/"
        },
        "outputId": "47a3e81e-c5af-46da-d59c-86f1e7d83ce8"
      },
      "source": [
        "# Replace the first Sam from Micky\n",
        "List=[\"Ram\",'Sam','Nick','Sam']\n",
        "List[1]=\"Py\"\n",
        "List"
      ],
      "execution_count": 44,
      "outputs": [
        {
          "output_type": "execute_result",
          "data": {
            "text/plain": [
              "['Ram', 'Py', 'Nick', 'Sam']"
            ]
          },
          "metadata": {
            "tags": []
          },
          "execution_count": 44
        }
      ]
    },
    {
      "cell_type": "code",
      "metadata": {
        "id": "pSGdFz2srUMA",
        "colab": {
          "base_uri": "https://localhost:8080/"
        },
        "outputId": "f809fb4f-b638-4da9-edd4-684ba7506599"
      },
      "source": [
        " # Insert the Micky at 3rd index\n",
        "List=[\"Ram\",'Sam','Nick','Sam']\n",
        "List[2]=\"Micky\"\n",
        "List"
      ],
      "execution_count": 45,
      "outputs": [
        {
          "output_type": "execute_result",
          "data": {
            "text/plain": [
              "['Ram', 'Sam', 'Micky', 'Sam']"
            ]
          },
          "metadata": {
            "tags": []
          },
          "execution_count": 45
        }
      ]
    },
    {
      "cell_type": "code",
      "metadata": {
        "id": "VwK2FyRrroiY",
        "colab": {
          "base_uri": "https://localhost:8080/",
          "height": 237
        },
        "outputId": "32ccbb9e-e977-4946-b495-59e997dca9d5"
      },
      "source": [
        "# Insert Kiwi in a tuple\n",
        "\n",
        "x = (\"apple\", \"banana\", \"cherry\");\n",
        "yList = List(x)\n",
        "yList\n",
        "y.append(\"kiwi\")\n",
        "x1 = tuple(y)\n",
        "\n",
        "print(x1)"
      ],
      "execution_count": 57,
      "outputs": [
        {
          "output_type": "error",
          "ename": "AttributeError",
          "evalue": "ignored",
          "traceback": [
            "\u001b[0;31m---------------------------------------------------------------------------\u001b[0m",
            "\u001b[0;31mAttributeError\u001b[0m                            Traceback (most recent call last)",
            "\u001b[0;32m<ipython-input-57-0ef193635440>\u001b[0m in \u001b[0;36m<module>\u001b[0;34m()\u001b[0m\n\u001b[1;32m      2\u001b[0m \u001b[0;34m\u001b[0m\u001b[0m\n\u001b[1;32m      3\u001b[0m \u001b[0mx\u001b[0m \u001b[0;34m=\u001b[0m \u001b[0;34m(\u001b[0m\u001b[0;34m\"apple\"\u001b[0m\u001b[0;34m,\u001b[0m \u001b[0;34m\"banana\"\u001b[0m\u001b[0;34m,\u001b[0m \u001b[0;34m\"cherry\"\u001b[0m\u001b[0;34m)\u001b[0m\u001b[0;34m;\u001b[0m\u001b[0;34m\u001b[0m\u001b[0;34m\u001b[0m\u001b[0m\n\u001b[0;32m----> 4\u001b[0;31m \u001b[0mx\u001b[0m\u001b[0;34m.\u001b[0m\u001b[0madd\u001b[0m\u001b[0;34m(\u001b[0m\u001b[0;34m\"kiwi\"\u001b[0m\u001b[0;34m)\u001b[0m\u001b[0;34m\u001b[0m\u001b[0;34m\u001b[0m\u001b[0m\n\u001b[0m\u001b[1;32m      5\u001b[0m \u001b[0;31m#yList = List(x)\u001b[0m\u001b[0;34m\u001b[0m\u001b[0;34m\u001b[0m\u001b[0;34m\u001b[0m\u001b[0m\n\u001b[1;32m      6\u001b[0m \u001b[0;31m#yList\u001b[0m\u001b[0;34m\u001b[0m\u001b[0;34m\u001b[0m\u001b[0;34m\u001b[0m\u001b[0m\n",
            "\u001b[0;31mAttributeError\u001b[0m: 'tuple' object has no attribute 'add'"
          ]
        }
      ]
    },
    {
      "cell_type": "code",
      "metadata": {
        "id": "UUky7WT4tnRM",
        "colab": {
          "base_uri": "https://localhost:8080/"
        },
        "outputId": "8e037c93-7783-4dd1-bdac-045fb4654cfb"
      },
      "source": [
        "# Add item in set\n",
        "\n",
        "Fruits = {\"apple\", \"banana\", \"cherry\"}\n",
        "\n",
        "Fruits.add(\"potato\")\n",
        "\n",
        "print(Fruits)"
      ],
      "execution_count": 60,
      "outputs": [
        {
          "output_type": "stream",
          "text": [
            "{'potato', 'apple', 'banana', 'cherry'}\n"
          ],
          "name": "stdout"
        }
      ]
    },
    {
      "cell_type": "code",
      "metadata": {
        "id": "NKHoF69hueSK",
        "colab": {
          "base_uri": "https://localhost:8080/"
        },
        "outputId": "c06b1f66-e836-4f08-8041-a39898b10f06"
      },
      "source": [
        "# Add two set\n",
        "Fruit1 = {\"apple\", \"banana\", \"cherry\"}\n",
        "Fruit2 = {\"pineapple\", \"mango\", \"papaya\"}\n",
        "Fruit1.update(Fruit2)\n",
        "Fruit1"
      ],
      "execution_count": 64,
      "outputs": [
        {
          "output_type": "execute_result",
          "data": {
            "text/plain": [
              "{'apple', 'banana', 'cherry', 'mango', 'papaya', 'pineapple'}"
            ]
          },
          "metadata": {
            "tags": []
          },
          "execution_count": 64
        }
      ]
    },
    {
      "cell_type": "code",
      "metadata": {
        "id": "Z5YUZ2dUvbwK",
        "colab": {
          "base_uri": "https://localhost:8080/"
        },
        "outputId": "7b8293fe-1618-4106-d2e3-9abe0739f7ef"
      },
      "source": [
        "# Remove the any item from the set\n",
        "set1={\"Krishh\",\"Prince\",\"KUmar\"}\n",
        "set1.pop()\n",
        "set1.remove(\"KUmar\")\n",
        "set1"
      ],
      "execution_count": 70,
      "outputs": [
        {
          "output_type": "execute_result",
          "data": {
            "text/plain": [
              "{'Prince'}"
            ]
          },
          "metadata": {
            "tags": []
          },
          "execution_count": 70
        }
      ]
    },
    {
      "cell_type": "code",
      "metadata": {
        "id": "_f_XIOsVvtz5",
        "colab": {
          "base_uri": "https://localhost:8080/"
        },
        "outputId": "bb992099-b3c9-40a3-e4c9-302dcc09de78"
      },
      "source": [
        "#Add a new item to the original dictionary, and see that the keys list gets updated as well:\n",
        "Bike = {\n",
        "\"brand\": \"Bajaj\",\n",
        "\"model\": \"TVS\",\n",
        "\"year\": 2013\n",
        "}\n",
        "\n",
        "x = Bike.keys()\n",
        "\n",
        "print(x) #before the change\n",
        "\n",
        "Bike[\"CC\"] = 150\n",
        "\n",
        "print(x) #after the change"
      ],
      "execution_count": 71,
      "outputs": [
        {
          "output_type": "stream",
          "text": [
            "dict_keys(['brand', 'model', 'year'])\n",
            "dict_keys(['brand', 'model', 'year', 'CC'])\n"
          ],
          "name": "stdout"
        }
      ]
    },
    {
      "cell_type": "code",
      "metadata": {
        "id": "m8OtEPYfwaqX",
        "colab": {
          "base_uri": "https://localhost:8080/"
        },
        "outputId": "b3922c05-6614-475c-a4af-ebb27c08f241"
      },
      "source": [
        "#Update the item from the Dict\n",
        "Car = {\n",
        "  \"brand\": \"Ford\",\n",
        "  \"model\": \"Mustang\",\n",
        "  \"year\": 1964\n",
        "}\n",
        "Car[\"year\"]= 2020\n",
        "print(Car)"
      ],
      "execution_count": 73,
      "outputs": [
        {
          "output_type": "stream",
          "text": [
            "{'brand': 'Ford', 'model': 'Mustang', 'year': 2020}\n"
          ],
          "name": "stdout"
        }
      ]
    },
    {
      "cell_type": "code",
      "metadata": {
        "id": "IknZvic6wvIo",
        "colab": {
          "base_uri": "https://localhost:8080/"
        },
        "outputId": "b5a3c9fc-2c49-4793-8269-40b42b816176"
      },
      "source": [
        "car = {\n",
        "  \"brand\": \"Ford\",\n",
        "  \"model\": \"Mustang\",\n",
        "  \"year\": 1964\n",
        "}\n",
        "car[\"citing Capacity\"]=2\n",
        "print(car)"
      ],
      "execution_count": 76,
      "outputs": [
        {
          "output_type": "stream",
          "text": [
            "{'brand': 'Ford', 'model': 'Mustang', 'year': 1964, 'citing Capacity': 2}\n"
          ],
          "name": "stdout"
        }
      ]
    },
    {
      "cell_type": "code",
      "metadata": {
        "id": "x8XOmgTDEWsW"
      },
      "source": [
        ""
      ],
      "execution_count": null,
      "outputs": []
    }
  ]
}