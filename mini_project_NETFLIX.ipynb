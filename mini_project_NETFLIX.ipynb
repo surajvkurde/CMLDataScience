{
  "nbformat": 4,
  "nbformat_minor": 0,
  "metadata": {
    "colab": {
      "name": "mini_project_NETFLIX.ipynb",
      "provenance": [],
      "collapsed_sections": [],
      "authorship_tag": "ABX9TyM9Lj2xqCsXAqEqMAA5M5P0",
      "include_colab_link": true
    },
    "kernelspec": {
      "name": "python3",
      "display_name": "Python 3"
    },
    "language_info": {
      "name": "python"
    }
  },
  "cells": [
    {
      "cell_type": "markdown",
      "metadata": {
        "id": "view-in-github",
        "colab_type": "text"
      },
      "source": [
        "<a href=\"https://colab.research.google.com/github/surajvkurde/CMLDataScience/blob/main/mini_project_NETFLIX.ipynb\" target=\"_parent\"><img src=\"https://colab.research.google.com/assets/colab-badge.svg\" alt=\"Open In Colab\"/></a>"
      ]
    },
    {
      "cell_type": "markdown",
      "metadata": {
        "id": "i0AW0keN5nZn"
      },
      "source": [
        "# Problem Statement\n",
        " Imagine you are working in NETFLIX company.\n",
        "As a developer, your job today is to create a function \"createKey\" of making 100 subscription keys with length 5\n",
        " Save these keys as \"keyStore.dat\" list object in a pickle.\n",
        "\n",
        " Create another function \"loginFun\" that takes username and key. if that key is in your repository \"keyStore.dat\" ,\n",
        " then give him access else show user as Invalid.\n",
        " in this function, use pickle again but this time load \"keyStore\" object to load keys \n"
      ]
    },
    {
      "cell_type": "code",
      "metadata": {
        "colab": {
          "base_uri": "https://localhost:8080/"
        },
        "id": "sSthyg8n1th5",
        "outputId": "5959b940-b1eb-4b9c-8721-74f49c4db090"
      },
      "source": [
        "#import all required libraries\n",
        "import pandas as pd\n",
        "import pickle\n",
        "import random\n",
        "\n",
        "#keys list will store all keys generated using createKey() function\n",
        "keys=[]\n",
        "def createKey():\n",
        "  #character set\n",
        "  #alphabets is string of valid characters for password \n",
        "  alphabet='abcdefghijklmnopqrstuvwxyz123456789@#$%^&*!~{}[]()_<?>'\n",
        "  #number of keys to be generated\n",
        "  totalKeyCount=int(input(\"How many keys are required : \"))\n",
        "  #length of each key \n",
        "  length=int(input(\"Length of each key : \"))\n",
        "  #generate number of keys rquired \n",
        "  for i in range(totalKeyCount):\n",
        "    #generate a key from alphabet characters of length provided by user\n",
        "    key=random.sample(alphabet,length)\n",
        "    key=\"\".join(key)\n",
        "    #append key to keys list\n",
        "    keys.append(key)\n",
        "  \n",
        "  print(\"Keys are : \")\n",
        "  print(keys)\n",
        "\n",
        "#call function\n",
        "createKey()\n",
        "\n",
        "#store keys in database file, open file in write binary mode\n",
        "file=open('keystore.dat',\"wb\");\n",
        "#dump all keys to file opened in wb mode and accessed by file object\n",
        "pickle.dump(keys,file)\n",
        "#close file connection\n",
        "file.close()"
      ],
      "execution_count": 14,
      "outputs": [
        {
          "output_type": "stream",
          "name": "stdout",
          "text": [
            "How many keys are required : 50\n",
            "Length of each key : 5\n",
            "Keys are : \n",
            "['6pl(w', '_]vdo', 'f#bv$', '_dog>', 'f6>89', 'v}&3y', 'n@<tb', '_<9ki', 'jtipz', 'q&6]l', '%g4u[', '&_<2m', 'xj^kp', '(9li[', 'q_3}&', 'u$mo8', 'p(~?t', 'g[*h}', 'jz9{@', 'n#fk3', 'x@}*y', 'gcw)k', 'u*i)s', 'nz~&^', '@r62{', 'b8(go', 'yr9(@', '4^u}$', 'tr6ma', 'd9{1]', 'vc)t[', '$zode', 'd)}8j', 'z~&[]', ']}8w5', '8>!$_', '%(j<{', '9#$8p', 'vpz5n', 'd18~a', '4#]u1', 'yali>', '52}pz', 'm}2#x', 'ebyq[', '(mp5e', '#f?g<', '*1%_u', 'jqus{', '1{li}']\n"
          ]
        }
      ]
    },
    {
      "cell_type": "code",
      "metadata": {
        "id": "Y3-5sX7cVHPX",
        "colab": {
          "base_uri": "https://localhost:8080/"
        },
        "outputId": "9e566c76-0237-497b-b0a0-f58677376b87"
      },
      "source": [
        "#open file in read binary mode\n",
        "fileOpen=open('keystore.dat','rb')\n",
        "#load file data in data object / list\n",
        "data=pickle.load(fileOpen)\n",
        "#print data , all keys will be printed\n",
        "data"
      ],
      "execution_count": 15,
      "outputs": [
        {
          "output_type": "execute_result",
          "data": {
            "text/plain": [
              "['6pl(w',\n",
              " '_]vdo',\n",
              " 'f#bv$',\n",
              " '_dog>',\n",
              " 'f6>89',\n",
              " 'v}&3y',\n",
              " 'n@<tb',\n",
              " '_<9ki',\n",
              " 'jtipz',\n",
              " 'q&6]l',\n",
              " '%g4u[',\n",
              " '&_<2m',\n",
              " 'xj^kp',\n",
              " '(9li[',\n",
              " 'q_3}&',\n",
              " 'u$mo8',\n",
              " 'p(~?t',\n",
              " 'g[*h}',\n",
              " 'jz9{@',\n",
              " 'n#fk3',\n",
              " 'x@}*y',\n",
              " 'gcw)k',\n",
              " 'u*i)s',\n",
              " 'nz~&^',\n",
              " '@r62{',\n",
              " 'b8(go',\n",
              " 'yr9(@',\n",
              " '4^u}$',\n",
              " 'tr6ma',\n",
              " 'd9{1]',\n",
              " 'vc)t[',\n",
              " '$zode',\n",
              " 'd)}8j',\n",
              " 'z~&[]',\n",
              " ']}8w5',\n",
              " '8>!$_',\n",
              " '%(j<{',\n",
              " '9#$8p',\n",
              " 'vpz5n',\n",
              " 'd18~a',\n",
              " '4#]u1',\n",
              " 'yali>',\n",
              " '52}pz',\n",
              " 'm}2#x',\n",
              " 'ebyq[',\n",
              " '(mp5e',\n",
              " '#f?g<',\n",
              " '*1%_u',\n",
              " 'jqus{',\n",
              " '1{li}']"
            ]
          },
          "metadata": {},
          "execution_count": 15
        }
      ]
    },
    {
      "cell_type": "code",
      "metadata": {
        "colab": {
          "base_uri": "https://localhost:8080/"
        },
        "id": "_G3jGb0RDh3V",
        "outputId": "504af3f8-8203-4c25-9c4d-20ceea6a41bf"
      },
      "source": [
        "afound=False\n",
        "count=0\n",
        "#read username and password till user enters correct key or 5 trials are available\n",
        "while(not found and count<5):\n",
        "  #read username\n",
        "  username=input(\"Enter user name : \")\n",
        "  #read passkey / password / key\n",
        "  passkey=input(\"Enter password / key to login : \")\n",
        "  #check if key exist in file (data), if exist print successful login message\n",
        "  if passkey in data:\n",
        "    print(\"Logged in successfully \")\n",
        "    found=True\n",
        "    break;\n",
        "  #if key is not in file / data, print error and ask for key\n",
        "  else:\n",
        "    print(\"Error ! Enter correct passkey\")\n",
        "    count+=1\n",
        "    #if 5 attempts are used, then block user for some time\n",
        "    if(count==5):\n",
        "      print(\"You are blocked for 10 min, please try after 10 minutes!\")"
      ],
      "execution_count": 16,
      "outputs": [
        {
          "output_type": "stream",
          "name": "stdout",
          "text": [
            "Enter user name : ada\n",
            "Enter password / key to login : 1{li}\n",
            "Logged in successfully \n"
          ]
        }
      ]
    },
    {
      "cell_type": "code",
      "metadata": {
        "id": "hKH-RIIEH-Z2"
      },
      "source": [
        ""
      ],
      "execution_count": null,
      "outputs": []
    }
  ]
}