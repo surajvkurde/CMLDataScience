{
  "nbformat": 4,
  "nbformat_minor": 0,
  "metadata": {
    "colab": {
      "name": "Titanic_NB",
      "provenance": [],
      "authorship_tag": "ABX9TyO1o/wbgS2ED+WpKTzc29lf"
    },
    "kernelspec": {
      "name": "python3",
      "display_name": "Python 3"
    },
    "language_info": {
      "name": "python"
    }
  },
  "cells": [
    {
      "cell_type": "markdown",
      "metadata": {
        "id": "18a2_sG3sVlN"
      },
      "source": [
        "*Titanic - Naive Base*"
      ]
    },
    {
      "cell_type": "code",
      "metadata": {
        "id": "CYE3xJiB1iXJ"
      },
      "source": [
        "import pandas as pd\n",
        "from sklearn.metrics import accuracy_score\n",
        "from sklearn.naive_bayes import GaussianNB\n",
        "from sklearn.metrics import confusion_matrix\n",
        "from sklearn.metrics import f1_score\n",
        "from sklearn.metrics import classification_report\n",
        "from sklearn.model_selection import train_test_split\n",
        "df_train=pd.read_csv('train_titanic.csv')"
      ],
      "execution_count": 1,
      "outputs": []
    },
    {
      "cell_type": "code",
      "metadata": {
        "id": "gU7Igb5Estnw"
      },
      "source": [
        "df_test=pd.read_csv('test_titanic.csv')"
      ],
      "execution_count": 2,
      "outputs": []
    },
    {
      "cell_type": "code",
      "metadata": {
        "colab": {
          "base_uri": "https://localhost:8080/"
        },
        "id": "JC3SvD69A4pw",
        "outputId": "2ca62e52-6241-4cfe-d7d9-a332647f7891"
      },
      "source": [
        "df_full=pd.concat([df_train,df_test])\n",
        "df_full.info()"
      ],
      "execution_count": 3,
      "outputs": [
        {
          "output_type": "stream",
          "name": "stdout",
          "text": [
            "<class 'pandas.core.frame.DataFrame'>\n",
            "Int64Index: 1309 entries, 0 to 417\n",
            "Data columns (total 12 columns):\n",
            " #   Column       Non-Null Count  Dtype  \n",
            "---  ------       --------------  -----  \n",
            " 0   PassengerId  1309 non-null   int64  \n",
            " 1   Survived     891 non-null    float64\n",
            " 2   Pclass       1309 non-null   int64  \n",
            " 3   Name         1309 non-null   object \n",
            " 4   Sex          1309 non-null   object \n",
            " 5   Age          1046 non-null   float64\n",
            " 6   SibSp        1309 non-null   int64  \n",
            " 7   Parch        1309 non-null   int64  \n",
            " 8   Ticket       1309 non-null   object \n",
            " 9   Fare         1308 non-null   float64\n",
            " 10  Cabin        295 non-null    object \n",
            " 11  Embarked     1307 non-null   object \n",
            "dtypes: float64(3), int64(4), object(5)\n",
            "memory usage: 132.9+ KB\n"
          ]
        }
      ]
    },
    {
      "cell_type": "code",
      "metadata": {
        "id": "ZyPy3nwSBCkd"
      },
      "source": [
        "from sklearn.preprocessing import StandardScaler"
      ],
      "execution_count": 4,
      "outputs": []
    },
    {
      "cell_type": "code",
      "metadata": {
        "colab": {
          "base_uri": "https://localhost:8080/"
        },
        "id": "ExntuNXnEIct",
        "outputId": "b77f5661-6367-4488-8e2c-bf3d5c77c141"
      },
      "source": [
        "df_full.isnull().sum()"
      ],
      "execution_count": 5,
      "outputs": [
        {
          "output_type": "execute_result",
          "data": {
            "text/plain": [
              "PassengerId       0\n",
              "Survived        418\n",
              "Pclass            0\n",
              "Name              0\n",
              "Sex               0\n",
              "Age             263\n",
              "SibSp             0\n",
              "Parch             0\n",
              "Ticket            0\n",
              "Fare              1\n",
              "Cabin          1014\n",
              "Embarked          2\n",
              "dtype: int64"
            ]
          },
          "metadata": {},
          "execution_count": 5
        }
      ]
    },
    {
      "cell_type": "markdown",
      "metadata": {
        "id": "X_VUs-lvhkP4"
      },
      "source": [
        "***Dealing with mising values***"
      ]
    },
    {
      "cell_type": "code",
      "metadata": {
        "id": "sUqKMFmRGq7I",
        "colab": {
          "base_uri": "https://localhost:8080/"
        },
        "outputId": "0581355d-602e-4814-c84b-12402d4fd55a"
      },
      "source": [
        "df_train.isnull().sum()"
      ],
      "execution_count": 6,
      "outputs": [
        {
          "output_type": "execute_result",
          "data": {
            "text/plain": [
              "PassengerId      0\n",
              "Survived         0\n",
              "Pclass           0\n",
              "Name             0\n",
              "Sex              0\n",
              "Age            177\n",
              "SibSp            0\n",
              "Parch            0\n",
              "Ticket           0\n",
              "Fare             0\n",
              "Cabin          687\n",
              "Embarked         2\n",
              "dtype: int64"
            ]
          },
          "metadata": {},
          "execution_count": 6
        }
      ]
    },
    {
      "cell_type": "code",
      "metadata": {
        "colab": {
          "base_uri": "https://localhost:8080/"
        },
        "id": "xD3Ya7Blh218",
        "outputId": "d4df30f4-f3ca-4bed-c419-2f50905174e6"
      },
      "source": [
        "df_test.isnull().sum()"
      ],
      "execution_count": 7,
      "outputs": [
        {
          "output_type": "execute_result",
          "data": {
            "text/plain": [
              "PassengerId      0\n",
              "Pclass           0\n",
              "Name             0\n",
              "Sex              0\n",
              "Age             86\n",
              "SibSp            0\n",
              "Parch            0\n",
              "Ticket           0\n",
              "Fare             1\n",
              "Cabin          327\n",
              "Embarked         0\n",
              "dtype: int64"
            ]
          },
          "metadata": {},
          "execution_count": 7
        }
      ]
    },
    {
      "cell_type": "markdown",
      "metadata": {
        "id": "yCMqxamOh82d"
      },
      "source": [
        "**Need to deal with missing values of Age and Embarked feature**"
      ]
    },
    {
      "cell_type": "code",
      "metadata": {
        "id": "n4brupiJh69p"
      },
      "source": [
        "df_full.drop(columns=['Cabin'],inplace=True)"
      ],
      "execution_count": 8,
      "outputs": []
    },
    {
      "cell_type": "code",
      "metadata": {
        "colab": {
          "base_uri": "https://localhost:8080/",
          "height": 823
        },
        "id": "jjNLwS41iZTP",
        "outputId": "357a8766-36e0-4b38-8a9a-9e8bde40b96f"
      },
      "source": [
        "df_full"
      ],
      "execution_count": 9,
      "outputs": [
        {
          "output_type": "execute_result",
          "data": {
            "text/html": [
              "<div>\n",
              "<style scoped>\n",
              "    .dataframe tbody tr th:only-of-type {\n",
              "        vertical-align: middle;\n",
              "    }\n",
              "\n",
              "    .dataframe tbody tr th {\n",
              "        vertical-align: top;\n",
              "    }\n",
              "\n",
              "    .dataframe thead th {\n",
              "        text-align: right;\n",
              "    }\n",
              "</style>\n",
              "<table border=\"1\" class=\"dataframe\">\n",
              "  <thead>\n",
              "    <tr style=\"text-align: right;\">\n",
              "      <th></th>\n",
              "      <th>PassengerId</th>\n",
              "      <th>Survived</th>\n",
              "      <th>Pclass</th>\n",
              "      <th>Name</th>\n",
              "      <th>Sex</th>\n",
              "      <th>Age</th>\n",
              "      <th>SibSp</th>\n",
              "      <th>Parch</th>\n",
              "      <th>Ticket</th>\n",
              "      <th>Fare</th>\n",
              "      <th>Embarked</th>\n",
              "    </tr>\n",
              "  </thead>\n",
              "  <tbody>\n",
              "    <tr>\n",
              "      <th>0</th>\n",
              "      <td>1</td>\n",
              "      <td>0.0</td>\n",
              "      <td>3</td>\n",
              "      <td>Braund, Mr. Owen Harris</td>\n",
              "      <td>male</td>\n",
              "      <td>22.0</td>\n",
              "      <td>1</td>\n",
              "      <td>0</td>\n",
              "      <td>A/5 21171</td>\n",
              "      <td>7.2500</td>\n",
              "      <td>S</td>\n",
              "    </tr>\n",
              "    <tr>\n",
              "      <th>1</th>\n",
              "      <td>2</td>\n",
              "      <td>1.0</td>\n",
              "      <td>1</td>\n",
              "      <td>Cumings, Mrs. John Bradley (Florence Briggs Th...</td>\n",
              "      <td>female</td>\n",
              "      <td>38.0</td>\n",
              "      <td>1</td>\n",
              "      <td>0</td>\n",
              "      <td>PC 17599</td>\n",
              "      <td>71.2833</td>\n",
              "      <td>C</td>\n",
              "    </tr>\n",
              "    <tr>\n",
              "      <th>2</th>\n",
              "      <td>3</td>\n",
              "      <td>1.0</td>\n",
              "      <td>3</td>\n",
              "      <td>Heikkinen, Miss. Laina</td>\n",
              "      <td>female</td>\n",
              "      <td>26.0</td>\n",
              "      <td>0</td>\n",
              "      <td>0</td>\n",
              "      <td>STON/O2. 3101282</td>\n",
              "      <td>7.9250</td>\n",
              "      <td>S</td>\n",
              "    </tr>\n",
              "    <tr>\n",
              "      <th>3</th>\n",
              "      <td>4</td>\n",
              "      <td>1.0</td>\n",
              "      <td>1</td>\n",
              "      <td>Futrelle, Mrs. Jacques Heath (Lily May Peel)</td>\n",
              "      <td>female</td>\n",
              "      <td>35.0</td>\n",
              "      <td>1</td>\n",
              "      <td>0</td>\n",
              "      <td>113803</td>\n",
              "      <td>53.1000</td>\n",
              "      <td>S</td>\n",
              "    </tr>\n",
              "    <tr>\n",
              "      <th>4</th>\n",
              "      <td>5</td>\n",
              "      <td>0.0</td>\n",
              "      <td>3</td>\n",
              "      <td>Allen, Mr. William Henry</td>\n",
              "      <td>male</td>\n",
              "      <td>35.0</td>\n",
              "      <td>0</td>\n",
              "      <td>0</td>\n",
              "      <td>373450</td>\n",
              "      <td>8.0500</td>\n",
              "      <td>S</td>\n",
              "    </tr>\n",
              "    <tr>\n",
              "      <th>...</th>\n",
              "      <td>...</td>\n",
              "      <td>...</td>\n",
              "      <td>...</td>\n",
              "      <td>...</td>\n",
              "      <td>...</td>\n",
              "      <td>...</td>\n",
              "      <td>...</td>\n",
              "      <td>...</td>\n",
              "      <td>...</td>\n",
              "      <td>...</td>\n",
              "      <td>...</td>\n",
              "    </tr>\n",
              "    <tr>\n",
              "      <th>413</th>\n",
              "      <td>1305</td>\n",
              "      <td>NaN</td>\n",
              "      <td>3</td>\n",
              "      <td>Spector, Mr. Woolf</td>\n",
              "      <td>male</td>\n",
              "      <td>NaN</td>\n",
              "      <td>0</td>\n",
              "      <td>0</td>\n",
              "      <td>A.5. 3236</td>\n",
              "      <td>8.0500</td>\n",
              "      <td>S</td>\n",
              "    </tr>\n",
              "    <tr>\n",
              "      <th>414</th>\n",
              "      <td>1306</td>\n",
              "      <td>NaN</td>\n",
              "      <td>1</td>\n",
              "      <td>Oliva y Ocana, Dona. Fermina</td>\n",
              "      <td>female</td>\n",
              "      <td>39.0</td>\n",
              "      <td>0</td>\n",
              "      <td>0</td>\n",
              "      <td>PC 17758</td>\n",
              "      <td>108.9000</td>\n",
              "      <td>C</td>\n",
              "    </tr>\n",
              "    <tr>\n",
              "      <th>415</th>\n",
              "      <td>1307</td>\n",
              "      <td>NaN</td>\n",
              "      <td>3</td>\n",
              "      <td>Saether, Mr. Simon Sivertsen</td>\n",
              "      <td>male</td>\n",
              "      <td>38.5</td>\n",
              "      <td>0</td>\n",
              "      <td>0</td>\n",
              "      <td>SOTON/O.Q. 3101262</td>\n",
              "      <td>7.2500</td>\n",
              "      <td>S</td>\n",
              "    </tr>\n",
              "    <tr>\n",
              "      <th>416</th>\n",
              "      <td>1308</td>\n",
              "      <td>NaN</td>\n",
              "      <td>3</td>\n",
              "      <td>Ware, Mr. Frederick</td>\n",
              "      <td>male</td>\n",
              "      <td>NaN</td>\n",
              "      <td>0</td>\n",
              "      <td>0</td>\n",
              "      <td>359309</td>\n",
              "      <td>8.0500</td>\n",
              "      <td>S</td>\n",
              "    </tr>\n",
              "    <tr>\n",
              "      <th>417</th>\n",
              "      <td>1309</td>\n",
              "      <td>NaN</td>\n",
              "      <td>3</td>\n",
              "      <td>Peter, Master. Michael J</td>\n",
              "      <td>male</td>\n",
              "      <td>NaN</td>\n",
              "      <td>1</td>\n",
              "      <td>1</td>\n",
              "      <td>2668</td>\n",
              "      <td>22.3583</td>\n",
              "      <td>C</td>\n",
              "    </tr>\n",
              "  </tbody>\n",
              "</table>\n",
              "<p>1309 rows × 11 columns</p>\n",
              "</div>"
            ],
            "text/plain": [
              "     PassengerId  Survived  Pclass  ...              Ticket      Fare  Embarked\n",
              "0              1       0.0       3  ...           A/5 21171    7.2500         S\n",
              "1              2       1.0       1  ...            PC 17599   71.2833         C\n",
              "2              3       1.0       3  ...    STON/O2. 3101282    7.9250         S\n",
              "3              4       1.0       1  ...              113803   53.1000         S\n",
              "4              5       0.0       3  ...              373450    8.0500         S\n",
              "..           ...       ...     ...  ...                 ...       ...       ...\n",
              "413         1305       NaN       3  ...           A.5. 3236    8.0500         S\n",
              "414         1306       NaN       1  ...            PC 17758  108.9000         C\n",
              "415         1307       NaN       3  ...  SOTON/O.Q. 3101262    7.2500         S\n",
              "416         1308       NaN       3  ...              359309    8.0500         S\n",
              "417         1309       NaN       3  ...                2668   22.3583         C\n",
              "\n",
              "[1309 rows x 11 columns]"
            ]
          },
          "metadata": {},
          "execution_count": 9
        }
      ]
    },
    {
      "cell_type": "code",
      "metadata": {
        "colab": {
          "base_uri": "https://localhost:8080/",
          "height": 147
        },
        "id": "x1GnwdqDifVf",
        "outputId": "68b93953-bf3d-4410-86ad-ee3bbdd348d3"
      },
      "source": [
        "df_full.loc[df_full['Embarked'].isnull()]"
      ],
      "execution_count": 10,
      "outputs": [
        {
          "output_type": "execute_result",
          "data": {
            "text/html": [
              "<div>\n",
              "<style scoped>\n",
              "    .dataframe tbody tr th:only-of-type {\n",
              "        vertical-align: middle;\n",
              "    }\n",
              "\n",
              "    .dataframe tbody tr th {\n",
              "        vertical-align: top;\n",
              "    }\n",
              "\n",
              "    .dataframe thead th {\n",
              "        text-align: right;\n",
              "    }\n",
              "</style>\n",
              "<table border=\"1\" class=\"dataframe\">\n",
              "  <thead>\n",
              "    <tr style=\"text-align: right;\">\n",
              "      <th></th>\n",
              "      <th>PassengerId</th>\n",
              "      <th>Survived</th>\n",
              "      <th>Pclass</th>\n",
              "      <th>Name</th>\n",
              "      <th>Sex</th>\n",
              "      <th>Age</th>\n",
              "      <th>SibSp</th>\n",
              "      <th>Parch</th>\n",
              "      <th>Ticket</th>\n",
              "      <th>Fare</th>\n",
              "      <th>Embarked</th>\n",
              "    </tr>\n",
              "  </thead>\n",
              "  <tbody>\n",
              "    <tr>\n",
              "      <th>61</th>\n",
              "      <td>62</td>\n",
              "      <td>1.0</td>\n",
              "      <td>1</td>\n",
              "      <td>Icard, Miss. Amelie</td>\n",
              "      <td>female</td>\n",
              "      <td>38.0</td>\n",
              "      <td>0</td>\n",
              "      <td>0</td>\n",
              "      <td>113572</td>\n",
              "      <td>80.0</td>\n",
              "      <td>NaN</td>\n",
              "    </tr>\n",
              "    <tr>\n",
              "      <th>829</th>\n",
              "      <td>830</td>\n",
              "      <td>1.0</td>\n",
              "      <td>1</td>\n",
              "      <td>Stone, Mrs. George Nelson (Martha Evelyn)</td>\n",
              "      <td>female</td>\n",
              "      <td>62.0</td>\n",
              "      <td>0</td>\n",
              "      <td>0</td>\n",
              "      <td>113572</td>\n",
              "      <td>80.0</td>\n",
              "      <td>NaN</td>\n",
              "    </tr>\n",
              "  </tbody>\n",
              "</table>\n",
              "</div>"
            ],
            "text/plain": [
              "     PassengerId  Survived  Pclass  ...  Ticket  Fare  Embarked\n",
              "61            62       1.0       1  ...  113572  80.0       NaN\n",
              "829          830       1.0       1  ...  113572  80.0       NaN\n",
              "\n",
              "[2 rows x 11 columns]"
            ]
          },
          "metadata": {},
          "execution_count": 10
        }
      ]
    },
    {
      "cell_type": "markdown",
      "metadata": {
        "id": "0zKnuSQYi_GC"
      },
      "source": [
        "**Count Embarked value **"
      ]
    },
    {
      "cell_type": "code",
      "metadata": {
        "colab": {
          "base_uri": "https://localhost:8080/",
          "height": 143
        },
        "id": "nGVMHvUeiu6_",
        "outputId": "fe36ada0-a78f-434c-90d3-f8664935b14c"
      },
      "source": [
        "pd.DataFrame(df_full.Embarked.value_counts())"
      ],
      "execution_count": 11,
      "outputs": [
        {
          "output_type": "execute_result",
          "data": {
            "text/html": [
              "<div>\n",
              "<style scoped>\n",
              "    .dataframe tbody tr th:only-of-type {\n",
              "        vertical-align: middle;\n",
              "    }\n",
              "\n",
              "    .dataframe tbody tr th {\n",
              "        vertical-align: top;\n",
              "    }\n",
              "\n",
              "    .dataframe thead th {\n",
              "        text-align: right;\n",
              "    }\n",
              "</style>\n",
              "<table border=\"1\" class=\"dataframe\">\n",
              "  <thead>\n",
              "    <tr style=\"text-align: right;\">\n",
              "      <th></th>\n",
              "      <th>Embarked</th>\n",
              "    </tr>\n",
              "  </thead>\n",
              "  <tbody>\n",
              "    <tr>\n",
              "      <th>S</th>\n",
              "      <td>914</td>\n",
              "    </tr>\n",
              "    <tr>\n",
              "      <th>C</th>\n",
              "      <td>270</td>\n",
              "    </tr>\n",
              "    <tr>\n",
              "      <th>Q</th>\n",
              "      <td>123</td>\n",
              "    </tr>\n",
              "  </tbody>\n",
              "</table>\n",
              "</div>"
            ],
            "text/plain": [
              "   Embarked\n",
              "S       914\n",
              "C       270\n",
              "Q       123"
            ]
          },
          "metadata": {},
          "execution_count": 11
        }
      ]
    },
    {
      "cell_type": "markdown",
      "metadata": {
        "id": "xEEiKZXzjaai"
      },
      "source": [
        "**Most passengers were supposed to get off the Titanic at port 'S'. So put 'S' for the two passengers with missing value**"
      ]
    },
    {
      "cell_type": "code",
      "metadata": {
        "id": "ocff52PvjP_d"
      },
      "source": [
        "df_full.loc[61,'Embarked'] = 'S'\n",
        "df_full.loc[829,'Embarked'] = 'S'"
      ],
      "execution_count": 12,
      "outputs": []
    },
    {
      "cell_type": "code",
      "metadata": {
        "colab": {
          "base_uri": "https://localhost:8080/"
        },
        "id": "u386hIYgjlzG",
        "outputId": "2cb3525a-2481-4b25-c201-e79173e349fe"
      },
      "source": [
        "df_full['Age'].loc[ (df_full['Pclass'] == 1) & (df_full['Age'].isnull()) & (df_full['Name'].str.contains('Mr. ')) ] = 41\n",
        "df_full['Age'].loc[ (df_full['Pclass'] == 1) & (df_full['Age'].isnull()) & (df_full['Name'].str.contains('Master. ')) ] = 7\n",
        "df_full['Age'].loc[ (df_full['Pclass'] == 1) & (df_full['Age'].isnull()) & (df_full['Name'].str.contains('Mrs. ')) ] = 43\n",
        "df_full['Age'].loc[ (df_full['Pclass'] == 1) & (df_full['Age'].isnull()) & (df_full['Name'].str.contains('Miss. ')) ] = 30\n",
        "\n",
        "df_full['Age'].loc[ (df_full['Pclass'] == 2) & (df_full['Age'].isnull()) & (df_full['Name'].str.contains('Mr. ')) ] = 32\n",
        "df_full['Age'].loc[ (df_full['Pclass'] == 2) & (df_full['Age'].isnull()) & (df_full['Name'].str.contains('Master. ')) ] = 3\n",
        "df_full['Age'].loc[ (df_full['Pclass'] == 2) & (df_full['Age'].isnull()) & (df_full['Name'].str.contains('Mrs. ')) ] = 33.5\n",
        "df_full['Age'].loc[ (df_full['Pclass'] == 2) & (df_full['Age'].isnull()) & (df_full['Name'].str.contains('Miss. ')) ] = 21\n",
        "\n",
        "df_full['Age'].loc[ (df_full['Pclass'] == 3) & (df_full['Age'].isnull()) & (df_full['Name'].str.contains('Mr. ')) ] = 28\n",
        "df_full['Age'].loc[ (df_full['Pclass'] == 3) & (df_full['Age'].isnull()) & (df_full['Name'].str.contains('Master. ')) ] = 6\n",
        "df_full['Age'].loc[ (df_full['Pclass'] == 3) & (df_full['Age'].isnull()) & (df_full['Name'].str.contains('Mrs. ')) ] = 32\n",
        "df_full['Age'].loc[ (df_full['Pclass'] == 3) & (df_full['Age'].isnull()) & (df_full['Name'].str.contains('Miss. ')) ] = 17"
      ],
      "execution_count": 13,
      "outputs": [
        {
          "output_type": "stream",
          "name": "stderr",
          "text": [
            "/usr/local/lib/python3.7/dist-packages/pandas/core/indexing.py:670: SettingWithCopyWarning: \n",
            "A value is trying to be set on a copy of a slice from a DataFrame\n",
            "\n",
            "See the caveats in the documentation: https://pandas.pydata.org/pandas-docs/stable/user_guide/indexing.html#returning-a-view-versus-a-copy\n",
            "  iloc._setitem_with_indexer(indexer, value)\n",
            "/usr/local/lib/python3.7/dist-packages/pandas/core/indexing.py:670: SettingWithCopyWarning: \n",
            "A value is trying to be set on a copy of a slice from a DataFrame\n",
            "\n",
            "See the caveats in the documentation: https://pandas.pydata.org/pandas-docs/stable/user_guide/indexing.html#returning-a-view-versus-a-copy\n",
            "  iloc._setitem_with_indexer(indexer, value)\n",
            "/usr/local/lib/python3.7/dist-packages/pandas/core/indexing.py:670: SettingWithCopyWarning: \n",
            "A value is trying to be set on a copy of a slice from a DataFrame\n",
            "\n",
            "See the caveats in the documentation: https://pandas.pydata.org/pandas-docs/stable/user_guide/indexing.html#returning-a-view-versus-a-copy\n",
            "  iloc._setitem_with_indexer(indexer, value)\n",
            "/usr/local/lib/python3.7/dist-packages/pandas/core/indexing.py:670: SettingWithCopyWarning: \n",
            "A value is trying to be set on a copy of a slice from a DataFrame\n",
            "\n",
            "See the caveats in the documentation: https://pandas.pydata.org/pandas-docs/stable/user_guide/indexing.html#returning-a-view-versus-a-copy\n",
            "  iloc._setitem_with_indexer(indexer, value)\n",
            "/usr/local/lib/python3.7/dist-packages/pandas/core/indexing.py:670: SettingWithCopyWarning: \n",
            "A value is trying to be set on a copy of a slice from a DataFrame\n",
            "\n",
            "See the caveats in the documentation: https://pandas.pydata.org/pandas-docs/stable/user_guide/indexing.html#returning-a-view-versus-a-copy\n",
            "  iloc._setitem_with_indexer(indexer, value)\n",
            "/usr/local/lib/python3.7/dist-packages/pandas/core/indexing.py:670: SettingWithCopyWarning: \n",
            "A value is trying to be set on a copy of a slice from a DataFrame\n",
            "\n",
            "See the caveats in the documentation: https://pandas.pydata.org/pandas-docs/stable/user_guide/indexing.html#returning-a-view-versus-a-copy\n",
            "  iloc._setitem_with_indexer(indexer, value)\n",
            "/usr/local/lib/python3.7/dist-packages/pandas/core/indexing.py:670: SettingWithCopyWarning: \n",
            "A value is trying to be set on a copy of a slice from a DataFrame\n",
            "\n",
            "See the caveats in the documentation: https://pandas.pydata.org/pandas-docs/stable/user_guide/indexing.html#returning-a-view-versus-a-copy\n",
            "  iloc._setitem_with_indexer(indexer, value)\n",
            "/usr/local/lib/python3.7/dist-packages/pandas/core/indexing.py:670: SettingWithCopyWarning: \n",
            "A value is trying to be set on a copy of a slice from a DataFrame\n",
            "\n",
            "See the caveats in the documentation: https://pandas.pydata.org/pandas-docs/stable/user_guide/indexing.html#returning-a-view-versus-a-copy\n",
            "  iloc._setitem_with_indexer(indexer, value)\n",
            "/usr/local/lib/python3.7/dist-packages/pandas/core/indexing.py:670: SettingWithCopyWarning: \n",
            "A value is trying to be set on a copy of a slice from a DataFrame\n",
            "\n",
            "See the caveats in the documentation: https://pandas.pydata.org/pandas-docs/stable/user_guide/indexing.html#returning-a-view-versus-a-copy\n",
            "  iloc._setitem_with_indexer(indexer, value)\n",
            "/usr/local/lib/python3.7/dist-packages/pandas/core/indexing.py:670: SettingWithCopyWarning: \n",
            "A value is trying to be set on a copy of a slice from a DataFrame\n",
            "\n",
            "See the caveats in the documentation: https://pandas.pydata.org/pandas-docs/stable/user_guide/indexing.html#returning-a-view-versus-a-copy\n",
            "  iloc._setitem_with_indexer(indexer, value)\n",
            "/usr/local/lib/python3.7/dist-packages/pandas/core/indexing.py:670: SettingWithCopyWarning: \n",
            "A value is trying to be set on a copy of a slice from a DataFrame\n",
            "\n",
            "See the caveats in the documentation: https://pandas.pydata.org/pandas-docs/stable/user_guide/indexing.html#returning-a-view-versus-a-copy\n",
            "  iloc._setitem_with_indexer(indexer, value)\n",
            "/usr/local/lib/python3.7/dist-packages/pandas/core/indexing.py:670: SettingWithCopyWarning: \n",
            "A value is trying to be set on a copy of a slice from a DataFrame\n",
            "\n",
            "See the caveats in the documentation: https://pandas.pydata.org/pandas-docs/stable/user_guide/indexing.html#returning-a-view-versus-a-copy\n",
            "  iloc._setitem_with_indexer(indexer, value)\n"
          ]
        }
      ]
    },
    {
      "cell_type": "code",
      "metadata": {
        "colab": {
          "base_uri": "https://localhost:8080/",
          "height": 147
        },
        "id": "eLj8LIYRk_ax",
        "outputId": "ab6e8a9c-3506-47c1-8b29-e1b4ad84830b"
      },
      "source": [
        "df_full.loc[df_full['Age'].isnull()]"
      ],
      "execution_count": 14,
      "outputs": [
        {
          "output_type": "execute_result",
          "data": {
            "text/html": [
              "<div>\n",
              "<style scoped>\n",
              "    .dataframe tbody tr th:only-of-type {\n",
              "        vertical-align: middle;\n",
              "    }\n",
              "\n",
              "    .dataframe tbody tr th {\n",
              "        vertical-align: top;\n",
              "    }\n",
              "\n",
              "    .dataframe thead th {\n",
              "        text-align: right;\n",
              "    }\n",
              "</style>\n",
              "<table border=\"1\" class=\"dataframe\">\n",
              "  <thead>\n",
              "    <tr style=\"text-align: right;\">\n",
              "      <th></th>\n",
              "      <th>PassengerId</th>\n",
              "      <th>Survived</th>\n",
              "      <th>Pclass</th>\n",
              "      <th>Name</th>\n",
              "      <th>Sex</th>\n",
              "      <th>Age</th>\n",
              "      <th>SibSp</th>\n",
              "      <th>Parch</th>\n",
              "      <th>Ticket</th>\n",
              "      <th>Fare</th>\n",
              "      <th>Embarked</th>\n",
              "    </tr>\n",
              "  </thead>\n",
              "  <tbody>\n",
              "    <tr>\n",
              "      <th>766</th>\n",
              "      <td>767</td>\n",
              "      <td>0.0</td>\n",
              "      <td>1</td>\n",
              "      <td>Brewe, Dr. Arthur Jackson</td>\n",
              "      <td>male</td>\n",
              "      <td>NaN</td>\n",
              "      <td>0</td>\n",
              "      <td>0</td>\n",
              "      <td>112379</td>\n",
              "      <td>39.60</td>\n",
              "      <td>C</td>\n",
              "    </tr>\n",
              "    <tr>\n",
              "      <th>88</th>\n",
              "      <td>980</td>\n",
              "      <td>NaN</td>\n",
              "      <td>3</td>\n",
              "      <td>O'Donoghue, Ms. Bridget</td>\n",
              "      <td>female</td>\n",
              "      <td>NaN</td>\n",
              "      <td>0</td>\n",
              "      <td>0</td>\n",
              "      <td>364856</td>\n",
              "      <td>7.75</td>\n",
              "      <td>Q</td>\n",
              "    </tr>\n",
              "  </tbody>\n",
              "</table>\n",
              "</div>"
            ],
            "text/plain": [
              "     PassengerId  Survived  Pclass  ...  Ticket   Fare  Embarked\n",
              "766          767       0.0       1  ...  112379  39.60         C\n",
              "88           980       NaN       3  ...  364856   7.75         Q\n",
              "\n",
              "[2 rows x 11 columns]"
            ]
          },
          "metadata": {},
          "execution_count": 14
        }
      ]
    },
    {
      "cell_type": "markdown",
      "metadata": {
        "id": "Mc3GA_ahlN12"
      },
      "source": [
        "**Two entries are null for Age column. Lets Handle these missing values manually depending on fare amount**"
      ]
    },
    {
      "cell_type": "code",
      "metadata": {
        "id": "ftEI3SzUlLgC"
      },
      "source": [
        "df_full.loc[766,'Age'] = 41 # man, first class\n",
        "df_full.loc[88,'Age'] = 17 # miss, third class"
      ],
      "execution_count": 15,
      "outputs": []
    },
    {
      "cell_type": "code",
      "metadata": {
        "colab": {
          "base_uri": "https://localhost:8080/",
          "height": 49
        },
        "id": "l4moXFoXli3G",
        "outputId": "0c3db4e2-7a96-43bd-f086-b27c7d2509a3"
      },
      "source": [
        "df_full.loc[df_full['Age'].isnull()]"
      ],
      "execution_count": 16,
      "outputs": [
        {
          "output_type": "execute_result",
          "data": {
            "text/html": [
              "<div>\n",
              "<style scoped>\n",
              "    .dataframe tbody tr th:only-of-type {\n",
              "        vertical-align: middle;\n",
              "    }\n",
              "\n",
              "    .dataframe tbody tr th {\n",
              "        vertical-align: top;\n",
              "    }\n",
              "\n",
              "    .dataframe thead th {\n",
              "        text-align: right;\n",
              "    }\n",
              "</style>\n",
              "<table border=\"1\" class=\"dataframe\">\n",
              "  <thead>\n",
              "    <tr style=\"text-align: right;\">\n",
              "      <th></th>\n",
              "      <th>PassengerId</th>\n",
              "      <th>Survived</th>\n",
              "      <th>Pclass</th>\n",
              "      <th>Name</th>\n",
              "      <th>Sex</th>\n",
              "      <th>Age</th>\n",
              "      <th>SibSp</th>\n",
              "      <th>Parch</th>\n",
              "      <th>Ticket</th>\n",
              "      <th>Fare</th>\n",
              "      <th>Embarked</th>\n",
              "    </tr>\n",
              "  </thead>\n",
              "  <tbody>\n",
              "  </tbody>\n",
              "</table>\n",
              "</div>"
            ],
            "text/plain": [
              "Empty DataFrame\n",
              "Columns: [PassengerId, Survived, Pclass, Name, Sex, Age, SibSp, Parch, Ticket, Fare, Embarked]\n",
              "Index: []"
            ]
          },
          "metadata": {},
          "execution_count": 16
        }
      ]
    },
    {
      "cell_type": "markdown",
      "metadata": {
        "id": "oalnh4eBlt-g"
      },
      "source": [
        "**Processing Data**\n"
      ]
    },
    {
      "cell_type": "code",
      "metadata": {
        "id": "4BIvwSeRlnQC"
      },
      "source": [
        "# SEX\n",
        "df_full['Sex'] = df_full['Sex'].replace('male',1)\n",
        "df_full['Sex'] = df_full['Sex'].replace('female',0)\n",
        "\n",
        "# EMBARKED\n",
        "df_full['Embarked'] = df_full['Embarked'].replace('S',1)\n",
        "df_full['Embarked'] = df_full['Embarked'].replace('C',2)\n",
        "df_full['Embarked'] = df_full['Embarked'].replace('Q',3)"
      ],
      "execution_count": 17,
      "outputs": []
    },
    {
      "cell_type": "code",
      "metadata": {
        "colab": {
          "base_uri": "https://localhost:8080/",
          "height": 736
        },
        "id": "pHlNRqSrnLD7",
        "outputId": "6e1dc432-befd-4ee4-99b6-85878f30dbcb"
      },
      "source": [
        "df_full"
      ],
      "execution_count": 18,
      "outputs": [
        {
          "output_type": "execute_result",
          "data": {
            "text/html": [
              "<div>\n",
              "<style scoped>\n",
              "    .dataframe tbody tr th:only-of-type {\n",
              "        vertical-align: middle;\n",
              "    }\n",
              "\n",
              "    .dataframe tbody tr th {\n",
              "        vertical-align: top;\n",
              "    }\n",
              "\n",
              "    .dataframe thead th {\n",
              "        text-align: right;\n",
              "    }\n",
              "</style>\n",
              "<table border=\"1\" class=\"dataframe\">\n",
              "  <thead>\n",
              "    <tr style=\"text-align: right;\">\n",
              "      <th></th>\n",
              "      <th>PassengerId</th>\n",
              "      <th>Survived</th>\n",
              "      <th>Pclass</th>\n",
              "      <th>Name</th>\n",
              "      <th>Sex</th>\n",
              "      <th>Age</th>\n",
              "      <th>SibSp</th>\n",
              "      <th>Parch</th>\n",
              "      <th>Ticket</th>\n",
              "      <th>Fare</th>\n",
              "      <th>Embarked</th>\n",
              "    </tr>\n",
              "  </thead>\n",
              "  <tbody>\n",
              "    <tr>\n",
              "      <th>0</th>\n",
              "      <td>1</td>\n",
              "      <td>0.0</td>\n",
              "      <td>3</td>\n",
              "      <td>Braund, Mr. Owen Harris</td>\n",
              "      <td>1</td>\n",
              "      <td>22.0</td>\n",
              "      <td>1</td>\n",
              "      <td>0</td>\n",
              "      <td>A/5 21171</td>\n",
              "      <td>7.2500</td>\n",
              "      <td>1</td>\n",
              "    </tr>\n",
              "    <tr>\n",
              "      <th>1</th>\n",
              "      <td>2</td>\n",
              "      <td>1.0</td>\n",
              "      <td>1</td>\n",
              "      <td>Cumings, Mrs. John Bradley (Florence Briggs Th...</td>\n",
              "      <td>0</td>\n",
              "      <td>38.0</td>\n",
              "      <td>1</td>\n",
              "      <td>0</td>\n",
              "      <td>PC 17599</td>\n",
              "      <td>71.2833</td>\n",
              "      <td>2</td>\n",
              "    </tr>\n",
              "    <tr>\n",
              "      <th>2</th>\n",
              "      <td>3</td>\n",
              "      <td>1.0</td>\n",
              "      <td>3</td>\n",
              "      <td>Heikkinen, Miss. Laina</td>\n",
              "      <td>0</td>\n",
              "      <td>26.0</td>\n",
              "      <td>0</td>\n",
              "      <td>0</td>\n",
              "      <td>STON/O2. 3101282</td>\n",
              "      <td>7.9250</td>\n",
              "      <td>1</td>\n",
              "    </tr>\n",
              "    <tr>\n",
              "      <th>3</th>\n",
              "      <td>4</td>\n",
              "      <td>1.0</td>\n",
              "      <td>1</td>\n",
              "      <td>Futrelle, Mrs. Jacques Heath (Lily May Peel)</td>\n",
              "      <td>0</td>\n",
              "      <td>35.0</td>\n",
              "      <td>1</td>\n",
              "      <td>0</td>\n",
              "      <td>113803</td>\n",
              "      <td>53.1000</td>\n",
              "      <td>1</td>\n",
              "    </tr>\n",
              "    <tr>\n",
              "      <th>4</th>\n",
              "      <td>5</td>\n",
              "      <td>0.0</td>\n",
              "      <td>3</td>\n",
              "      <td>Allen, Mr. William Henry</td>\n",
              "      <td>1</td>\n",
              "      <td>35.0</td>\n",
              "      <td>0</td>\n",
              "      <td>0</td>\n",
              "      <td>373450</td>\n",
              "      <td>8.0500</td>\n",
              "      <td>1</td>\n",
              "    </tr>\n",
              "    <tr>\n",
              "      <th>...</th>\n",
              "      <td>...</td>\n",
              "      <td>...</td>\n",
              "      <td>...</td>\n",
              "      <td>...</td>\n",
              "      <td>...</td>\n",
              "      <td>...</td>\n",
              "      <td>...</td>\n",
              "      <td>...</td>\n",
              "      <td>...</td>\n",
              "      <td>...</td>\n",
              "      <td>...</td>\n",
              "    </tr>\n",
              "    <tr>\n",
              "      <th>413</th>\n",
              "      <td>1305</td>\n",
              "      <td>NaN</td>\n",
              "      <td>3</td>\n",
              "      <td>Spector, Mr. Woolf</td>\n",
              "      <td>1</td>\n",
              "      <td>28.0</td>\n",
              "      <td>0</td>\n",
              "      <td>0</td>\n",
              "      <td>A.5. 3236</td>\n",
              "      <td>8.0500</td>\n",
              "      <td>1</td>\n",
              "    </tr>\n",
              "    <tr>\n",
              "      <th>414</th>\n",
              "      <td>1306</td>\n",
              "      <td>NaN</td>\n",
              "      <td>1</td>\n",
              "      <td>Oliva y Ocana, Dona. Fermina</td>\n",
              "      <td>0</td>\n",
              "      <td>39.0</td>\n",
              "      <td>0</td>\n",
              "      <td>0</td>\n",
              "      <td>PC 17758</td>\n",
              "      <td>108.9000</td>\n",
              "      <td>2</td>\n",
              "    </tr>\n",
              "    <tr>\n",
              "      <th>415</th>\n",
              "      <td>1307</td>\n",
              "      <td>NaN</td>\n",
              "      <td>3</td>\n",
              "      <td>Saether, Mr. Simon Sivertsen</td>\n",
              "      <td>1</td>\n",
              "      <td>38.5</td>\n",
              "      <td>0</td>\n",
              "      <td>0</td>\n",
              "      <td>SOTON/O.Q. 3101262</td>\n",
              "      <td>7.2500</td>\n",
              "      <td>1</td>\n",
              "    </tr>\n",
              "    <tr>\n",
              "      <th>416</th>\n",
              "      <td>1308</td>\n",
              "      <td>NaN</td>\n",
              "      <td>3</td>\n",
              "      <td>Ware, Mr. Frederick</td>\n",
              "      <td>1</td>\n",
              "      <td>28.0</td>\n",
              "      <td>0</td>\n",
              "      <td>0</td>\n",
              "      <td>359309</td>\n",
              "      <td>8.0500</td>\n",
              "      <td>1</td>\n",
              "    </tr>\n",
              "    <tr>\n",
              "      <th>417</th>\n",
              "      <td>1309</td>\n",
              "      <td>NaN</td>\n",
              "      <td>3</td>\n",
              "      <td>Peter, Master. Michael J</td>\n",
              "      <td>1</td>\n",
              "      <td>6.0</td>\n",
              "      <td>1</td>\n",
              "      <td>1</td>\n",
              "      <td>2668</td>\n",
              "      <td>22.3583</td>\n",
              "      <td>2</td>\n",
              "    </tr>\n",
              "  </tbody>\n",
              "</table>\n",
              "<p>1309 rows × 11 columns</p>\n",
              "</div>"
            ],
            "text/plain": [
              "     PassengerId  Survived  Pclass  ...              Ticket      Fare  Embarked\n",
              "0              1       0.0       3  ...           A/5 21171    7.2500         1\n",
              "1              2       1.0       1  ...            PC 17599   71.2833         2\n",
              "2              3       1.0       3  ...    STON/O2. 3101282    7.9250         1\n",
              "3              4       1.0       1  ...              113803   53.1000         1\n",
              "4              5       0.0       3  ...              373450    8.0500         1\n",
              "..           ...       ...     ...  ...                 ...       ...       ...\n",
              "413         1305       NaN       3  ...           A.5. 3236    8.0500         1\n",
              "414         1306       NaN       1  ...            PC 17758  108.9000         2\n",
              "415         1307       NaN       3  ...  SOTON/O.Q. 3101262    7.2500         1\n",
              "416         1308       NaN       3  ...              359309    8.0500         1\n",
              "417         1309       NaN       3  ...                2668   22.3583         2\n",
              "\n",
              "[1309 rows x 11 columns]"
            ]
          },
          "metadata": {},
          "execution_count": 18
        }
      ]
    },
    {
      "cell_type": "markdown",
      "metadata": {
        "id": "SMPqy6d7oJR5"
      },
      "source": [
        "**Split data in train and test sample**"
      ]
    },
    {
      "cell_type": "code",
      "metadata": {
        "id": "VM7_I_NvnVSI"
      },
      "source": [
        "df_full=df_full.dropna()\n",
        "X=df_full[['PassengerId','Pclass','Sex','Age','SibSp','Parch','Fare']]\n",
        "y=df_full['Survived']"
      ],
      "execution_count": 19,
      "outputs": []
    },
    {
      "cell_type": "code",
      "metadata": {
        "colab": {
          "base_uri": "https://localhost:8080/",
          "height": 424
        },
        "id": "hBHX2lbDn8L5",
        "outputId": "573dc1cd-1271-4286-e809-295d5c8fe905"
      },
      "source": [
        "X"
      ],
      "execution_count": 20,
      "outputs": [
        {
          "output_type": "execute_result",
          "data": {
            "text/html": [
              "<div>\n",
              "<style scoped>\n",
              "    .dataframe tbody tr th:only-of-type {\n",
              "        vertical-align: middle;\n",
              "    }\n",
              "\n",
              "    .dataframe tbody tr th {\n",
              "        vertical-align: top;\n",
              "    }\n",
              "\n",
              "    .dataframe thead th {\n",
              "        text-align: right;\n",
              "    }\n",
              "</style>\n",
              "<table border=\"1\" class=\"dataframe\">\n",
              "  <thead>\n",
              "    <tr style=\"text-align: right;\">\n",
              "      <th></th>\n",
              "      <th>PassengerId</th>\n",
              "      <th>Pclass</th>\n",
              "      <th>Sex</th>\n",
              "      <th>Age</th>\n",
              "      <th>SibSp</th>\n",
              "      <th>Parch</th>\n",
              "      <th>Fare</th>\n",
              "    </tr>\n",
              "  </thead>\n",
              "  <tbody>\n",
              "    <tr>\n",
              "      <th>0</th>\n",
              "      <td>1</td>\n",
              "      <td>3</td>\n",
              "      <td>1</td>\n",
              "      <td>22.0</td>\n",
              "      <td>1</td>\n",
              "      <td>0</td>\n",
              "      <td>7.2500</td>\n",
              "    </tr>\n",
              "    <tr>\n",
              "      <th>1</th>\n",
              "      <td>2</td>\n",
              "      <td>1</td>\n",
              "      <td>0</td>\n",
              "      <td>38.0</td>\n",
              "      <td>1</td>\n",
              "      <td>0</td>\n",
              "      <td>71.2833</td>\n",
              "    </tr>\n",
              "    <tr>\n",
              "      <th>2</th>\n",
              "      <td>3</td>\n",
              "      <td>3</td>\n",
              "      <td>0</td>\n",
              "      <td>26.0</td>\n",
              "      <td>0</td>\n",
              "      <td>0</td>\n",
              "      <td>7.9250</td>\n",
              "    </tr>\n",
              "    <tr>\n",
              "      <th>3</th>\n",
              "      <td>4</td>\n",
              "      <td>1</td>\n",
              "      <td>0</td>\n",
              "      <td>35.0</td>\n",
              "      <td>1</td>\n",
              "      <td>0</td>\n",
              "      <td>53.1000</td>\n",
              "    </tr>\n",
              "    <tr>\n",
              "      <th>4</th>\n",
              "      <td>5</td>\n",
              "      <td>3</td>\n",
              "      <td>1</td>\n",
              "      <td>35.0</td>\n",
              "      <td>0</td>\n",
              "      <td>0</td>\n",
              "      <td>8.0500</td>\n",
              "    </tr>\n",
              "    <tr>\n",
              "      <th>...</th>\n",
              "      <td>...</td>\n",
              "      <td>...</td>\n",
              "      <td>...</td>\n",
              "      <td>...</td>\n",
              "      <td>...</td>\n",
              "      <td>...</td>\n",
              "      <td>...</td>\n",
              "    </tr>\n",
              "    <tr>\n",
              "      <th>886</th>\n",
              "      <td>887</td>\n",
              "      <td>2</td>\n",
              "      <td>1</td>\n",
              "      <td>27.0</td>\n",
              "      <td>0</td>\n",
              "      <td>0</td>\n",
              "      <td>13.0000</td>\n",
              "    </tr>\n",
              "    <tr>\n",
              "      <th>887</th>\n",
              "      <td>888</td>\n",
              "      <td>1</td>\n",
              "      <td>0</td>\n",
              "      <td>19.0</td>\n",
              "      <td>0</td>\n",
              "      <td>0</td>\n",
              "      <td>30.0000</td>\n",
              "    </tr>\n",
              "    <tr>\n",
              "      <th>888</th>\n",
              "      <td>889</td>\n",
              "      <td>3</td>\n",
              "      <td>0</td>\n",
              "      <td>17.0</td>\n",
              "      <td>1</td>\n",
              "      <td>2</td>\n",
              "      <td>23.4500</td>\n",
              "    </tr>\n",
              "    <tr>\n",
              "      <th>889</th>\n",
              "      <td>890</td>\n",
              "      <td>1</td>\n",
              "      <td>1</td>\n",
              "      <td>26.0</td>\n",
              "      <td>0</td>\n",
              "      <td>0</td>\n",
              "      <td>30.0000</td>\n",
              "    </tr>\n",
              "    <tr>\n",
              "      <th>890</th>\n",
              "      <td>891</td>\n",
              "      <td>3</td>\n",
              "      <td>1</td>\n",
              "      <td>32.0</td>\n",
              "      <td>0</td>\n",
              "      <td>0</td>\n",
              "      <td>7.7500</td>\n",
              "    </tr>\n",
              "  </tbody>\n",
              "</table>\n",
              "<p>891 rows × 7 columns</p>\n",
              "</div>"
            ],
            "text/plain": [
              "     PassengerId  Pclass  Sex   Age  SibSp  Parch     Fare\n",
              "0              1       3    1  22.0      1      0   7.2500\n",
              "1              2       1    0  38.0      1      0  71.2833\n",
              "2              3       3    0  26.0      0      0   7.9250\n",
              "3              4       1    0  35.0      1      0  53.1000\n",
              "4              5       3    1  35.0      0      0   8.0500\n",
              "..           ...     ...  ...   ...    ...    ...      ...\n",
              "886          887       2    1  27.0      0      0  13.0000\n",
              "887          888       1    0  19.0      0      0  30.0000\n",
              "888          889       3    0  17.0      1      2  23.4500\n",
              "889          890       1    1  26.0      0      0  30.0000\n",
              "890          891       3    1  32.0      0      0   7.7500\n",
              "\n",
              "[891 rows x 7 columns]"
            ]
          },
          "metadata": {},
          "execution_count": 20
        }
      ]
    },
    {
      "cell_type": "code",
      "metadata": {
        "colab": {
          "base_uri": "https://localhost:8080/"
        },
        "id": "3o7hrosDoAZo",
        "outputId": "39f48e4b-09ee-4d31-d8b9-b5ccd8e78fda"
      },
      "source": [
        "y"
      ],
      "execution_count": 21,
      "outputs": [
        {
          "output_type": "execute_result",
          "data": {
            "text/plain": [
              "0      0.0\n",
              "1      1.0\n",
              "2      1.0\n",
              "3      1.0\n",
              "4      0.0\n",
              "      ... \n",
              "886    0.0\n",
              "887    1.0\n",
              "888    0.0\n",
              "889    1.0\n",
              "890    0.0\n",
              "Name: Survived, Length: 891, dtype: float64"
            ]
          },
          "metadata": {},
          "execution_count": 21
        }
      ]
    },
    {
      "cell_type": "code",
      "metadata": {
        "id": "Py1AglyqoHae"
      },
      "source": [
        "X_train,X_test,y_train,y_test=train_test_split(X,y,test_size=0.2)"
      ],
      "execution_count": 22,
      "outputs": []
    },
    {
      "cell_type": "code",
      "metadata": {
        "colab": {
          "base_uri": "https://localhost:8080/"
        },
        "id": "VZxqsEK-oilh",
        "outputId": "30cb87f7-f281-41cc-d656-0b5dfd180c55"
      },
      "source": [
        "X_train.shape, X_test.shape, y_train.shape, y_test.shape"
      ],
      "execution_count": 23,
      "outputs": [
        {
          "output_type": "execute_result",
          "data": {
            "text/plain": [
              "((712, 7), (179, 7), (712,), (179,))"
            ]
          },
          "metadata": {},
          "execution_count": 23
        }
      ]
    },
    {
      "cell_type": "code",
      "metadata": {
        "colab": {
          "base_uri": "https://localhost:8080/"
        },
        "id": "CWbl6rZ1orGU",
        "outputId": "fbf8544b-7bf3-4190-d02a-87166c6bf6c8"
      },
      "source": [
        "list1=[0.0001,.001,.01,.1,1,10,100,1000]\n",
        "for i in list1:\n",
        "    neigh = GaussianNB(var_smoothing=i)\n",
        "    neigh.fit(X_train, y_train)\n",
        "    print('alpha value',i)\n",
        "    print('-'*50)\n",
        "    y_pred_train=neigh.predict(X_train)\n",
        "    accuracy=accuracy_score(y_train, y_pred_train)\n",
        "    print('Accuracy for train data ',accuracy)\n",
        "    \n",
        "    y_pred_test=neigh.predict(X_test)\n",
        "    accuracy=accuracy_score(y_test, y_pred_test)\n",
        "    print('Accuracy for test data',accuracy)\n",
        "    print('-'*50)\n",
        "    print('-'*50)"
      ],
      "execution_count": 24,
      "outputs": [
        {
          "output_type": "stream",
          "name": "stdout",
          "text": [
            "alpha value 0.0001\n",
            "--------------------------------------------------\n",
            "Accuracy for train data  0.6657303370786517\n",
            "Accuracy for test data 0.6983240223463687\n",
            "--------------------------------------------------\n",
            "--------------------------------------------------\n",
            "alpha value 0.001\n",
            "--------------------------------------------------\n",
            "Accuracy for train data  0.6615168539325843\n",
            "Accuracy for test data 0.6927374301675978\n",
            "--------------------------------------------------\n",
            "--------------------------------------------------\n",
            "alpha value 0.01\n",
            "--------------------------------------------------\n",
            "Accuracy for train data  0.6502808988764045\n",
            "Accuracy for test data 0.6927374301675978\n",
            "--------------------------------------------------\n",
            "--------------------------------------------------\n",
            "alpha value 0.1\n",
            "--------------------------------------------------\n",
            "Accuracy for train data  0.6165730337078652\n",
            "Accuracy for test data 0.6703910614525139\n",
            "--------------------------------------------------\n",
            "--------------------------------------------------\n",
            "alpha value 1\n",
            "--------------------------------------------------\n",
            "Accuracy for train data  0.6039325842696629\n",
            "Accuracy for test data 0.664804469273743\n",
            "--------------------------------------------------\n",
            "--------------------------------------------------\n",
            "alpha value 10\n",
            "--------------------------------------------------\n",
            "Accuracy for train data  0.6039325842696629\n",
            "Accuracy for test data 0.664804469273743\n",
            "--------------------------------------------------\n",
            "--------------------------------------------------\n",
            "alpha value 100\n",
            "--------------------------------------------------\n",
            "Accuracy for train data  0.6039325842696629\n",
            "Accuracy for test data 0.664804469273743\n",
            "--------------------------------------------------\n",
            "--------------------------------------------------\n",
            "alpha value 1000\n",
            "--------------------------------------------------\n",
            "Accuracy for train data  0.6039325842696629\n",
            "Accuracy for test data 0.664804469273743\n",
            "--------------------------------------------------\n",
            "--------------------------------------------------\n"
          ]
        }
      ]
    },
    {
      "cell_type": "markdown",
      "metadata": {
        "id": "-6kQhKk_pCHU"
      },
      "source": [
        "**Evaluation**\n"
      ]
    },
    {
      "cell_type": "code",
      "metadata": {
        "id": "OdUkxjHqo6fX",
        "colab": {
          "base_uri": "https://localhost:8080/"
        },
        "outputId": "fee13b37-532a-4325-fc61-c65f588a1a22"
      },
      "source": [
        "    neigh = GaussianNB(var_smoothing=.01)\n",
        "    neigh.fit(X_train, y_train)\n",
        "    print('alpha value',.01)\n",
        "    print('*'*50)\n",
        "    y_pred_train=neigh.predict(X_train)\n",
        "    accuracy=accuracy_score(y_train, y_pred_train)\n",
        "    c1=confusion_matrix(y_train, y_pred_train)\n",
        "    f1score_train = f1_score(y_train, y_pred_train, average='weighted')\n",
        "    print('Accuracy for train data ',accuracy)\n",
        "    print('F1 score for train data ',f1score_train)\n",
        "\n",
        "    y_pred_test=neigh.predict(X_test)\n",
        "    accuracy=accuracy_score(y_test, y_pred_test)\n",
        "    c2=confusion_matrix(y_test, y_pred_test)\n",
        "    f1score_test = f1_score(y_test, y_pred_test, average='weighted')\n",
        "    print('Accuracy for test data',accuracy)\n",
        "    print('F1 score for test data ',f1score_test)\n",
        "\n",
        "    print('*'*50)\n",
        "    print('^'*50)"
      ],
      "execution_count": 25,
      "outputs": [
        {
          "output_type": "stream",
          "name": "stdout",
          "text": [
            "alpha value 0.01\n",
            "**************************************************\n",
            "Accuracy for train data  0.6502808988764045\n",
            "F1 score for train data  0.5690133738964116\n",
            "Accuracy for test data 0.6927374301675978\n",
            "F1 score for test data  0.6191598227220305\n",
            "**************************************************\n",
            "^^^^^^^^^^^^^^^^^^^^^^^^^^^^^^^^^^^^^^^^^^^^^^^^^^\n"
          ]
        }
      ]
    },
    {
      "cell_type": "code",
      "metadata": {
        "colab": {
          "base_uri": "https://localhost:8080/"
        },
        "id": "hq921_lTVBFj",
        "outputId": "ec213dba-56eb-4896-adc5-da0f00a07d40"
      },
      "source": [
        "print(classification_report(y_train, y_pred_train, target_names=['0','1']))"
      ],
      "execution_count": 26,
      "outputs": [
        {
          "output_type": "stream",
          "name": "stdout",
          "text": [
            "              precision    recall  f1-score   support\n",
            "\n",
            "           0       0.64      0.97      0.77       430\n",
            "           1       0.80      0.16      0.26       282\n",
            "\n",
            "    accuracy                           0.65       712\n",
            "   macro avg       0.72      0.57      0.52       712\n",
            "weighted avg       0.70      0.65      0.57       712\n",
            "\n"
          ]
        }
      ]
    },
    {
      "cell_type": "code",
      "metadata": {
        "colab": {
          "base_uri": "https://localhost:8080/"
        },
        "id": "aBnNWr4xVbKQ",
        "outputId": "a72631e0-3103-4169-92c4-749020eb94e7"
      },
      "source": [
        "print(classification_report(y_test, y_pred_test, target_names=['0','1']))"
      ],
      "execution_count": 27,
      "outputs": [
        {
          "output_type": "stream",
          "name": "stdout",
          "text": [
            "              precision    recall  f1-score   support\n",
            "\n",
            "           0       0.69      0.97      0.81       119\n",
            "           1       0.69      0.15      0.25        60\n",
            "\n",
            "    accuracy                           0.69       179\n",
            "   macro avg       0.69      0.56      0.53       179\n",
            "weighted avg       0.69      0.69      0.62       179\n",
            "\n"
          ]
        }
      ]
    },
    {
      "cell_type": "code",
      "metadata": {
        "colab": {
          "base_uri": "https://localhost:8080/",
          "height": 282
        },
        "id": "oyHHOEYSVh3k",
        "outputId": "d19e93bc-d4ed-448a-cb91-6dada90e9776"
      },
      "source": [
        "import seaborn as sns\n",
        "sns.heatmap(c1, annot=True)"
      ],
      "execution_count": 28,
      "outputs": [
        {
          "output_type": "execute_result",
          "data": {
            "text/plain": [
              "<matplotlib.axes._subplots.AxesSubplot at 0x7f8cdd114110>"
            ]
          },
          "metadata": {},
          "execution_count": 28
        },
        {
          "output_type": "display_data",
          "data": {
            "image/png": "[encoded data removed]",
            "text/plain": [
              "<Figure size 432x288 with 2 Axes>"
            ]
          },
          "metadata": {
            "needs_background": "light"
          }
        }
      ]
    },
    {
      "cell_type": "code",
      "metadata": {
        "colab": {
          "base_uri": "https://localhost:8080/",
          "height": 282
        },
        "id": "0RKc9lJYVl5l",
        "outputId": "1e30392a-7c16-4535-cd12-f8707c5c655f"
      },
      "source": [
        "import seaborn as sns\n",
        "sns.heatmap(c2, annot=True)"
      ],
      "execution_count": 29,
      "outputs": [
        {
          "output_type": "execute_result",
          "data": {
            "text/plain": [
              "<matplotlib.axes._subplots.AxesSubplot at 0x7f8cd482bb10>"
            ]
          },
          "metadata": {},
          "execution_count": 29
        },
        {
          "output_type": "display_data",
          "data": {
            "image/png": "[encoded data removed]",
            "text/plain": [
              "<Figure size 432x288 with 2 Axes>"
            ]
          },
          "metadata": {
            "needs_background": "light"
          }
        }
      ]
    },
    {
      "cell_type": "code",
      "metadata": {
        "colab": {
          "base_uri": "https://localhost:8080/",
          "height": 424
        },
        "id": "yLxu5NmRVsNo",
        "outputId": "973b06b8-d99c-4af0-8afa-941f268edd97"
      },
      "source": [
        "X_test"
      ],
      "execution_count": 30,
      "outputs": [
        {
          "output_type": "execute_result",
          "data": {
            "text/html": [
              "<div>\n",
              "<style scoped>\n",
              "    .dataframe tbody tr th:only-of-type {\n",
              "        vertical-align: middle;\n",
              "    }\n",
              "\n",
              "    .dataframe tbody tr th {\n",
              "        vertical-align: top;\n",
              "    }\n",
              "\n",
              "    .dataframe thead th {\n",
              "        text-align: right;\n",
              "    }\n",
              "</style>\n",
              "<table border=\"1\" class=\"dataframe\">\n",
              "  <thead>\n",
              "    <tr style=\"text-align: right;\">\n",
              "      <th></th>\n",
              "      <th>PassengerId</th>\n",
              "      <th>Pclass</th>\n",
              "      <th>Sex</th>\n",
              "      <th>Age</th>\n",
              "      <th>SibSp</th>\n",
              "      <th>Parch</th>\n",
              "      <th>Fare</th>\n",
              "    </tr>\n",
              "  </thead>\n",
              "  <tbody>\n",
              "    <tr>\n",
              "      <th>514</th>\n",
              "      <td>515</td>\n",
              "      <td>3</td>\n",
              "      <td>1</td>\n",
              "      <td>24.0</td>\n",
              "      <td>0</td>\n",
              "      <td>0</td>\n",
              "      <td>7.4958</td>\n",
              "    </tr>\n",
              "    <tr>\n",
              "      <th>489</th>\n",
              "      <td>490</td>\n",
              "      <td>3</td>\n",
              "      <td>1</td>\n",
              "      <td>9.0</td>\n",
              "      <td>1</td>\n",
              "      <td>1</td>\n",
              "      <td>15.9000</td>\n",
              "    </tr>\n",
              "    <tr>\n",
              "      <th>477</th>\n",
              "      <td>478</td>\n",
              "      <td>3</td>\n",
              "      <td>1</td>\n",
              "      <td>29.0</td>\n",
              "      <td>1</td>\n",
              "      <td>0</td>\n",
              "      <td>7.0458</td>\n",
              "    </tr>\n",
              "    <tr>\n",
              "      <th>365</th>\n",
              "      <td>366</td>\n",
              "      <td>3</td>\n",
              "      <td>1</td>\n",
              "      <td>30.0</td>\n",
              "      <td>0</td>\n",
              "      <td>0</td>\n",
              "      <td>7.2500</td>\n",
              "    </tr>\n",
              "    <tr>\n",
              "      <th>782</th>\n",
              "      <td>783</td>\n",
              "      <td>1</td>\n",
              "      <td>1</td>\n",
              "      <td>29.0</td>\n",
              "      <td>0</td>\n",
              "      <td>0</td>\n",
              "      <td>30.0000</td>\n",
              "    </tr>\n",
              "    <tr>\n",
              "      <th>...</th>\n",
              "      <td>...</td>\n",
              "      <td>...</td>\n",
              "      <td>...</td>\n",
              "      <td>...</td>\n",
              "      <td>...</td>\n",
              "      <td>...</td>\n",
              "      <td>...</td>\n",
              "    </tr>\n",
              "    <tr>\n",
              "      <th>649</th>\n",
              "      <td>650</td>\n",
              "      <td>3</td>\n",
              "      <td>0</td>\n",
              "      <td>23.0</td>\n",
              "      <td>0</td>\n",
              "      <td>0</td>\n",
              "      <td>7.5500</td>\n",
              "    </tr>\n",
              "    <tr>\n",
              "      <th>350</th>\n",
              "      <td>351</td>\n",
              "      <td>3</td>\n",
              "      <td>1</td>\n",
              "      <td>23.0</td>\n",
              "      <td>0</td>\n",
              "      <td>0</td>\n",
              "      <td>9.2250</td>\n",
              "    </tr>\n",
              "    <tr>\n",
              "      <th>93</th>\n",
              "      <td>94</td>\n",
              "      <td>3</td>\n",
              "      <td>1</td>\n",
              "      <td>26.0</td>\n",
              "      <td>1</td>\n",
              "      <td>2</td>\n",
              "      <td>20.5750</td>\n",
              "    </tr>\n",
              "    <tr>\n",
              "      <th>424</th>\n",
              "      <td>425</td>\n",
              "      <td>3</td>\n",
              "      <td>1</td>\n",
              "      <td>18.0</td>\n",
              "      <td>1</td>\n",
              "      <td>1</td>\n",
              "      <td>20.2125</td>\n",
              "    </tr>\n",
              "    <tr>\n",
              "      <th>244</th>\n",
              "      <td>245</td>\n",
              "      <td>3</td>\n",
              "      <td>1</td>\n",
              "      <td>30.0</td>\n",
              "      <td>0</td>\n",
              "      <td>0</td>\n",
              "      <td>7.2250</td>\n",
              "    </tr>\n",
              "  </tbody>\n",
              "</table>\n",
              "<p>179 rows × 7 columns</p>\n",
              "</div>"
            ],
            "text/plain": [
              "     PassengerId  Pclass  Sex   Age  SibSp  Parch     Fare\n",
              "514          515       3    1  24.0      0      0   7.4958\n",
              "489          490       3    1   9.0      1      1  15.9000\n",
              "477          478       3    1  29.0      1      0   7.0458\n",
              "365          366       3    1  30.0      0      0   7.2500\n",
              "782          783       1    1  29.0      0      0  30.0000\n",
              "..           ...     ...  ...   ...    ...    ...      ...\n",
              "649          650       3    0  23.0      0      0   7.5500\n",
              "350          351       3    1  23.0      0      0   9.2250\n",
              "93            94       3    1  26.0      1      2  20.5750\n",
              "424          425       3    1  18.0      1      1  20.2125\n",
              "244          245       3    1  30.0      0      0   7.2250\n",
              "\n",
              "[179 rows x 7 columns]"
            ]
          },
          "metadata": {},
          "execution_count": 30
        }
      ]
    },
    {
      "cell_type": "code",
      "metadata": {
        "colab": {
          "base_uri": "https://localhost:8080/"
        },
        "id": "cYCBm_mjVy03",
        "outputId": "45ae362d-4963-4525-bfa7-0ae6547ba43e"
      },
      "source": [
        "neigh.predict_proba(X_test)"
      ],
      "execution_count": 31,
      "outputs": [
        {
          "output_type": "execute_result",
          "data": {
            "text/plain": [
              "array([[7.39820688e-01, 2.60179312e-01],\n",
              "       [7.27183585e-01, 2.72816415e-01],\n",
              "       [7.43085479e-01, 2.56914521e-01],\n",
              "       [7.44867374e-01, 2.55132626e-01],\n",
              "       [7.28054412e-01, 2.71945588e-01],\n",
              "       [7.48161536e-01, 2.51838464e-01],\n",
              "       [7.42506188e-01, 2.57493812e-01],\n",
              "       [7.31959462e-01, 2.68040538e-01],\n",
              "       [7.45564120e-01, 2.54435880e-01],\n",
              "       [7.37859602e-01, 2.62140398e-01],\n",
              "       [7.35522974e-01, 2.64477026e-01],\n",
              "       [7.45946351e-01, 2.54053649e-01],\n",
              "       [7.38661210e-01, 2.61338790e-01],\n",
              "       [7.44998118e-01, 2.55001882e-01],\n",
              "       [7.43708404e-01, 2.56291596e-01],\n",
              "       [7.52994580e-01, 2.47005420e-01],\n",
              "       [5.64911359e-01, 4.35088641e-01],\n",
              "       [4.55586825e-02, 9.54441318e-01],\n",
              "       [3.06660188e-01, 6.93339812e-01],\n",
              "       [7.47085165e-01, 2.52914835e-01],\n",
              "       [7.43776766e-01, 2.56223234e-01],\n",
              "       [7.54303870e-01, 2.45696130e-01],\n",
              "       [7.14508697e-01, 2.85491303e-01],\n",
              "       [7.42008050e-01, 2.57991950e-01],\n",
              "       [7.50498250e-01, 2.49501750e-01],\n",
              "       [7.30660637e-01, 2.69339363e-01],\n",
              "       [7.37294324e-01, 2.62705676e-01],\n",
              "       [7.40727161e-01, 2.59272839e-01],\n",
              "       [7.40798401e-01, 2.59201599e-01],\n",
              "       [6.64548279e-01, 3.35451721e-01],\n",
              "       [7.39391568e-01, 2.60608432e-01],\n",
              "       [7.40677742e-01, 2.59322258e-01],\n",
              "       [7.35379243e-01, 2.64620757e-01],\n",
              "       [7.49256178e-01, 2.50743822e-01],\n",
              "       [7.44046012e-01, 2.55953988e-01],\n",
              "       [7.42537287e-01, 2.57462713e-01],\n",
              "       [7.34258748e-01, 2.65741252e-01],\n",
              "       [7.35468872e-01, 2.64531128e-01],\n",
              "       [7.48802100e-01, 2.51197900e-01],\n",
              "       [7.49826142e-01, 2.50173858e-01],\n",
              "       [6.91036784e-01, 3.08963216e-01],\n",
              "       [8.52555516e-04, 9.99147444e-01],\n",
              "       [6.52371732e-01, 3.47628268e-01],\n",
              "       [7.47569506e-01, 2.52430494e-01],\n",
              "       [7.38964991e-01, 2.61035009e-01],\n",
              "       [7.39244273e-01, 2.60755727e-01],\n",
              "       [7.45832494e-01, 2.54167506e-01],\n",
              "       [7.16141327e-01, 2.83858673e-01],\n",
              "       [7.29756268e-01, 2.70243732e-01],\n",
              "       [7.35220048e-01, 2.64779952e-01],\n",
              "       [1.17487946e-01, 8.82512054e-01],\n",
              "       [7.46142682e-01, 2.53857318e-01],\n",
              "       [7.36211320e-01, 2.63788680e-01],\n",
              "       [7.47579049e-01, 2.52420951e-01],\n",
              "       [7.21692385e-01, 2.78307615e-01],\n",
              "       [7.13095467e-01, 2.86904533e-01],\n",
              "       [7.42941489e-01, 2.57058511e-01],\n",
              "       [7.46291818e-01, 2.53708182e-01],\n",
              "       [7.34168762e-01, 2.65831238e-01],\n",
              "       [7.19203634e-01, 2.80796366e-01],\n",
              "       [7.49176972e-01, 2.50823028e-01],\n",
              "       [7.16630977e-01, 2.83369023e-01],\n",
              "       [7.46744516e-01, 2.53255484e-01],\n",
              "       [2.78504988e-01, 7.21495012e-01],\n",
              "       [7.42769837e-01, 2.57230163e-01],\n",
              "       [7.46758918e-01, 2.53241082e-01],\n",
              "       [7.35125437e-01, 2.64874563e-01],\n",
              "       [7.37398538e-01, 2.62601462e-01],\n",
              "       [7.27305759e-01, 2.72694241e-01],\n",
              "       [7.45564102e-01, 2.54435898e-01],\n",
              "       [7.41148854e-01, 2.58851146e-01],\n",
              "       [7.45191218e-01, 2.54808782e-01],\n",
              "       [7.59250295e-01, 2.40749705e-01],\n",
              "       [6.97979117e-02, 9.30202088e-01],\n",
              "       [7.50659056e-01, 2.49340944e-01],\n",
              "       [7.44838341e-01, 2.55161659e-01],\n",
              "       [6.91505565e-01, 3.08494435e-01],\n",
              "       [7.56108160e-01, 2.43891840e-01],\n",
              "       [6.52208833e-01, 3.47791167e-01],\n",
              "       [4.45010380e-22, 1.00000000e+00],\n",
              "       [7.28913791e-01, 2.71086209e-01],\n",
              "       [6.55486098e-01, 3.44513902e-01],\n",
              "       [7.34880120e-01, 2.65119880e-01],\n",
              "       [7.33787708e-01, 2.66212292e-01],\n",
              "       [7.43475725e-01, 2.56524275e-01],\n",
              "       [7.17680285e-01, 2.82319715e-01],\n",
              "       [7.47391916e-01, 2.52608084e-01],\n",
              "       [7.37419101e-01, 2.62580899e-01],\n",
              "       [7.26158382e-01, 2.73841618e-01],\n",
              "       [7.41412127e-01, 2.58587873e-01],\n",
              "       [7.52365738e-01, 2.47634262e-01],\n",
              "       [7.39971674e-01, 2.60028326e-01],\n",
              "       [7.37623369e-01, 2.62376631e-01],\n",
              "       [6.57980051e-01, 3.42019949e-01],\n",
              "       [7.38485781e-01, 2.61514219e-01],\n",
              "       [1.10948829e-01, 8.89051171e-01],\n",
              "       [6.90188105e-01, 3.09811895e-01],\n",
              "       [7.46429957e-01, 2.53570043e-01],\n",
              "       [7.39911039e-01, 2.60088961e-01],\n",
              "       [7.41445102e-01, 2.58554898e-01],\n",
              "       [7.35503396e-01, 2.64496604e-01],\n",
              "       [8.35977696e-06, 9.99991640e-01],\n",
              "       [7.41148817e-01, 2.58851183e-01],\n",
              "       [7.45601844e-01, 2.54398156e-01],\n",
              "       [7.47460168e-01, 2.52539832e-01],\n",
              "       [2.61953276e-01, 7.38046724e-01],\n",
              "       [7.38197063e-01, 2.61802937e-01],\n",
              "       [7.45308177e-01, 2.54691823e-01],\n",
              "       [7.44241752e-01, 2.55758248e-01],\n",
              "       [7.44457401e-01, 2.55542599e-01],\n",
              "       [7.46362068e-01, 2.53637932e-01],\n",
              "       [6.93063917e-01, 3.06936083e-01],\n",
              "       [7.54827430e-01, 2.45172570e-01],\n",
              "       [7.37902232e-01, 2.62097768e-01],\n",
              "       [7.52331310e-01, 2.47668690e-01],\n",
              "       [7.45224876e-01, 2.54775124e-01],\n",
              "       [7.48652837e-01, 2.51347163e-01],\n",
              "       [7.49585841e-01, 2.50414159e-01],\n",
              "       [7.33957937e-01, 2.66042063e-01],\n",
              "       [6.22633648e-01, 3.77366352e-01],\n",
              "       [7.31062684e-01, 2.68937316e-01],\n",
              "       [1.10626476e-01, 8.89373524e-01],\n",
              "       [7.35817554e-01, 2.64182446e-01],\n",
              "       [7.45757742e-01, 2.54242258e-01],\n",
              "       [7.55430299e-01, 2.44569701e-01],\n",
              "       [7.11028218e-01, 2.88971782e-01],\n",
              "       [7.44349786e-01, 2.55650214e-01],\n",
              "       [7.42326773e-01, 2.57673227e-01],\n",
              "       [7.41699969e-01, 2.58300031e-01],\n",
              "       [7.38718749e-01, 2.61281251e-01],\n",
              "       [7.25250918e-01, 2.74749082e-01],\n",
              "       [7.32269418e-01, 2.67730582e-01],\n",
              "       [7.19236280e-01, 2.80763720e-01],\n",
              "       [7.45631461e-01, 2.54368539e-01],\n",
              "       [3.78548232e-04, 9.99621452e-01],\n",
              "       [7.48723360e-01, 2.51276640e-01],\n",
              "       [7.41978277e-01, 2.58021723e-01],\n",
              "       [7.34898685e-01, 2.65101315e-01],\n",
              "       [7.35450742e-01, 2.64549258e-01],\n",
              "       [7.38657464e-01, 2.61342536e-01],\n",
              "       [7.40271387e-01, 2.59728613e-01],\n",
              "       [7.18748170e-01, 2.81251830e-01],\n",
              "       [6.76524298e-01, 3.23475702e-01],\n",
              "       [7.33986578e-01, 2.66013422e-01],\n",
              "       [7.44143042e-01, 2.55856958e-01],\n",
              "       [5.80862621e-01, 4.19137379e-01],\n",
              "       [7.44609667e-01, 2.55390333e-01],\n",
              "       [7.45319731e-01, 2.54680269e-01],\n",
              "       [7.42282644e-01, 2.57717356e-01],\n",
              "       [7.31711305e-01, 2.68288695e-01],\n",
              "       [7.50289600e-01, 2.49710400e-01],\n",
              "       [7.10991819e-01, 2.89008181e-01],\n",
              "       [6.48767858e-01, 3.51232142e-01],\n",
              "       [7.53223719e-01, 2.46776281e-01],\n",
              "       [7.49816545e-01, 2.50183455e-01],\n",
              "       [7.27593336e-01, 2.72406664e-01],\n",
              "       [5.87535660e-01, 4.12464340e-01],\n",
              "       [7.41868466e-01, 2.58131534e-01],\n",
              "       [7.48363070e-01, 2.51636930e-01],\n",
              "       [7.33666269e-01, 2.66333731e-01],\n",
              "       [7.44018400e-01, 2.55981600e-01],\n",
              "       [7.52073652e-01, 2.47926348e-01],\n",
              "       [5.52950861e-01, 4.47049139e-01],\n",
              "       [3.17886194e-01, 6.82113806e-01],\n",
              "       [7.68220567e-01, 2.31779433e-01],\n",
              "       [7.51198263e-01, 2.48801737e-01],\n",
              "       [7.45731821e-01, 2.54268179e-01],\n",
              "       [7.42364520e-01, 2.57635480e-01],\n",
              "       [7.44952887e-01, 2.55047113e-01],\n",
              "       [7.42756013e-01, 2.57243987e-01],\n",
              "       [7.54321799e-01, 2.45678201e-01],\n",
              "       [7.60671268e-01, 2.39328732e-01],\n",
              "       [7.47406553e-01, 2.52593447e-01],\n",
              "       [7.46062916e-01, 2.53937084e-01],\n",
              "       [7.39339289e-01, 2.60660711e-01],\n",
              "       [7.40876468e-01, 2.59123532e-01],\n",
              "       [7.44729663e-01, 2.55270337e-01],\n",
              "       [7.31684483e-01, 2.68315517e-01],\n",
              "       [7.47276159e-01, 2.52723841e-01]])"
            ]
          },
          "metadata": {},
          "execution_count": 31
        }
      ]
    },
    {
      "cell_type": "code",
      "metadata": {
        "id": "tCvxfoy4V2Oq"
      },
      "source": [
        ""
      ],
      "execution_count": null,
      "outputs": []
    }
  ]
}